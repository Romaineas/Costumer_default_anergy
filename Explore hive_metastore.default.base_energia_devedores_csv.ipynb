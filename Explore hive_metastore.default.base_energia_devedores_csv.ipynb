{
 "cells": [
  {
   "cell_type": "markdown",
   "metadata": {
    "application/vnd.databricks.v1+cell": {
     "cellMetadata": {},
     "inputWidgets": {},
     "nuid": "39a6e90a-7805-405c-8f49-8a2761a7c840",
     "showTitle": false,
     "tableResultSettingsMap": {},
     "title": ""
    }
   },
   "source": [
    "# BASE DE DADOS DE UM NEGÓCIO EM ENERGIA E CONSUMO\n",
    "\n",
    "* BASE DE CLIENTES SEU VALORES FATURADOS E PENDÊNCIAS\n",
    "* Foi feita uma analise preditiva para previsão das dúvidas apresentadas\n",
    "* Foi analisado posteriomente uma analise descritiva para sugestão da equipe e gestão \n",
    "\n",
    "projeto Análise de dados # ROMAÍNE SANTOS"
   ]
  },
  {
   "cell_type": "code",
   "execution_count": 0,
   "metadata": {
    "application/vnd.databricks.v1+cell": {
     "cellMetadata": {
      "byteLimit": 2048000,
      "implicitDf": true,
      "rowLimit": 10000
     },
     "inputWidgets": {},
     "nuid": "31bd8966-17a9-4503-9840-ab01e502a9a2",
     "showTitle": false,
     "tableResultSettingsMap": {},
     "title": ""
    }
   },
   "outputs": [
    {
     "output_type": "display_data",
     "data": {
      "text/html": [
       "<style scoped>\n",
       "  .table-result-container {\n",
       "    max-height: 300px;\n",
       "    overflow: auto;\n",
       "  }\n",
       "  table, th, td {\n",
       "    border: 1px solid black;\n",
       "    border-collapse: collapse;\n",
       "  }\n",
       "  th, td {\n",
       "    padding: 5px;\n",
       "  }\n",
       "  th {\n",
       "    text-align: left;\n",
       "  }\n",
       "</style><div class='table-result-container'><table class='table-result'><thead style='background-color: white'><tr><th>competencia</th><th>id_cliente</th><th>valor_fatura</th><th>tipo_cliente</th><th>consumo_energia_kwh</th><th>status_fatura</th><th>data_vencimento</th></tr></thead><tbody><tr><td>2021-08</td><td>pdzvVxt0sTz+bKaCSSKDTA==</td><td>12,32</td><td>PF</td><td>15</td><td>atrasada</td><td>18/09/2021</td></tr><tr><td>2021-07</td><td>ZizzQB2y3WeC8WFKlHITYA==</td><td>14,78</td><td>PF</td><td>18</td><td>atrasada</td><td>22/08/2021</td></tr><tr><td>2021-08</td><td>bCs+mH77cGboje62bsm9mA==</td><td>27,92</td><td>PJ</td><td>34</td><td>paga</td><td>22/09/2021</td></tr><tr><td>2021-08</td><td>8LM+iMxb1QpQ3ZMgsrFguQ==</td><td>27,92</td><td>PJ</td><td>34</td><td>paga</td><td>22/09/2021</td></tr><tr><td>2021-08</td><td>M0tjDy+dobkddZ+QXbf5nQ==</td><td>27,92</td><td>PJ</td><td>34</td><td>paga</td><td>22/09/2021</td></tr><tr><td>2021-07</td><td>AHNSEt3bgZuUVvvP1G+TJQ==</td><td>29,56</td><td>PF</td><td>36</td><td>paga</td><td>05/08/2021</td></tr><tr><td>2021-07</td><td>+BSr3N4YHyx5OwxjK/EEUg==</td><td>29,56</td><td>PF</td><td>36</td><td>paga</td><td>11/08/2021</td></tr><tr><td>2021-07</td><td>06BNujsLSeJLF8LCu5LA/g==</td><td>29,56</td><td>PF</td><td>36</td><td>atrasada</td><td>23/07/2021</td></tr><tr><td>2021-07</td><td>gjBF5qPOPd3xWAVY7Pzi5g==</td><td>30,38</td><td>PF</td><td>37</td><td>paga</td><td>06/08/2021</td></tr><tr><td>2021-08</td><td>gjBF5qPOPd3xWAVY7Pzi5g==</td><td>32,02</td><td>PF</td><td>39</td><td>paga</td><td>06/09/2021</td></tr><tr><td>2021-07</td><td>HZb69Y3+u/PH7MfRsBp/kQ==</td><td>40,23</td><td>PF</td><td>49</td><td>paga</td><td>22/08/2021</td></tr><tr><td>2021-07</td><td>puE2imxTzK+1SKFw8HvSeA==</td><td>43,52</td><td>PF</td><td>53</td><td>atrasada</td><td>22/08/2021</td></tr><tr><td>2021-07</td><td>RGdwwu8pN0zAIkVjNRlAYQ==</td><td>43,52</td><td>PF</td><td>53</td><td>paga</td><td>27/07/2021</td></tr><tr><td>2021-07</td><td>HfXuO6yaeRCdRL4oKiWhaw==</td><td>43,52</td><td>PF</td><td>53</td><td>paga</td><td>18/08/2021</td></tr><tr><td>2021-07</td><td>d6pLfG5+4f0YMOrv98AUPQ==</td><td>43,52</td><td>PF</td><td>53</td><td>paga</td><td>11/08/2021</td></tr><tr><td>2021-07</td><td>M3bTLXsc3KJtbJjBeaGfhA==</td><td>43,52</td><td>PF</td><td>53</td><td>paga</td><td>11/08/2021</td></tr><tr><td>2021-07</td><td>b6KQrhMi1sJoM3RSLqPLCw==</td><td>43,52</td><td>PF</td><td>53</td><td>paga</td><td>11/08/2021</td></tr><tr><td>2021-07</td><td>/lFJ2pY/W9mnIG0k1OtgOg==</td><td>43,52</td><td>PF</td><td>53</td><td>paga</td><td>17/08/2021</td></tr><tr><td>2021-07</td><td>+E8fQGYekj08B6VOJmb65g==</td><td>44,34</td><td>PF</td><td>54</td><td>paga</td><td>08/08/2021</td></tr><tr><td>2021-08</td><td>AHNSEt3bgZuUVvvP1G+TJQ==</td><td>47,62</td><td>PF</td><td>58</td><td>paga</td><td>05/09/2021</td></tr><tr><td>2021-07</td><td>h8MyyBd2js7V2KMkb+FSYA==</td><td>50,09</td><td>PF</td><td>61</td><td>paga</td><td>27/07/2021</td></tr><tr><td>2021-08</td><td>ZizzQB2y3WeC8WFKlHITYA==</td><td>53,37</td><td>PF</td><td>65</td><td>atrasada</td><td>22/09/2021</td></tr><tr><td>2021-08</td><td>g+Hzn9pJLWuGPaSYUav4VQ==</td><td>53,37</td><td>PF</td><td>65</td><td>paga</td><td>10/09/2021</td></tr><tr><td>2021-08</td><td>82dUvXVazTDgFQWO0S6+hQ==</td><td>54,19</td><td>PJ</td><td>66</td><td>paga</td><td>22/09/2021</td></tr><tr><td>2021-08</td><td>jvMPVum7ADO5VY3M4oXJxg==</td><td>54,19</td><td>PF</td><td>66</td><td>paga</td><td>24/09/2021</td></tr><tr><td>2021-07</td><td>DTTS7GkxaBYA4YDa4tByFQ==</td><td>56,66</td><td>PF</td><td>69</td><td>paga</td><td>06/08/2021</td></tr><tr><td>2021-07</td><td>MoFqTuP2LaS7TtL1TNW1Vw==</td><td>56,66</td><td>PF</td><td>69</td><td>paga</td><td>27/07/2021</td></tr><tr><td>2021-07</td><td>QgJoQ7pWq8Jhqymr5gmYGw==</td><td>56,66</td><td>PF</td><td>69</td><td>paga</td><td>08/08/2021</td></tr><tr><td>2021-07</td><td>HVltQOhjud5PMHcM/5Qrmw==</td><td>56,66</td><td>PF</td><td>69</td><td>paga</td><td>27/07/2021</td></tr><tr><td>2021-07</td><td>lo7dhMYBgeoyK1AastcSPg==</td><td>56,66</td><td>PF</td><td>69</td><td>paga</td><td>10/08/2021</td></tr><tr><td>2021-07</td><td>QkMST/pLik6WesQCSJaYfw==</td><td>56,66</td><td>PF</td><td>69</td><td>paga</td><td>11/08/2021</td></tr><tr><td>2021-07</td><td>Jxzb78OlaZydIrDOvDQW9A==</td><td>56,66</td><td>PF</td><td>69</td><td>paga</td><td>11/08/2021</td></tr><tr><td>2021-08</td><td>AiOnAxoURmJ0O+bhtv23mQ==</td><td>57,48</td><td>PF</td><td>70</td><td>atrasada</td><td>27/09/2021</td></tr><tr><td>2021-08</td><td>/YTEmsCL8fPWWCX2SBE+3g==</td><td>63,22</td><td>PF</td><td>77</td><td>atrasada</td><td>11/09/2021</td></tr><tr><td>2021-08</td><td>b8+FKOFiizV0CKerZdYlqA==</td><td>64,05</td><td>PF</td><td>78</td><td>atrasada</td><td>11/09/2021</td></tr><tr><td>2021-08</td><td>hlAosPv0Ns7f6T+meiofSg==</td><td>65,69</td><td>PF</td><td>80</td><td>atrasada</td><td>06/09/2021</td></tr><tr><td>2021-08</td><td>+BSr3N4YHyx5OwxjK/EEUg==</td><td>66,51</td><td>PF</td><td>81</td><td>paga</td><td>17/09/2021</td></tr><tr><td>2021-07</td><td>6qVedCTt9cmNiYkd/eF9CQ==</td><td>69,79</td><td>PF</td><td>85</td><td>paga</td><td>04/08/2021</td></tr><tr><td>2021-07</td><td>dEdCFYRoQQdIJtc/O3pTUA==</td><td>70,61</td><td>PF</td><td>86</td><td>paga</td><td>06/08/2021</td></tr><tr><td>2021-07</td><td>6CDyEKgtCmg/UFE/f1iZkg==</td><td>70,61</td><td>PF</td><td>86</td><td>paga</td><td>01/08/2021</td></tr><tr><td>2021-07</td><td>kNw+plZCDVl072huBHAq/Q==</td><td>70,61</td><td>PF</td><td>86</td><td>paga</td><td>01/08/2021</td></tr><tr><td>2021-07</td><td>IxS0HYS+RdQVstzQnQjjNg==</td><td>70,61</td><td>PF</td><td>86</td><td>paga</td><td>04/08/2021</td></tr><tr><td>2021-07</td><td>+/wBRkQ5NaXnKzihMl4GGw==</td><td>70,61</td><td>PF</td><td>86</td><td>paga</td><td>09/08/2021</td></tr><tr><td>2021-07</td><td>hKm4b48Uu4/Wz2h9xG8ILA==</td><td>70,61</td><td>PF</td><td>86</td><td>atrasada</td><td>17/08/2021</td></tr><tr><td>2021-07</td><td>x30nHgTZWDSFEC9asleGUg==</td><td>70,61</td><td>PF</td><td>86</td><td>paga</td><td>04/08/2021</td></tr><tr><td>2021-07</td><td>6hPumClQCNlUSLzgYGyRyA==</td><td>70,61</td><td>PF</td><td>86</td><td>paga</td><td>10/08/2021</td></tr><tr><td>2021-07</td><td>GUzHlfbr0TJ0BIvZhufOfA==</td><td>70,61</td><td>PF</td><td>86</td><td>paga</td><td>16/08/2021</td></tr><tr><td>2021-07</td><td>HKDoob8XWYHkgX5f9GoMrw==</td><td>70,61</td><td>PF</td><td>86</td><td>paga</td><td>22/07/2021</td></tr><tr><td>2021-07</td><td>mJ/srCit/PlQIzR6jcPXlA==</td><td>70,61</td><td>PF</td><td>86</td><td>atrasada</td><td>10/08/2021</td></tr><tr><td>2021-07</td><td>TN7XLk8DZoOaFJo2rCO+dQ==</td><td>70,61</td><td>PF</td><td>86</td><td>paga</td><td>27/08/2021</td></tr><tr><td>2021-07</td><td>ZpZFH4nyD62VYk1tprvDaQ==</td><td>70,61</td><td>PF</td><td>86</td><td>paga</td><td>17/08/2021</td></tr><tr><td>2021-07</td><td>Sp1CJHNIt0vmnWrxIL4A+Q==</td><td>70,61</td><td>PF</td><td>86</td><td>paga</td><td>06/08/2021</td></tr><tr><td>2021-07</td><td>vi8NLEhYjRPhFMDTBcy9mg==</td><td>70,61</td><td>PF</td><td>86</td><td>paga</td><td>11/08/2021</td></tr><tr><td>2021-08</td><td>3CTThNJ7ZfZtUGO/4wUrEQ==</td><td>70,61</td><td>PF</td><td>86</td><td>paga</td><td>03/09/2021</td></tr><tr><td>2021-07</td><td>1GZjSYwr02ilzEtWvoXYCA==</td><td>73,08</td><td>PF</td><td>89</td><td>paga</td><td>05/08/2021</td></tr><tr><td>2021-07</td><td>is7+EcidED1cUGcVIPij0Q==</td><td>73,9</td><td>PF</td><td>90</td><td>paga</td><td>25/07/2021</td></tr><tr><td>2021-08</td><td>d9o8rveLw7X/do0yqBHb4w==</td><td>73,9</td><td>PF</td><td>90</td><td>paga</td><td>17/09/2021</td></tr><tr><td>2021-08</td><td>puE2imxTzK+1SKFw8HvSeA==</td><td>73,9</td><td>PF</td><td>90</td><td>atrasada</td><td>22/09/2021</td></tr><tr><td>2021-08</td><td>ONWuc/pobBnSSI0kUE5CRw==</td><td>76,36</td><td>PF</td><td>93</td><td>paga</td><td>01/09/2021</td></tr><tr><td>2021-08</td><td>GL+UPKMs+xEe0I6QsSaOxw==</td><td>78,83</td><td>PJ</td><td>96</td><td>paga</td><td>17/09/2021</td></tr><tr><td>2021-08</td><td>tUF1uorNJG3dbf5+fNnRMA==</td><td>79,65</td><td>PF</td><td>97</td><td>atrasada</td><td>17/09/2021</td></tr><tr><td>2021-08</td><td>cWJHZ/FspoF+l3s35SdXRQ==</td><td>81,29</td><td>PF</td><td>99</td><td>atrasada</td><td>11/09/2021</td></tr><tr><td>2021-08</td><td>06BNujsLSeJLF8LCu5LA/g==</td><td>81,29</td><td>PF</td><td>99</td><td>atrasada</td><td>23/08/2021</td></tr><tr><td>2021-08</td><td>XBbk8R4M72UCd83yTFTjCQ==</td><td>81,29</td><td>PF</td><td>99</td><td>paga</td><td>11/09/2021</td></tr><tr><td>2021-08</td><td>SGaWn91thtSp2OB1gjE3+w==</td><td>81,29</td><td>PF</td><td>99</td><td>atrasada</td><td>23/08/2021</td></tr><tr><td>2021-08</td><td>b6KQrhMi1sJoM3RSLqPLCw==</td><td>82,93</td><td>PF</td><td>101</td><td>paga</td><td>11/09/2021</td></tr><tr><td>2021-07</td><td>m6setGOl8+0O557JhpaLkQ==</td><td>84,57</td><td>PF</td><td>103</td><td>paga</td><td>18/08/2021</td></tr><tr><td>2021-07</td><td>VvbDG4ofu0IRb3c1xTpaww==</td><td>85,39</td><td>PF</td><td>104</td><td>paga</td><td>14/08/2021</td></tr><tr><td>2021-07</td><td>XtH/YeoPsdw5VVyvYoMqHA==</td><td>85,39</td><td>PF</td><td>104</td><td>paga</td><td>05/08/2021</td></tr><tr><td>2021-07</td><td>UsHK7PgOieW38yp1JepzOQ==</td><td>85,39</td><td>PF</td><td>104</td><td>paga</td><td>13/08/2021</td></tr><tr><td>2021-07</td><td>EzIWP8YLRZ0lkZK5uxaZYA==</td><td>85,39</td><td>PF</td><td>104</td><td>paga</td><td>06/08/2021</td></tr><tr><td>2021-07</td><td>VKD8G5NshQroaIPHqFe9kA==</td><td>85,39</td><td>PF</td><td>104</td><td>paga</td><td>02/08/2021</td></tr><tr><td>2021-07</td><td>COYG7vGPidIY9syR8J5atg==</td><td>85,39</td><td>PF</td><td>104</td><td>paga</td><td>11/09/2021</td></tr><tr><td>2021-07</td><td>mGk7wCFMz0DBspZoRQ4UYg==</td><td>85,39</td><td>PF</td><td>104</td><td>paga</td><td>06/08/2021</td></tr><tr><td>2021-07</td><td>hHU9zMo7tuHcFPFqpwttjw==</td><td>85,39</td><td>PF</td><td>104</td><td>paga</td><td>03/08/2021</td></tr><tr><td>2021-07</td><td>b77jb6PdEw/AuGtn0xMCGw==</td><td>85,39</td><td>PF</td><td>104</td><td>paga</td><td>11/08/2021</td></tr><tr><td>2021-07</td><td>vpOmlK02ZEl1somitY9o/g==</td><td>85,39</td><td>PF</td><td>104</td><td>atrasada</td><td>04/08/2021</td></tr><tr><td>2021-07</td><td>acoT2u5mHURKRxUAxI7mow==</td><td>85,39</td><td>PF</td><td>104</td><td>atrasada</td><td>27/08/2021</td></tr><tr><td>2021-07</td><td>Q11uqc9PCFAjT4Yrh6Ah0Q==</td><td>85,39</td><td>PF</td><td>104</td><td>paga</td><td>14/08/2021</td></tr><tr><td>2021-07</td><td>jzGdiIC6wSH+q0XL6pALzw==</td><td>85,39</td><td>PF</td><td>104</td><td>paga</td><td>22/08/2021</td></tr><tr><td>2021-07</td><td>cnSJ9E2i1guqHe8XH5/Ksg==</td><td>85,39</td><td>PF</td><td>104</td><td>atrasada</td><td>17/08/2021</td></tr><tr><td>2021-07</td><td>3Q1MDRbEREGqzPqvoQVTPg==</td><td>85,39</td><td>PF</td><td>104</td><td>atrasada</td><td>27/07/2021</td></tr><tr><td>2021-07</td><td>rWh2s/k2UHNy/7BuGcyMsQ==</td><td>85,39</td><td>PF</td><td>104</td><td>paga</td><td>14/08/2021</td></tr><tr><td>2021-07</td><td>fYYTG/SyndyshnC+82lKzw==</td><td>85,39</td><td>PF</td><td>104</td><td>paga</td><td>18/08/2021</td></tr><tr><td>2021-07</td><td>0huwKrYwGsmRNdMXQAE2jQ==</td><td>85,39</td><td>PF</td><td>104</td><td>atrasada</td><td>09/08/2021</td></tr><tr><td>2021-07</td><td>YoAWAndesF68Ftz1poolOQ==</td><td>85,39</td><td>PF</td><td>104</td><td>paga</td><td>17/08/2021</td></tr><tr><td>2021-07</td><td>T75RwUdKAiSS9m9WAP4HYA==</td><td>85,39</td><td>PF</td><td>104</td><td>paga</td><td>06/08/2021</td></tr><tr><td>2021-08</td><td>+/wBRkQ5NaXnKzihMl4GGw==</td><td>85,39</td><td>PF</td><td>104</td><td>paga</td><td>10/09/2021</td></tr><tr><td>2021-08</td><td>LKJkrZB+HBr9Ckv3M05Q6Q==</td><td>86,22</td><td>PF</td><td>105</td><td>atrasada</td><td>11/09/2021</td></tr><tr><td>2021-08</td><td>e0WtH0FnTQiry0DBkO5paA==</td><td>87,86</td><td>PF</td><td>107</td><td>atrasada</td><td>17/09/2021</td></tr><tr><td>2021-08</td><td>xeqzDrCg4ctQQdgifzziNg==</td><td>87,86</td><td>PF</td><td>107</td><td>atrasada</td><td>09/09/2021</td></tr><tr><td>2021-08</td><td>XlNaMk0g5BEiFxUg8T2ohg==</td><td>87,86</td><td>PF</td><td>107</td><td>atrasada</td><td>11/09/2021</td></tr><tr><td>2021-08</td><td>c8QpIPXhFuxPFn9N+6hPEg==</td><td>89,5</td><td>PF</td><td>109</td><td>atrasada</td><td>27/08/2021</td></tr><tr><td>2021-08</td><td>6vnCvePRpfWKJ80ijhqECA==</td><td>89,5</td><td>PF</td><td>109</td><td>paga</td><td>03/09/2021</td></tr><tr><td>2021-08</td><td>sysl53dhmaAetcF5DCaPWA==</td><td>89,5</td><td>PF</td><td>109</td><td>paga</td><td>02/09/2021</td></tr><tr><td>2021-08</td><td>lOPGVTdPsJfkdTa6t07tww==</td><td>91,96</td><td>PF</td><td>112</td><td>paga</td><td>17/09/2021</td></tr><tr><td>2021-07</td><td>rB4WT5NPzbG/cUDP/gLB5w==</td><td>93,61</td><td>PF</td><td>114</td><td>paga</td><td>27/07/2021</td></tr><tr><td>2021-08</td><td>aoPlic01PUNA8TdBCr2dpQ==</td><td>93,61</td><td>PF</td><td>114</td><td>atrasada</td><td>04/09/2021</td></tr><tr><td>2021-08</td><td>7AOYm14uUZRjaDwMQZazww==</td><td>94,43</td><td>PF</td><td>115</td><td>paga</td><td>01/09/2021</td></tr><tr><td>2021-07</td><td>hSm0uJRnbkP88is8Zu8tdw==</td><td>95,25</td><td>PF</td><td>116</td><td>paga</td><td>27/07/2021</td></tr><tr><td>2021-08</td><td>6hPumClQCNlUSLzgYGyRyA==</td><td>96,89</td><td>PF</td><td>118</td><td>paga</td><td>05/09/2021</td></tr><tr><td>2021-07</td><td>HeZIp8A0HcKUqfmU/K/vOA==</td><td>97,71</td><td>PF</td><td>119</td><td>paga</td><td>05/08/2021</td></tr><tr><td>2021-08</td><td>HvbUwmlCLgKObI1VQJwpvQ==</td><td>97,71</td><td>PF</td><td>119</td><td>atrasada</td><td>11/09/2021</td></tr><tr><td>2021-07</td><td>S6/FOPfxJpaXCs99NSZyTg==</td><td>98,53</td><td>PF</td><td>120</td><td>paga</td><td>18/08/2021</td></tr><tr><td>2021-07</td><td>wfiC/QpN6dv/l22TrAh89Q==</td><td>98,53</td><td>PF</td><td>120</td><td>paga</td><td>18/08/2021</td></tr><tr><td>2021-08</td><td>cZoraBtJghaD0AupQ8jLYA==</td><td>98,53</td><td>PF</td><td>120</td><td>paga</td><td>17/09/2021</td></tr><tr><td>2021-08</td><td>1GZjSYwr02ilzEtWvoXYCA==</td><td>98,53</td><td>PF</td><td>120</td><td>paga</td><td>05/09/2021</td></tr><tr><td>2021-06</td><td>rB4WT5NPzbG/cUDP/gLB5w==</td><td>101</td><td>PF</td><td>123</td><td>paga</td><td>07/07/2021</td></tr><tr><td>2021-08</td><td>syQX+i/A2OHd46EmQlmVdw==</td><td>101</td><td>PF</td><td>123</td><td>atrasada</td><td>01/09/2021</td></tr><tr><td>2021-08</td><td>tZFeNYg6+OjGF1VbtSo/qQ==</td><td>102,64</td><td>PF</td><td>125</td><td>paga</td><td>17/09/2021</td></tr><tr><td>2021-08</td><td>dEdCFYRoQQdIJtc/O3pTUA==</td><td>102,64</td><td>PF</td><td>125</td><td>paga</td><td>06/09/2021</td></tr><tr><td>2021-08</td><td>WMwY4TftNcrTHCD/FhLBeQ==</td><td>104,28</td><td>PF</td><td>127</td><td>paga</td><td>27/08/2021</td></tr><tr><td>2021-08</td><td>M3bTLXsc3KJtbJjBeaGfhA==</td><td>104,28</td><td>PF</td><td>127</td><td>paga</td><td>11/09/2021</td></tr><tr><td>2021-07</td><td>Pg3I1Vs6l0MAYB4Msm/UAg==</td><td>105,92</td><td>PF</td><td>129</td><td>atrasada</td><td>27/07/2021</td></tr><tr><td>2021-08</td><td>jexVhcKhoYahs/QIlgSABg==</td><td>105,92</td><td>PF</td><td>129</td><td>paga</td><td>11/09/2021</td></tr><tr><td>2021-08</td><td>uPRnbcZeMKgxgQCHFHx1Gw==</td><td>107,56</td><td>PF</td><td>131</td><td>paga</td><td>11/09/2021</td></tr><tr><td>2021-08</td><td>/lFJ2pY/W9mnIG0k1OtgOg==</td><td>107,56</td><td>PF</td><td>131</td><td>paga</td><td>17/09/2021</td></tr><tr><td>2021-08</td><td>Jxzb78OlaZydIrDOvDQW9A==</td><td>107,56</td><td>PF</td><td>131</td><td>paga</td><td>11/09/2021</td></tr><tr><td>2021-08</td><td>mNgB0NscQJJZuLvEOOmk4g==</td><td>107,56</td><td>PF</td><td>131</td><td>paga</td><td>22/09/2021</td></tr><tr><td>2021-08</td><td>XrV4zZJ1ojOnBIqztAUQBQ==</td><td>107,56</td><td>PF</td><td>131</td><td>paga</td><td>06/09/2021</td></tr><tr><td>2021-08</td><td>hIBBZIDC9onnvu0gHUdqYw==</td><td>107,56</td><td>PF</td><td>131</td><td>atrasada</td><td>10/09/2021</td></tr><tr><td>2021-08</td><td>e/t8QYon5AKgv6Rt9UatSw==</td><td>107,56</td><td>PF</td><td>131</td><td>paga</td><td>22/09/2021</td></tr><tr><td>2021-08</td><td>d6pLfG5+4f0YMOrv98AUPQ==</td><td>107,56</td><td>PF</td><td>131</td><td>paga</td><td>11/09/2021</td></tr><tr><td>2021-06</td><td>hHU9zMo7tuHcFPFqpwttjw==</td><td>108,39</td><td>PF</td><td>132</td><td>paga</td><td>03/07/2021</td></tr><tr><td>2021-08</td><td>HfXuO6yaeRCdRL4oKiWhaw==</td><td>108,39</td><td>PF</td><td>132</td><td>paga</td><td>21/09/2021</td></tr><tr><td>2021-08</td><td>yqmMiKvmzv6IX2L2Bvgr4A==</td><td>108,39</td><td>PF</td><td>132</td><td>atrasada</td><td>08/09/2021</td></tr><tr><td>2021-08</td><td>mg7lHu7N3URSRoqROta8Vw==</td><td>108,39</td><td>PF</td><td>132</td><td>atrasada</td><td>06/09/2021</td></tr><tr><td>2021-08</td><td>RGdwwu8pN0zAIkVjNRlAYQ==</td><td>108,39</td><td>PF</td><td>132</td><td>paga</td><td>27/08/2021</td></tr><tr><td>2021-08</td><td>uXDb7zeuHgexhMl+pynlsA==</td><td>108,39</td><td>PF</td><td>132</td><td>paga</td><td>06/10/2021</td></tr><tr><td>2021-08</td><td>egaV9NU1g6gQzJKHRKsd7A==</td><td>108,39</td><td>PF</td><td>132</td><td>paga</td><td>23/08/2021</td></tr><tr><td>2021-08</td><td>Hq5rKuhL4vcPCEAqKSBztA==</td><td>109,21</td><td>PF</td><td>133</td><td>paga</td><td>03/09/2021</td></tr><tr><td>2021-08</td><td>UsHK7PgOieW38yp1JepzOQ==</td><td>109,21</td><td>PF</td><td>133</td><td>paga</td><td>11/09/2021</td></tr><tr><td>2021-08</td><td>Za1osX6qAtnHHjGNihIdrg==</td><td>110,03</td><td>PF</td><td>134</td><td>paga</td><td>15/09/2021</td></tr><tr><td>2021-08</td><td>KWis/WAxh+vO2YVFVmCvdA==</td><td>110,03</td><td>PF</td><td>134</td><td>paga</td><td>17/09/2021</td></tr><tr><td>2021-08</td><td>wKMSdRnJaPcK5OSZefCj7A==</td><td>110,03</td><td>PF</td><td>134</td><td>atrasada</td><td>11/09/2021</td></tr><tr><td>2021-08</td><td>lN75A4YK314NTDasExAyzw==</td><td>111,67</td><td>PF</td><td>136</td><td>paga</td><td>22/09/2021</td></tr><tr><td>2021-08</td><td>0huwKrYwGsmRNdMXQAE2jQ==</td><td>111,67</td><td>PF</td><td>136</td><td>atrasada</td><td>09/09/2021</td></tr><tr><td>2021-08</td><td>vYMnR618F0IAzLlJj6XSEg==</td><td>111,67</td><td>PF</td><td>136</td><td>atrasada</td><td>11/09/2021</td></tr><tr><td>2021-07</td><td>wOUVGpMY7f16XTjpBWQ6CQ==</td><td>112,49</td><td>PF</td><td>137</td><td>paga</td><td>24/08/2021</td></tr><tr><td>2021-07</td><td>l5eWnnF0aiTVTrYmNaxvSw==</td><td>112,49</td><td>PF</td><td>137</td><td>atrasada</td><td>03/08/2021</td></tr><tr><td>2021-07</td><td>XxUJzSWohZpUtzmVGQgmsA==</td><td>112,49</td><td>PF</td><td>137</td><td>atrasada</td><td>11/08/2021</td></tr><tr><td>2021-07</td><td>yLQprTazAdV3AfBeKqeRbQ==</td><td>112,49</td><td>PF</td><td>137</td><td>paga</td><td>17/08/2021</td></tr><tr><td>2021-07</td><td>5zdXk+Yzi8dm+ho11Rn82w==</td><td>112,49</td><td>PF</td><td>137</td><td>paga</td><td>13/08/2021</td></tr><tr><td>2021-07</td><td>qxUSgu+zB79dRUUnPBf4pQ==</td><td>112,49</td><td>PF</td><td>137</td><td>paga</td><td>06/08/2021</td></tr><tr><td>2021-07</td><td>vMGbtDBRxmRqyhA+emQYuQ==</td><td>112,49</td><td>PF</td><td>137</td><td>atrasada</td><td>22/08/2021</td></tr><tr><td>2021-07</td><td>cnYZeRjUvWNFmdSU3Ko2+w==</td><td>112,49</td><td>PF</td><td>137</td><td>paga</td><td>27/07/2021</td></tr><tr><td>2021-07</td><td>5yEf2wtx35YxnIw0WhJvSw==</td><td>112,49</td><td>PF</td><td>137</td><td>paga</td><td>25/07/2021</td></tr><tr><td>2021-07</td><td>RLGgEEST0wKTtjmUpkgedQ==</td><td>112,49</td><td>PF</td><td>137</td><td>paga</td><td>06/08/2021</td></tr><tr><td>2021-07</td><td>MiADKvNNwRES0l8ziJejyg==</td><td>112,49</td><td>PF</td><td>137</td><td>paga</td><td>11/08/2021</td></tr><tr><td>2021-07</td><td>lN75A4YK314NTDasExAyzw==</td><td>112,49</td><td>PF</td><td>137</td><td>paga</td><td>22/08/2021</td></tr><tr><td>2021-08</td><td>b77jb6PdEw/AuGtn0xMCGw==</td><td>113,31</td><td>PF</td><td>138</td><td>paga</td><td>11/09/2021</td></tr><tr><td>2021-08</td><td>Qf+j5OlrKcU0lXRIYfZ4tQ==</td><td>114,95</td><td>PJ</td><td>140</td><td>paga</td><td>17/09/2021</td></tr><tr><td>2021-08</td><td>wckgF0Ifr9/KUHWBbP/Ndw==</td><td>115,78</td><td>PF</td><td>141</td><td>paga</td><td>11/09/2021</td></tr><tr><td>2021-08</td><td>HVltQOhjud5PMHcM/5Qrmw==</td><td>115,78</td><td>PF</td><td>141</td><td>paga</td><td>27/08/2021</td></tr><tr><td>2021-07</td><td>mjIJhQrgXkCy7rRy7AxJHQ==</td><td>116,6</td><td>PF</td><td>142</td><td>atrasada</td><td>13/08/2021</td></tr><tr><td>2021-08</td><td>rulwPA84H1S8+I+GB36zdw==</td><td>116,6</td><td>PF</td><td>142</td><td>paga</td><td>11/09/2021</td></tr><tr><td>2021-08</td><td>J1n5zcD4/EZUvpXuMOZcGQ==</td><td>116,6</td><td>PF</td><td>142</td><td>paga</td><td>22/08/2021</td></tr><tr><td>2021-08</td><td>T75RwUdKAiSS9m9WAP4HYA==</td><td>116,6</td><td>PF</td><td>142</td><td>paga</td><td>06/09/2021</td></tr><tr><td>2021-08</td><td>hHU9zMo7tuHcFPFqpwttjw==</td><td>118,24</td><td>PF</td><td>144</td><td>paga</td><td>03/09/2021</td></tr><tr><td>2021-08</td><td>k4fMQkjF4BDIsZcVwq9L0g==</td><td>118,24</td><td>PF</td><td>144</td><td>paga</td><td>11/09/2021</td></tr><tr><td>2021-07</td><td>w15EKe4KmrdYnNKScq9kVQ==</td><td>119,06</td><td>PF</td><td>145</td><td>paga</td><td>17/08/2021</td></tr><tr><td>2021-08</td><td>GgalMmgHpA+GZ3vo0wCrIg==</td><td>119,06</td><td>PF</td><td>145</td><td>paga</td><td>18/09/2021</td></tr><tr><td>2021-06</td><td>rWh2s/k2UHNy/7BuGcyMsQ==</td><td>119,88</td><td>PF</td><td>146</td><td>paga</td><td>14/07/2021</td></tr><tr><td>2021-07</td><td>/kEY/v0rP6hwwpsHS/4z0w==</td><td>119,88</td><td>PF</td><td>146</td><td>paga</td><td>10/09/2021</td></tr><tr><td>2021-08</td><td>kcqH6iodQT8LWlmURmI5dg==</td><td>119,88</td><td>PF</td><td>146</td><td>paga</td><td>27/09/2021</td></tr><tr><td>2021-08</td><td>HKDoob8XWYHkgX5f9GoMrw==</td><td>119,88</td><td>PF</td><td>146</td><td>paga</td><td>22/08/2021</td></tr><tr><td>2021-07</td><td>v2orRfMK38qXWupavn7Ehg==</td><td>120,7</td><td>PF</td><td>147</td><td>paga</td><td>22/08/2021</td></tr><tr><td>2021-08</td><td>b58Nf5idxgSalgEv0WlO7Q==</td><td>120,7</td><td>PF</td><td>147</td><td>paga</td><td>11/09/2021</td></tr><tr><td>2021-08</td><td>DTTS7GkxaBYA4YDa4tByFQ==</td><td>120,7</td><td>PF</td><td>147</td><td>paga</td><td>06/09/2021</td></tr><tr><td>2021-07</td><td>XYo5douM4CMw1nrEi4xPpA==</td><td>121,52</td><td>PF</td><td>148</td><td>paga</td><td>11/08/2021</td></tr><tr><td>2021-08</td><td>mjIJhQrgXkCy7rRy7AxJHQ==</td><td>121,52</td><td>PF</td><td>148</td><td>atrasada</td><td>13/09/2021</td></tr><tr><td>2021-08</td><td>QkMST/pLik6WesQCSJaYfw==</td><td>121,52</td><td>PF</td><td>148</td><td>atrasada</td><td>11/09/2021</td></tr><tr><td>2021-08</td><td>lo7dhMYBgeoyK1AastcSPg==</td><td>122,34</td><td>PF</td><td>149</td><td>paga</td><td>10/09/2021</td></tr><tr><td>2021-08</td><td>hKm4b48Uu4/Wz2h9xG8ILA==</td><td>123,17</td><td>PF</td><td>150</td><td>atrasada</td><td>17/09/2021</td></tr><tr><td>2021-08</td><td>Sp1CJHNIt0vmnWrxIL4A+Q==</td><td>123,17</td><td>PF</td><td>150</td><td>paga</td><td>06/09/2021</td></tr><tr><td>2021-08</td><td>rB4WT5NPzbG/cUDP/gLB5w==</td><td>123,17</td><td>PF</td><td>150</td><td>paga</td><td>27/08/2021</td></tr><tr><td>2021-08</td><td>YXfq6l5npiorACfSxNtGTQ==</td><td>123,99</td><td>PF</td><td>151</td><td>paga</td><td>23/08/2021</td></tr><tr><td>2021-08</td><td>2UAH4sRF5vRvGMUt5IjQWQ==</td><td>123,99</td><td>PF</td><td>151</td><td>paga</td><td>17/09/2021</td></tr><tr><td>2021-08</td><td>DV+Np0YplbQpcJJzIy+BNA==</td><td>123,99</td><td>PF</td><td>151</td><td>paga</td><td>18/09/2021</td></tr><tr><td>2021-08</td><td>BGOkNhli52eW8kqAT4LkKg==</td><td>123,99</td><td>PF</td><td>151</td><td>paga</td><td>11/09/2021</td></tr><tr><td>2021-08</td><td>XQ/fb2VdNj3mcZAj6Iryhw==</td><td>124,81</td><td>PF</td><td>152</td><td>paga</td><td>06/09/2021</td></tr><tr><td>2021-08</td><td>flM4Z50LjmJjGb43L2SEpA==</td><td>125,63</td><td>PF</td><td>153</td><td>paga</td><td>09/09/2021</td></tr><tr><td>2021-08</td><td>OH9GESv2oBSHT+PBxok+KQ==</td><td>125,63</td><td>PF</td><td>153</td><td>paga</td><td>17/09/2021</td></tr><tr><td>2021-08</td><td>JIVoSiIN6prTAA8ryS9B9g==</td><td>125,63</td><td>PF</td><td>153</td><td>paga</td><td>17/09/2021</td></tr><tr><td>2021-08</td><td>2UjwCve3t34vS+LPNSJNtg==</td><td>126,45</td><td>PF</td><td>154</td><td>paga</td><td>11/09/2021</td></tr><tr><td>2021-08</td><td>6CDyEKgtCmg/UFE/f1iZkg==</td><td>126,45</td><td>PF</td><td>154</td><td>paga</td><td>01/09/2021</td></tr><tr><td>2021-06</td><td>is7+EcidED1cUGcVIPij0Q==</td><td>127,27</td><td>PF</td><td>155</td><td>paga</td><td>25/06/2021</td></tr><tr><td>2021-07</td><td>ho0zKpjJioZA1Ouom/ka9A==</td><td>127,27</td><td>PF</td><td>155</td><td>atrasada</td><td>13/08/2021</td></tr><tr><td>2021-07</td><td>a9+nbO5cuvwJYIYAHcPcrg==</td><td>127,27</td><td>PF</td><td>155</td><td>atrasada</td><td>11/08/2021</td></tr><tr><td>2021-07</td><td>ihXi1EOI/0MMg4R2/2klmQ==</td><td>127,27</td><td>PF</td><td>155</td><td>paga</td><td>06/08/2021</td></tr><tr><td>2021-07</td><td>u5oOe/e4XTuYcjkOg51KIA==</td><td>127,27</td><td>PF</td><td>155</td><td>atrasada</td><td>25/07/2021</td></tr><tr><td>2021-07</td><td>jrP2BWf2xzE7LzBDCtYqEw==</td><td>127,27</td><td>PF</td><td>155</td><td>paga</td><td>17/08/2021</td></tr><tr><td>2021-07</td><td>Ebf8QcE5qygcuJgPxn8M5A==</td><td>127,27</td><td>PF</td><td>155</td><td>paga</td><td>14/08/2021</td></tr><tr><td>2021-07</td><td>GD1U7C+QNaksZ1EFg0DERQ==</td><td>127,27</td><td>PF</td><td>155</td><td>paga</td><td>17/08/2021</td></tr><tr><td>2021-07</td><td>UxHch4SzxWmLQzQaTmq3hw==</td><td>127,27</td><td>PF</td><td>155</td><td>atrasada</td><td>13/08/2021</td></tr><tr><td>2021-07</td><td>v3ph1Ccjsm+K+qWk3C2MCw==</td><td>127,27</td><td>PF</td><td>155</td><td>paga</td><td>05/08/2021</td></tr><tr><td>2021-08</td><td>h+0bdnuEZcDxX6+hk/UaKA==</td><td>127,27</td><td>PF</td><td>155</td><td>atrasada</td><td>17/09/2021</td></tr><tr><td>2021-08</td><td>Nk5jTqjG3kFoxJQST/dNqA==</td><td>127,27</td><td>PF</td><td>155</td><td>atrasada</td><td>27/09/2021</td></tr><tr><td>2021-07</td><td>TjiSdm3o4P+/tChxGoBLRw==</td><td>128,09</td><td>PF</td><td>156</td><td>paga</td><td>11/08/2021</td></tr><tr><td>2021-08</td><td>oR+wK0mFx6W6KbIsFCr8rA==</td><td>128,09</td><td>PF</td><td>156</td><td>paga</td><td>06/09/2021</td></tr><tr><td>2021-08</td><td>j7ymgTQaS3fJTYG2oDbHWA==</td><td>128,91</td><td>PF</td><td>157</td><td>atrasada</td><td>14/09/2021</td></tr><tr><td>2021-08</td><td>bxwsOn7X/zS75WHcXoRPtw==</td><td>128,91</td><td>PF</td><td>157</td><td>atrasada</td><td>22/09/2021</td></tr><tr><td>2021-08</td><td>dekHmDJFC3dtdTAXaAfpcA==</td><td>129,73</td><td>PF</td><td>158</td><td>paga</td><td>18/09/2021</td></tr><tr><td>2021-08</td><td>IxS0HYS+RdQVstzQnQjjNg==</td><td>129,73</td><td>PF</td><td>158</td><td>paga</td><td>04/09/2021</td></tr><tr><td>2021-07</td><td>Y0LVpcOIlwFV4ZHD388N5g==</td><td>130,55</td><td>PF</td><td>159</td><td>paga</td><td>13/08/2021</td></tr><tr><td>2021-07</td><td>rulwPA84H1S8+I+GB36zdw==</td><td>130,55</td><td>PF</td><td>159</td><td>paga</td><td>11/08/2021</td></tr><tr><td>2021-08</td><td>FWTTaWpc7tvk2bapk097Ww==</td><td>130,55</td><td>PF</td><td>159</td><td>paga</td><td>27/08/2021</td></tr><tr><td>2021-08</td><td>DYW6hWjA8bvRAbn5QdUBkQ==</td><td>130,55</td><td>PF</td><td>159</td><td>paga</td><td>10/09/2021</td></tr><tr><td>2021-08</td><td>is7+EcidED1cUGcVIPij0Q==</td><td>131,38</td><td>PF</td><td>160</td><td>paga</td><td>25/08/2021</td></tr><tr><td>2021-08</td><td>euwm36nBoYJgGFAZINzX5g==</td><td>131,38</td><td>PF</td><td>160</td><td>paga</td><td>11/09/2021</td></tr><tr><td>2021-06</td><td>d6pLfG5+4f0YMOrv98AUPQ==</td><td>132,2</td><td>PF</td><td>161</td><td>paga</td><td>11/07/2021</td></tr><tr><td>2021-07</td><td>IKm2dnudOjyN46LpDQfqWQ==</td><td>132,2</td><td>PF</td><td>161</td><td>paga</td><td>11/09/2021</td></tr><tr><td>2021-08</td><td>uDVabvZaMaij7vTv5WQSMw==</td><td>132,2</td><td>PF</td><td>161</td><td>paga</td><td>27/08/2021</td></tr><tr><td>2021-08</td><td>LVd/yEyFNPZMVC36fvg2XQ==</td><td>132,2</td><td>PF</td><td>161</td><td>atrasada</td><td>06/09/2021</td></tr><tr><td>2021-08</td><td>soVkocXiYwOHgROIsfg8TA==</td><td>132,2</td><td>PF</td><td>161</td><td>paga</td><td>08/09/2021</td></tr><tr><td>2021-08</td><td>ZpZFH4nyD62VYk1tprvDaQ==</td><td>133,02</td><td>PF</td><td>162</td><td>paga</td><td>17/09/2021</td></tr><tr><td>2021-08</td><td>1kQq8sK8nDpYaj/n6+o0RA==</td><td>133,84</td><td>PF</td><td>163</td><td>paga</td><td>06/09/2021</td></tr><tr><td>2021-08</td><td>h2d18bWYEXrdMagVPvKteQ==</td><td>134,66</td><td>PF</td><td>164</td><td>atrasada</td><td>27/09/2021</td></tr><tr><td>2021-08</td><td>h01+h1LRsFYEUbjFiOhGog==</td><td>134,66</td><td>PF</td><td>164</td><td>paga</td><td>17/09/2021</td></tr><tr><td>2021-08</td><td>+F43nFNF8ZGv3BTn0tMPKQ==</td><td>134,66</td><td>PF</td><td>164</td><td>paga</td><td>11/09/2021</td></tr><tr><td>2021-08</td><td>QgJoQ7pWq8Jhqymr5gmYGw==</td><td>135,48</td><td>PF</td><td>165</td><td>paga</td><td>08/09/2021</td></tr><tr><td>2021-08</td><td>jYAy64d+zbOZTH2i+iQjQg==</td><td>135,48</td><td>PF</td><td>165</td><td>paga</td><td>02/09/2021</td></tr><tr><td>2021-08</td><td>tUZHSnIzKBNuRkdilYa5pg==</td><td>135,48</td><td>PF</td><td>165</td><td>paga</td><td>11/09/2021</td></tr><tr><td>2021-08</td><td>6qVedCTt9cmNiYkd/eF9CQ==</td><td>135,48</td><td>PF</td><td>165</td><td>paga</td><td>04/09/2021</td></tr><tr><td>2021-08</td><td>Mf3+bIqH4YqZj5YL/1xDAg==</td><td>135,48</td><td>PF</td><td>165</td><td>atrasada</td><td>17/09/2021</td></tr><tr><td>2021-08</td><td>Zu6G+LRpeIpwlymgiuSEyQ==</td><td>135,48</td><td>PF</td><td>165</td><td>paga</td><td>06/09/2021</td></tr><tr><td>2021-08</td><td>MoFqTuP2LaS7TtL1TNW1Vw==</td><td>135,48</td><td>PF</td><td>165</td><td>paga</td><td>27/08/2021</td></tr><tr><td>2021-08</td><td>2NMy6a7XybTTBYfQaS/glA==</td><td>135,48</td><td>PF</td><td>165</td><td>paga</td><td>27/08/2021</td></tr><tr><td>2021-08</td><td>CQmgg5y9/MJ417YMsRNitw==</td><td>135,48</td><td>PF</td><td>165</td><td>atrasada</td><td>22/09/2021</td></tr><tr><td>2021-08</td><td>XQCz0VSP2DlJh7KOpeD8/A==</td><td>135,48</td><td>PF</td><td>165</td><td>paga</td><td>18/09/2021</td></tr><tr><td>2021-08</td><td>vc5if/RYW2jecZCCxXYsHw==</td><td>137,12</td><td>PF</td><td>167</td><td>paga</td><td>02/09/2021</td></tr><tr><td>2021-08</td><td>cO90drFYwmPS9RrpoVs1eg==</td><td>137,12</td><td>PF</td><td>167</td><td>paga</td><td>22/08/2021</td></tr><tr><td>2021-06</td><td>lj5eb6IkwfvdDanmrolJBg==</td><td>137,94</td><td>PF</td><td>168</td><td>atrasada</td><td>04/07/2021</td></tr><tr><td>2021-07</td><td>ttIjSRljsOZg15+xtpOb2A==</td><td>137,94</td><td>PF</td><td>168</td><td>atrasada</td><td>30/08/2021</td></tr><tr><td>2021-07</td><td>ahDp3oos3j7mI55w65Mtyw==</td><td>137,94</td><td>PF</td><td>168</td><td>paga</td><td>08/08/2021</td></tr><tr><td>2021-08</td><td>YoAWAndesF68Ftz1poolOQ==</td><td>137,94</td><td>PF</td><td>168</td><td>paga</td><td>17/09/2021</td></tr><tr><td>2021-08</td><td>K75NAI7YPYujCLTL4eV3FQ==</td><td>137,94</td><td>PF</td><td>168</td><td>atrasada</td><td>11/09/2021</td></tr><tr><td>2021-08</td><td>tzUheJNp/7HnM0wnQn7VJg==</td><td>137,94</td><td>PF</td><td>168</td><td>paga</td><td>04/09/2021</td></tr><tr><td>2021-08</td><td>yQa1QMZ4FPSYEFpF4aJzLw==</td><td>137,94</td><td>PF</td><td>168</td><td>paga</td><td>11/09/2021</td></tr><tr><td>2021-08</td><td>GpjYTIrMKt8D2hrDoRJahg==</td><td>138,77</td><td>PF</td><td>169</td><td>paga</td><td>13/09/2021</td></tr><tr><td>2021-08</td><td>b/kVHB2NGLhVpLthNnLkHg==</td><td>138,77</td><td>PF</td><td>169</td><td>paga</td><td>11/09/2021</td></tr><tr><td>2021-08</td><td>TjiSdm3o4P+/tChxGoBLRw==</td><td>139,59</td><td>PF</td><td>170</td><td>paga</td><td>11/09/2021</td></tr><tr><td>2021-07</td><td>G7xbOYUkl0kU5gCYpIK8Rg==</td><td>140,41</td><td>PF</td><td>171</td><td>paga</td><td>08/08/2021</td></tr><tr><td>2021-08</td><td>H5MIGdR9c3WBzhoR/wvxTg==</td><td>140,41</td><td>PF</td><td>171</td><td>paga</td><td>17/09/2021</td></tr><tr><td>2021-07</td><td>aUVQxsPA71sRXUCVso8eqw==</td><td>141,23</td><td>PF</td><td>172</td><td>paga</td><td>04/08/2021</td></tr><tr><td>2021-07</td><td>fO2A7J0j8erKRiZnbY+TLA==</td><td>141,23</td><td>PJ</td><td>172</td><td>paga</td><td>14/08/2021</td></tr><tr><td>2021-07</td><td>DLRdET/NZHPCbJSgIGThRA==</td><td>141,23</td><td>PF</td><td>172</td><td>paga</td><td>11/08/2021</td></tr><tr><td>2021-07</td><td>s6Ti+6xVP6wMCOpTkcS5DA==</td><td>141,23</td><td>PF</td><td>172</td><td>paga</td><td>05/08/2021</td></tr><tr><td>2021-07</td><td>Smf+XPSZqvZ1D0bBNAZs7Q==</td><td>141,23</td><td>PF</td><td>172</td><td>atrasada</td><td>27/08/2021</td></tr><tr><td>2021-07</td><td>bZBOVVn4DbpD4RDNmFELHQ==</td><td>141,23</td><td>PF</td><td>172</td><td>paga</td><td>27/08/2021</td></tr><tr><td>2021-07</td><td>+GycBY0/EG9v56mS7lRVoQ==</td><td>141,23</td><td>PF</td><td>172</td><td>paga</td><td>04/08/2021</td></tr><tr><td>2021-08</td><td>SMr3FHhSaLNv4rSqshyd8w==</td><td>141,23</td><td>PF</td><td>172</td><td>paga</td><td>27/09/2021</td></tr><tr><td>2021-08</td><td>acoT2u5mHURKRxUAxI7mow==</td><td>141,23</td><td>PF</td><td>172</td><td>atrasada</td><td>27/09/2021</td></tr><tr><td>2021-08</td><td>Itjwih2+a9Dx1VoX5RuDqQ==</td><td>142,05</td><td>PF</td><td>173</td><td>paga</td><td>17/09/2021</td></tr><tr><td>2021-07</td><td>PW/Ab+m2L9GM5EXRu/8T3Q==</td><td>142,87</td><td>PF</td><td>174</td><td>paga</td><td>22/07/2021</td></tr><tr><td>2021-07</td><td>lj5eb6IkwfvdDanmrolJBg==</td><td>142,87</td><td>PF</td><td>174</td><td>atrasada</td><td>04/08/2021</td></tr><tr><td>2021-08</td><td>0TUOF9pEJpx3gdD8MUzM8A==</td><td>143,69</td><td>PF</td><td>175</td><td>atrasada</td><td>09/09/2021</td></tr><tr><td>2021-08</td><td>bDYmZoV8I+IIm+GYF9C7SA==</td><td>143,69</td><td>PF</td><td>175</td><td>paga</td><td>06/09/2021</td></tr><tr><td>2021-08</td><td>DK818xLJgk3oURtbqGVlvg==</td><td>143,69</td><td>PF</td><td>175</td><td>paga</td><td>27/08/2021</td></tr><tr><td>2021-07</td><td>cO90drFYwmPS9RrpoVs1eg==</td><td>144,51</td><td>PF</td><td>176</td><td>paga</td><td>22/07/2021</td></tr><tr><td>2021-08</td><td>JHj+kppxEspGPU35J3Deiw==</td><td>144,51</td><td>PF</td><td>176</td><td>paga</td><td>27/09/2021</td></tr><tr><td>2021-08</td><td>EgHwwptCNmi0UHN6MNC5Zg==</td><td>145,33</td><td>PF</td><td>177</td><td>paga</td><td>10/09/2021</td></tr><tr><td>2021-08</td><td>XYo5douM4CMw1nrEi4xPpA==</td><td>145,33</td><td>PF</td><td>177</td><td>paga</td><td>11/09/2021</td></tr><tr><td>2021-06</td><td>G7xbOYUkl0kU5gCYpIK8Rg==</td><td>146,16</td><td>PF</td><td>178</td><td>paga</td><td>08/07/2021</td></tr><tr><td>2021-06</td><td>cO90drFYwmPS9RrpoVs1eg==</td><td>146,98</td><td>PF</td><td>179</td><td>paga</td><td>22/06/2021</td></tr><tr><td>2021-06</td><td>w15EKe4KmrdYnNKScq9kVQ==</td><td>146,98</td><td>PF</td><td>179</td><td>paga</td><td>17/07/2021</td></tr><tr><td>2021-06</td><td>bZBOVVn4DbpD4RDNmFELHQ==</td><td>146,98</td><td>PF</td><td>179</td><td>paga</td><td>27/07/2021</td></tr><tr><td>2021-08</td><td>p/lU43ChQX54+7CdQQ3/Kw==</td><td>146,98</td><td>PF</td><td>179</td><td>paga</td><td>29/09/2021</td></tr><tr><td>2021-08</td><td>cnYZeRjUvWNFmdSU3Ko2+w==</td><td>146,98</td><td>PF</td><td>179</td><td>paga</td><td>27/08/2021</td></tr><tr><td>2021-08</td><td>JIEszyQvL0Kv/KIPuvLBHA==</td><td>146,98</td><td>PF</td><td>179</td><td>atrasada</td><td>13/09/2021</td></tr><tr><td>2021-06</td><td>/9YsZAdreFh0x4wCVfDHfQ==</td><td>147,8</td><td>PF</td><td>180</td><td>paga</td><td>11/07/2021</td></tr><tr><td>2021-07</td><td>Am2uZwnjhEB3D3X05Zdzig==</td><td>148,62</td><td>PF</td><td>181</td><td>atrasada</td><td>26/08/2021</td></tr><tr><td>2021-08</td><td>X306EdQCQGbqeFTqj7dSng==</td><td>148,62</td><td>PF</td><td>181</td><td>paga</td><td>09/09/2021</td></tr><tr><td>2021-08</td><td>pacOHQQaN6cW8sKBf0hqSA==</td><td>148,62</td><td>PJ</td><td>181</td><td>paga</td><td>23/08/2021</td></tr><tr><td>2021-06</td><td>rulwPA84H1S8+I+GB36zdw==</td><td>149,44</td><td>PF</td><td>182</td><td>paga</td><td>11/07/2021</td></tr><tr><td>2021-06</td><td>hSm0uJRnbkP88is8Zu8tdw==</td><td>149,44</td><td>PF</td><td>182</td><td>paga</td><td>27/06/2021</td></tr><tr><td>2021-08</td><td>tcdngc5tWIiggNH2i/0WkQ==</td><td>149,44</td><td>PF</td><td>182</td><td>paga</td><td>04/09/2021</td></tr><tr><td>2021-08</td><td>YIfpVr/X+963CtN4HceaIg==</td><td>149,44</td><td>PF</td><td>182</td><td>atrasada</td><td>09/09/2021</td></tr><tr><td>2021-08</td><td>G2OSrtn9uoa7N2Qt8/8+0g==</td><td>149,44</td><td>PF</td><td>182</td><td>paga</td><td>02/09/2021</td></tr><tr><td>2021-06</td><td>6qVedCTt9cmNiYkd/eF9CQ==</td><td>150,26</td><td>PF</td><td>183</td><td>paga</td><td>04/07/2021</td></tr><tr><td>2021-07</td><td>WTpHPPpw6n6K73Kn4TvYbA==</td><td>150,26</td><td>PF</td><td>183</td><td>paga</td><td>11/08/2021</td></tr><tr><td>2021-06</td><td>Pg3I1Vs6l0MAYB4Msm/UAg==</td><td>151,08</td><td>PF</td><td>184</td><td>atrasada</td><td>27/06/2021</td></tr><tr><td>2021-07</td><td>pZNiOKlJE8TX9ew03oJuEA==</td><td>151,08</td><td>PF</td><td>184</td><td>paga</td><td>17/08/2021</td></tr><tr><td>2021-08</td><td>wfiC/QpN6dv/l22TrAh89Q==</td><td>151,08</td><td>PF</td><td>184</td><td>paga</td><td>18/09/2021</td></tr><tr><td>2021-08</td><td>IZKi/dzuMn7sDBy8vhtobw==</td><td>151,08</td><td>PF</td><td>184</td><td>paga</td><td>22/09/2021</td></tr><tr><td>2021-08</td><td>BAXfecd51E2df+EvPcuebg==</td><td>151,9</td><td>PF</td><td>185</td><td>paga</td><td>13/09/2021</td></tr><tr><td>2021-07</td><td>dp5RqtyQetwwIkKuX8TAow==</td><td>152,72</td><td>PF</td><td>186</td><td>paga</td><td>27/07/2021</td></tr><tr><td>2021-07</td><td>ditaNBV13VRSDXcJOin/Eg==</td><td>152,72</td><td>PF</td><td>186</td><td>paga</td><td>17/08/2021</td></tr><tr><td>2021-08</td><td>esXB9Id19477jDGHmjiE3g==</td><td>152,72</td><td>PF</td><td>186</td><td>atrasada</td><td>27/09/2021</td></tr><tr><td>2021-08</td><td>GUzHlfbr0TJ0BIvZhufOfA==</td><td>153,55</td><td>PF</td><td>187</td><td>paga</td><td>01/09/2021</td></tr><tr><td>2021-08</td><td>NRWLVwXwT8uyiUr8OeIqJQ==</td><td>153,55</td><td>PF</td><td>187</td><td>paga</td><td>04/09/2021</td></tr><tr><td>2021-08</td><td>EjnJYooQSRyb8qoJ7lmQxA==</td><td>153,55</td><td>PF</td><td>187</td><td>paga</td><td>11/09/2021</td></tr><tr><td>2021-08</td><td>HO2XjEYSQ7V9jgbnc6ovCA==</td><td>153,55</td><td>PJ</td><td>187</td><td>paga</td><td>23/08/2021</td></tr><tr><td>2021-08</td><td>sxMI26U9Gf4cvbsorny9aw==</td><td>153,55</td><td>PF</td><td>187</td><td>atrasada</td><td>27/09/2021</td></tr><tr><td>2021-08</td><td>dyDKhqfODubc3SJ1tQTr+A==</td><td>153,55</td><td>PF</td><td>187</td><td>paga</td><td>11/09/2021</td></tr><tr><td>2021-08</td><td>KhX6CYSD4qFeD7ZFblk8Ag==</td><td>153,55</td><td>PF</td><td>187</td><td>paga</td><td>11/09/2021</td></tr><tr><td>2021-08</td><td>dSkQLhNKJn/pywhCdwq5EA==</td><td>153,55</td><td>PF</td><td>187</td><td>atrasada</td><td>06/09/2021</td></tr><tr><td>2021-07</td><td>/9YsZAdreFh0x4wCVfDHfQ==</td><td>154,37</td><td>PF</td><td>188</td><td>paga</td><td>11/08/2021</td></tr><tr><td>2021-07</td><td>dMSyV7QV6tM6UsTIv9P6yQ==</td><td>154,37</td><td>PF</td><td>188</td><td>atrasada</td><td>17/08/2021</td></tr><tr><td>2021-07</td><td>JIEszyQvL0Kv/KIPuvLBHA==</td><td>154,37</td><td>PF</td><td>188</td><td>atrasada</td><td>13/08/2021</td></tr><tr><td>2021-08</td><td>dDJzgWwG5iO1U3M+nDhZQg==</td><td>154,37</td><td>PF</td><td>188</td><td>atrasada</td><td>03/09/2021</td></tr><tr><td>2021-08</td><td>3C2n2WQt2ty8uGDWLFphhA==</td><td>154,37</td><td>PF</td><td>188</td><td>atrasada</td><td>17/09/2021</td></tr><tr><td>2021-08</td><td>vi8NLEhYjRPhFMDTBcy9mg==</td><td>156,01</td><td>PF</td><td>190</td><td>paga</td><td>11/09/2021</td></tr><tr><td>2021-08</td><td>9gv4zy73ejYd9lkQi6ImhQ==</td><td>156,01</td><td>PF</td><td>190</td><td>paga</td><td>11/09/2021</td></tr><tr><td>2021-08</td><td>rn6LckxE677zoR2JbJ9dCQ==</td><td>156,01</td><td>PF</td><td>190</td><td>paga</td><td>06/09/2021</td></tr><tr><td>2021-08</td><td>/NVc26db4S5Zyh+3gj5BxA==</td><td>157,65</td><td>PF</td><td>192</td><td>paga</td><td>10/09/2021</td></tr><tr><td>2021-08</td><td>qc9OZtfsBsrKD70nYEB87g==</td><td>158,47</td><td>PF</td><td>193</td><td>atrasada</td><td>12/10/2021</td></tr><tr><td>2021-08</td><td>oMe76NfZYiGggeUkEqmHCg==</td><td>158,47</td><td>PF</td><td>193</td><td>paga</td><td>08/09/2021</td></tr><tr><td>2021-08</td><td>pBQch1FKaZyNfDHGaBR0nQ==</td><td>158,47</td><td>PF</td><td>193</td><td>paga</td><td>11/09/2021</td></tr><tr><td>2021-08</td><td>mJ/srCit/PlQIzR6jcPXlA==</td><td>159,29</td><td>PF</td><td>194</td><td>atrasada</td><td>10/09/2021</td></tr><tr><td>2021-08</td><td>x30nHgTZWDSFEC9asleGUg==</td><td>159,29</td><td>PF</td><td>194</td><td>paga</td><td>23/08/2021</td></tr><tr><td>2021-08</td><td>Xqvj9UuW+hDeth1Y3hL5fQ==</td><td>159,29</td><td>PF</td><td>194</td><td>paga</td><td>02/09/2021</td></tr><tr><td>2021-08</td><td>+WEg7jYkrRNWbkK55xKnqA==</td><td>160,11</td><td>PF</td><td>195</td><td>paga</td><td>18/09/2021</td></tr><tr><td>2021-08</td><td>6QRhlGEooj/XBzW5S9gfHg==</td><td>160,11</td><td>PF</td><td>195</td><td>paga</td><td>13/09/2021</td></tr><tr><td>2021-08</td><td>COYG7vGPidIY9syR8J5atg==</td><td>160,11</td><td>PF</td><td>195</td><td>paga</td><td>11/10/2021</td></tr><tr><td>2021-08</td><td>46L9EnpfUKy031XPyBv5Xg==</td><td>160,11</td><td>PF</td><td>195</td><td>paga</td><td>02/09/2021</td></tr><tr><td>2021-08</td><td>s6Ti+6xVP6wMCOpTkcS5DA==</td><td>160,11</td><td>PF</td><td>195</td><td>paga</td><td>05/09/2021</td></tr><tr><td>2021-06</td><td>HZb69Y3+u/PH7MfRsBp/kQ==</td><td>160,94</td><td>PF</td><td>196</td><td>paga</td><td>22/07/2021</td></tr><tr><td>2021-07</td><td>shwndVw1zGqrthlkPcPG4Q==</td><td>160,94</td><td>PF</td><td>196</td><td>paga</td><td>05/08/2021</td></tr><tr><td>2021-08</td><td>q04BTB/GLgI2bcAw/Qxa+A==</td><td>160,94</td><td>PF</td><td>196</td><td>paga</td><td>27/09/2021</td></tr><tr><td>2021-08</td><td>A+b7YXOv9GdFil37WiHF2w==</td><td>161,76</td><td>PF</td><td>197</td><td>atrasada</td><td>09/09/2021</td></tr><tr><td>2021-08</td><td>Y8RD4bnVPixktb9rcxDIfA==</td><td>161,76</td><td>PF</td><td>197</td><td>paga</td><td>06/09/2021</td></tr><tr><td>2021-07</td><td>IGTswX+emqylQK310JzQdw==</td><td>162,58</td><td>PF</td><td>198</td><td>paga</td><td>11/08/2021</td></tr><tr><td>2021-08</td><td>fxqij7sz7osdGLQ1psAYDg==</td><td>162,58</td><td>PF</td><td>198</td><td>paga</td><td>01/09/2021</td></tr><tr><td>2021-08</td><td>kNw+plZCDVl072huBHAq/Q==</td><td>162,58</td><td>PF</td><td>198</td><td>paga</td><td>01/09/2021</td></tr><tr><td>2021-08</td><td>w15EKe4KmrdYnNKScq9kVQ==</td><td>162,58</td><td>PF</td><td>198</td><td>paga</td><td>17/09/2021</td></tr><tr><td>2021-08</td><td>y0T0C2QvQuc1kJBkEI3W7g==</td><td>162,58</td><td>PF</td><td>198</td><td>paga</td><td>11/09/2021</td></tr><tr><td>2021-08</td><td>TN7XLk8DZoOaFJo2rCO+dQ==</td><td>162,58</td><td>PF</td><td>198</td><td>paga</td><td>27/09/2021</td></tr><tr><td>2021-08</td><td>HeZIp8A0HcKUqfmU/K/vOA==</td><td>162,58</td><td>PF</td><td>198</td><td>paga</td><td>05/09/2021</td></tr><tr><td>2021-08</td><td>fYhlKzvicG/gvWGUBMf8ug==</td><td>162,58</td><td>PF</td><td>198</td><td>paga</td><td>02/09/2021</td></tr><tr><td>2021-08</td><td>sPzH/dp6xVUsZDaLhmVSaA==</td><td>162,58</td><td>PF</td><td>198</td><td>paga</td><td>11/09/2021</td></tr><tr><td>2021-08</td><td>h0fb81qpFHuLRJ0uFmtyVg==</td><td>162,58</td><td>PF</td><td>198</td><td>paga</td><td>11/09/2021</td></tr><tr><td>2021-08</td><td>Fb2XHauLUop6NLnAm5Ka6g==</td><td>162,58</td><td>PF</td><td>198</td><td>paga</td><td>11/09/2021</td></tr><tr><td>2021-08</td><td>AYKYZ7G1WeF2S8S3/StJcw==</td><td>162,58</td><td>PF</td><td>198</td><td>paga</td><td>02/09/2021</td></tr><tr><td>2021-08</td><td>HybvG9JESXEg93vbaVMILg==</td><td>162,58</td><td>PF</td><td>198</td><td>em aberto</td><td>29/10/2021</td></tr><tr><td>2021-08</td><td>Uzl4w2LxNOb6RyC/k+DyrA==</td><td>162,58</td><td>PF</td><td>198</td><td>atrasada</td><td>10/09/2021</td></tr><tr><td>2021-08</td><td>e2El7h1NwQKxkukpgEdwww==</td><td>163,4</td><td>PF</td><td>199</td><td>paga</td><td>14/09/2021</td></tr><tr><td>2021-08</td><td>aHJj+dnlwdQFTeY2qu79ww==</td><td>163,4</td><td>PF</td><td>199</td><td>atrasada</td><td>25/10/2021</td></tr><tr><td>2021-08</td><td>PMVo98FyaONOy3yhC5ROWg==</td><td>163,4</td><td>PF</td><td>199</td><td>paga</td><td>10/10/2021</td></tr><tr><td>2021-08</td><td>5zdXk+Yzi8dm+ho11Rn82w==</td><td>163,4</td><td>PF</td><td>199</td><td>paga</td><td>18/09/2021</td></tr><tr><td>2021-08</td><td>ahDp3oos3j7mI55w65Mtyw==</td><td>163,4</td><td>PF</td><td>199</td><td>paga</td><td>08/09/2021</td></tr><tr><td>2021-06</td><td>Jxzb78OlaZydIrDOvDQW9A==</td><td>164,22</td><td>PF</td><td>200</td><td>paga</td><td>11/07/2021</td></tr><tr><td>2021-08</td><td>6wcXhUUmn96vKufoC3uReQ==</td><td>165,04</td><td>PF</td><td>201</td><td>paga</td><td>01/09/2021</td></tr><tr><td>2021-08</td><td>1azmXMW/g1V0QcGVE1JgHA==</td><td>165,86</td><td>PF</td><td>202</td><td>paga</td><td>09/09/2021</td></tr><tr><td>2021-08</td><td>KvatbBjIjwYZXLFr/fHdYQ==</td><td>165,86</td><td>PF</td><td>202</td><td>paga</td><td>13/09/2021</td></tr><tr><td>2021-08</td><td>cnSJ9E2i1guqHe8XH5/Ksg==</td><td>165,86</td><td>PF</td><td>202</td><td>atrasada</td><td>17/09/2021</td></tr><tr><td>2021-08</td><td>/kEY/v0rP6hwwpsHS/4z0w==</td><td>166,68</td><td>PF</td><td>203</td><td>paga</td><td>08/09/2021</td></tr><tr><td>2021-08</td><td>1CjAW0M7eKn87F+ldkZEEA==</td><td>166,68</td><td>PF</td><td>203</td><td>paga</td><td>17/09/2021</td></tr><tr><td>2021-08</td><td>KXyNL4HKcwm0hkbrIGgAOA==</td><td>166,68</td><td>PF</td><td>203</td><td>atrasada</td><td>06/09/2021</td></tr><tr><td>2021-08</td><td>2gT8z1qC0bb9N/7u9+8LVQ==</td><td>167,5</td><td>PF</td><td>204</td><td>paga</td><td>14/09/2021</td></tr><tr><td>2021-07</td><td>D8XJZLQay7E67Y8Qu71GXA==</td><td>168,33</td><td>PF</td><td>205</td><td>paga</td><td>11/08/2021</td></tr><tr><td>2021-08</td><td>oAb47SQTmCBWvYHaZJp4Zw==</td><td>168,33</td><td>PF</td><td>205</td><td>atrasada</td><td>25/08/2021</td></tr><tr><td>2021-08</td><td>nzkuC5cO9JDYZ40ss35h9Q==</td><td>168,33</td><td>PF</td><td>205</td><td>paga</td><td>06/09/2021</td></tr><tr><td>2021-08</td><td>0N+4t6GGVg6P81m5/GOiXw==</td><td>168,33</td><td>PF</td><td>205</td><td>paga</td><td>17/09/2021</td></tr><tr><td>2021-06</td><td>PW/Ab+m2L9GM5EXRu/8T3Q==</td><td>169,15</td><td>PF</td><td>206</td><td>paga</td><td>22/06/2021</td></tr><tr><td>2021-08</td><td>eRVqyUTZdT5UJhmQzVQhag==</td><td>169,15</td><td>PF</td><td>206</td><td>paga</td><td>11/09/2021</td></tr><tr><td>2021-08</td><td>rdp1yD6rrd/z4miE1wHPrg==</td><td>169,15</td><td>PF</td><td>206</td><td>atrasada</td><td>27/09/2021</td></tr><tr><td>2021-08</td><td>+HuzRDvNs5Qw5ST27ZuvNQ==</td><td>169,15</td><td>PF</td><td>206</td><td>paga</td><td>24/09/2021</td></tr><tr><td>2021-08</td><td>fn2qTvj/uy4bkYBCrF1Iew==</td><td>169,15</td><td>PF</td><td>206</td><td>paga</td><td>11/09/2021</td></tr><tr><td>2021-07</td><td>gu6bLEEC1byhKam8IC5nAA==</td><td>169,97</td><td>PF</td><td>207</td><td>paga</td><td>10/08/2021</td></tr><tr><td>2021-07</td><td>kkDaavtIoHIFoKUTel7Rww==</td><td>170,79</td><td>PF</td><td>208</td><td>paga</td><td>08/08/2021</td></tr><tr><td>2021-08</td><td>vpOmlK02ZEl1somitY9o/g==</td><td>170,79</td><td>PF</td><td>208</td><td>atrasada</td><td>04/09/2021</td></tr><tr><td>2021-08</td><td>Vm289JJa4ENy0wfES9dZOg==</td><td>171,61</td><td>PF</td><td>209</td><td>paga</td><td>11/09/2021</td></tr><tr><td>2021-08</td><td>jzGdiIC6wSH+q0XL6pALzw==</td><td>171,61</td><td>PF</td><td>209</td><td>paga</td><td>22/09/2021</td></tr><tr><td>2021-08</td><td>dp5RqtyQetwwIkKuX8TAow==</td><td>171,61</td><td>PF</td><td>209</td><td>paga</td><td>27/08/2021</td></tr><tr><td>2021-08</td><td>Y0LVpcOIlwFV4ZHD388N5g==</td><td>171,61</td><td>PF</td><td>209</td><td>atrasada</td><td>09/09/2021</td></tr><tr><td>2021-08</td><td>+NgyhVMFq5PG/IiS8SRVcQ==</td><td>172,43</td><td>PF</td><td>210</td><td>paga</td><td>11/09/2021</td></tr><tr><td>2021-08</td><td>rhge4R+AjZGo2dqIa/QU+A==</td><td>173,25</td><td>PF</td><td>211</td><td>paga</td><td>27/08/2021</td></tr><tr><td>2021-06</td><td>ttIjSRljsOZg15+xtpOb2A==</td><td>174,07</td><td>PF</td><td>212</td><td>atrasada</td><td>30/08/2021</td></tr><tr><td>2021-08</td><td>G7xbOYUkl0kU5gCYpIK8Rg==</td><td>174,07</td><td>PF</td><td>212</td><td>paga</td><td>08/09/2021</td></tr><tr><td>2021-08</td><td>VvbDG4ofu0IRb3c1xTpaww==</td><td>174,07</td><td>PF</td><td>212</td><td>paga</td><td>14/09/2021</td></tr><tr><td>2021-06</td><td>lN75A4YK314NTDasExAyzw==</td><td>174,89</td><td>PF</td><td>213</td><td>paga</td><td>22/07/2021</td></tr><tr><td>2021-08</td><td>EzIWP8YLRZ0lkZK5uxaZYA==</td><td>175,72</td><td>PF</td><td>214</td><td>paga</td><td>16/09/2021</td></tr><tr><td>2021-07</td><td>NMqVY/b5mLGAlNZe5LrLtg==</td><td>177,36</td><td>PF</td><td>216</td><td>paga</td><td>06/08/2021</td></tr><tr><td>2021-06</td><td>TjiSdm3o4P+/tChxGoBLRw==</td><td>178,18</td><td>PF</td><td>217</td><td>paga</td><td>11/07/2021</td></tr><tr><td>2021-08</td><td>hSm0uJRnbkP88is8Zu8tdw==</td><td>178,18</td><td>PF</td><td>217</td><td>paga</td><td>27/08/2021</td></tr><tr><td>2021-08</td><td>EbHxSAHLKyk8IKQF/8cjPQ==</td><td>178,18</td><td>PF</td><td>217</td><td>paga</td><td>11/09/2021</td></tr><tr><td>2021-08</td><td>vZEgUzpqzS1Mn451mCgHiw==</td><td>178,18</td><td>PF</td><td>217</td><td>paga</td><td>14/09/2021</td></tr><tr><td>2021-08</td><td>Smf+XPSZqvZ1D0bBNAZs7Q==</td><td>179</td><td>PF</td><td>218</td><td>atrasada</td><td>27/09/2021</td></tr><tr><td>2021-06</td><td>/kEY/v0rP6hwwpsHS/4z0w==</td><td>179,82</td><td>PF</td><td>219</td><td>paga</td><td>08/07/2021</td></tr><tr><td>2021-07</td><td>JedxCD3PsKu1/oQhn4pYaw==</td><td>179,82</td><td>PF</td><td>219</td><td>paga</td><td>01/09/2021</td></tr><tr><td>2021-08</td><td>mGk7wCFMz0DBspZoRQ4UYg==</td><td>179,82</td><td>PF</td><td>219</td><td>paga</td><td>03/09/2021</td></tr><tr><td>2021-08</td><td>S6/FOPfxJpaXCs99NSZyTg==</td><td>179,82</td><td>PF</td><td>219</td><td>paga</td><td>18/09/2021</td></tr><tr><td>2021-08</td><td>D/r7JHJ3GLjb2NaQdmpjMQ==</td><td>179,82</td><td>PF</td><td>219</td><td>paga</td><td>11/09/2021</td></tr><tr><td>2021-08</td><td>ceMBuecmXq3uwUQolR5NzA==</td><td>180,64</td><td>PF</td><td>220</td><td>atrasada</td><td>25/08/2021</td></tr><tr><td>2021-08</td><td>fPqAuGRM1wHOEi4X2rfdYQ==</td><td>180,64</td><td>PF</td><td>220</td><td>paga</td><td>27/09/2021</td></tr><tr><td>2021-08</td><td>PW/Ab+m2L9GM5EXRu/8T3Q==</td><td>180,64</td><td>PF</td><td>220</td><td>paga</td><td>22/08/2021</td></tr><tr><td>2021-08</td><td>GD1U7C+QNaksZ1EFg0DERQ==</td><td>181,46</td><td>PF</td><td>221</td><td>paga</td><td>17/09/2021</td></tr><tr><td>2021-08</td><td>ho0zKpjJioZA1Ouom/ka9A==</td><td>181,46</td><td>PF</td><td>221</td><td>atrasada</td><td>13/09/2021</td></tr><tr><td>2021-08</td><td>yLQprTazAdV3AfBeKqeRbQ==</td><td>181,46</td><td>PF</td><td>221</td><td>paga</td><td>17/09/2021</td></tr><tr><td>2021-07</td><td>DIqSQCYDj1vdzLAv/Es/cw==</td><td>182,28</td><td>PF</td><td>222</td><td>atrasada</td><td>11/08/2021</td></tr><tr><td>2021-08</td><td>fYYTG/SyndyshnC+82lKzw==</td><td>182,28</td><td>PF</td><td>222</td><td>atrasada</td><td>18/09/2021</td></tr><tr><td>2021-08</td><td>CJDY15H9W0PUDt3Z56fzhg==</td><td>182,28</td><td>PF</td><td>222</td><td>paga</td><td>08/09/2021</td></tr><tr><td>2021-07</td><td>fPqAuGRM1wHOEi4X2rfdYQ==</td><td>183,11</td><td>PF</td><td>223</td><td>paga</td><td>18/08/2021</td></tr><tr><td>2021-07</td><td>Di9u4ssP8tPV7TjeJ8F+jQ==</td><td>183,11</td><td>PF</td><td>223</td><td>atrasada</td><td>06/09/2021</td></tr><tr><td>2021-07</td><td>6C60MfQkc0MO4UA8hlIZtA==</td><td>183,11</td><td>PF</td><td>223</td><td>paga</td><td>22/08/2021</td></tr><tr><td>2021-07</td><td>pK6NpJ84geJiNGm6pK+RkQ==</td><td>183,11</td><td>PF</td><td>223</td><td>paga</td><td>22/07/2021</td></tr><tr><td>2021-08</td><td>pZNiOKlJE8TX9ew03oJuEA==</td><td>183,11</td><td>PF</td><td>223</td><td>paga</td><td>17/09/2021</td></tr><tr><td>2021-06</td><td>XYo5douM4CMw1nrEi4xPpA==</td><td>183,93</td><td>PF</td><td>224</td><td>paga</td><td>11/07/2021</td></tr><tr><td>2021-08</td><td>DA37LwGUBmSVEfwqWdE69Q==</td><td>183,93</td><td>PF</td><td>224</td><td>paga</td><td>01/09/2021</td></tr><tr><td>2021-08</td><td>SF1rdJlRzKbB9t1y9YVHSA==</td><td>184,75</td><td>PF</td><td>225</td><td>atrasada</td><td>01/09/2021</td></tr><tr><td>2021-06</td><td>jrP2BWf2xzE7LzBDCtYqEw==</td><td>185,57</td><td>PF</td><td>226</td><td>paga</td><td>17/07/2021</td></tr><tr><td>2021-06</td><td>ditaNBV13VRSDXcJOin/Eg==</td><td>185,57</td><td>PF</td><td>226</td><td>paga</td><td>11/07/2021</td></tr><tr><td>2021-06</td><td>UxHch4SzxWmLQzQaTmq3hw==</td><td>185,57</td><td>PF</td><td>226</td><td>atrasada</td><td>13/07/2021</td></tr><tr><td>2021-08</td><td>q2lykMvBDO66hAqYWOHAgw==</td><td>185,57</td><td>PF</td><td>226</td><td>atrasada</td><td>02/09/2021</td></tr><tr><td>2021-08</td><td>UlnkuDpRLKlqtstlpS6HwQ==</td><td>185,57</td><td>PF</td><td>226</td><td>paga</td><td>17/09/2021</td></tr><tr><td>2021-08</td><td>Gxu23HbaLIU9z3QxVsC4kg==</td><td>186,39</td><td>PF</td><td>227</td><td>atrasada</td><td>22/08/2021</td></tr><tr><td>2021-08</td><td>U/eBtk10PWz+98YjkiFtAA==</td><td>186,39</td><td>PF</td><td>227</td><td>paga</td><td>02/09/2021</td></tr><tr><td>2021-07</td><td>hOOl56RQXLu2/z+FZBsxUg==</td><td>187,21</td><td>PF</td><td>228</td><td>paga</td><td>06/08/2021</td></tr><tr><td>2021-08</td><td>8XGraYmKPW2lrDNd5ECMmQ==</td><td>187,21</td><td>PF</td><td>228</td><td>paga</td><td>02/09/2021</td></tr><tr><td>2021-08</td><td>DL98kXm6yOo2HvluYeWXng==</td><td>188,03</td><td>PF</td><td>229</td><td>paga</td><td>09/09/2021</td></tr><tr><td>2021-06</td><td>dp5RqtyQetwwIkKuX8TAow==</td><td>188,85</td><td>PF</td><td>230</td><td>paga</td><td>27/06/2021</td></tr><tr><td>2021-08</td><td>v8/22n3vTA7OhVYeKOT6Fg==</td><td>188,85</td><td>PF</td><td>230</td><td>atrasada</td><td>22/09/2021</td></tr><tr><td>2021-08</td><td>NMqVY/b5mLGAlNZe5LrLtg==</td><td>188,85</td><td>PF</td><td>230</td><td>atrasada</td><td>06/09/2021</td></tr><tr><td>2021-08</td><td>+E8fQGYekj08B6VOJmb65g==</td><td>188,85</td><td>PF</td><td>230</td><td>paga</td><td>08/09/2021</td></tr><tr><td>2021-08</td><td>Q11uqc9PCFAjT4Yrh6Ah0Q==</td><td>188,85</td><td>PF</td><td>230</td><td>paga</td><td>14/09/2021</td></tr><tr><td>2021-08</td><td>f6m5Bp+CzvVbUMo8B4GZwQ==</td><td>188,85</td><td>PF</td><td>230</td><td>atrasada</td><td>22/09/2021</td></tr><tr><td>2021-08</td><td>WYqnad9Yl/aW0/sBpFwZoQ==</td><td>188,85</td><td>PF</td><td>230</td><td>atrasada</td><td>24/09/2021</td></tr><tr><td>2021-08</td><td>jrP2BWf2xzE7LzBDCtYqEw==</td><td>188,85</td><td>PF</td><td>230</td><td>atrasada</td><td>17/09/2021</td></tr><tr><td>2021-08</td><td>fQ/tz+j57Q/LjqFagnqeKQ==</td><td>188,85</td><td>PF</td><td>230</td><td>paga</td><td>13/09/2021</td></tr><tr><td>2021-08</td><td>aLlz1fncweLBRJTVCblqUg==</td><td>188,85</td><td>PF</td><td>230</td><td>paga</td><td>11/09/2021</td></tr><tr><td>2021-08</td><td>92HxhQKZ3umCpFJucKj/8w==</td><td>189,67</td><td>PF</td><td>231</td><td>paga</td><td>22/09/2021</td></tr><tr><td>2021-08</td><td>VKD8G5NshQroaIPHqFe9kA==</td><td>189,67</td><td>PF</td><td>231</td><td>paga</td><td>02/09/2021</td></tr><tr><td>2021-08</td><td>/9YsZAdreFh0x4wCVfDHfQ==</td><td>189,67</td><td>PF</td><td>231</td><td>paga</td><td>11/09/2021</td></tr><tr><td>2021-08</td><td>z2JUlH4uvlA9+b1doN7T1g==</td><td>189,67</td><td>PF</td><td>231</td><td>paga</td><td>06/09/2021</td></tr><tr><td>2021-08</td><td>FQpQ5PnNGC76MSw9eW3oEQ==</td><td>189,67</td><td>PF</td><td>231</td><td>paga</td><td>02/09/2021</td></tr><tr><td>2021-08</td><td>sYX5UEZYOvKI6YurF0NdDw==</td><td>189,67</td><td>PF</td><td>231</td><td>paga</td><td>27/08/2021</td></tr><tr><td>2021-08</td><td>HSUA67lkPWTCORUgnMNIDQ==</td><td>189,67</td><td>PF</td><td>231</td><td>paga</td><td>11/09/2021</td></tr><tr><td>2021-08</td><td>nbMAJtZvAoPXNN6jTeCAig==</td><td>189,67</td><td>PF</td><td>231</td><td>paga</td><td>11/09/2021</td></tr><tr><td>2021-08</td><td>3Q1MDRbEREGqzPqvoQVTPg==</td><td>189,67</td><td>PF</td><td>231</td><td>atrasada</td><td>27/08/2021</td></tr><tr><td>2021-08</td><td>XtH/YeoPsdw5VVyvYoMqHA==</td><td>189,67</td><td>PF</td><td>231</td><td>paga</td><td>05/09/2021</td></tr><tr><td>2021-08</td><td>yuEH9vnanM+fWQnLr2BMXA==</td><td>189,67</td><td>PF</td><td>231</td><td>paga</td><td>11/09/2021</td></tr><tr><td>2021-08</td><td>HZb69Y3+u/PH7MfRsBp/kQ==</td><td>189,67</td><td>PF</td><td>231</td><td>atrasada</td><td>22/09/2021</td></tr><tr><td>2021-08</td><td>v2orRfMK38qXWupavn7Ehg==</td><td>189,67</td><td>PF</td><td>231</td><td>atrasada</td><td>22/09/2021</td></tr><tr><td>2021-08</td><td>Am2uZwnjhEB3D3X05Zdzig==</td><td>190,5</td><td>PF</td><td>232</td><td>atrasada</td><td>11/09/2021</td></tr><tr><td>2021-06</td><td>v2orRfMK38qXWupavn7Ehg==</td><td>191,32</td><td>PF</td><td>233</td><td>paga</td><td>22/07/2021</td></tr><tr><td>2021-08</td><td>+GycBY0/EG9v56mS7lRVoQ==</td><td>191,32</td><td>PF</td><td>233</td><td>paga</td><td>04/09/2021</td></tr><tr><td>2021-07</td><td>LH2SSA/LV4ZrsOdxSaO8Ww==</td><td>192,96</td><td>PF</td><td>235</td><td>paga</td><td>22/08/2021</td></tr><tr><td>2021-08</td><td>OYnN4phLfaAH56xtp/xHWQ==</td><td>192,96</td><td>PF</td><td>235</td><td>paga</td><td>27/08/2021</td></tr><tr><td>2021-06</td><td>pK6NpJ84geJiNGm6pK+RkQ==</td><td>193,78</td><td>PF</td><td>236</td><td>paga</td><td>22/06/2021</td></tr><tr><td>2021-08</td><td>wGKHeVlOEbFmfPokTak1zg==</td><td>194,6</td><td>PF</td><td>237</td><td>paga</td><td>02/09/2021</td></tr><tr><td>2021-07</td><td>LcAslXI1pkNZ3gl7fs8hJA==</td><td>196,24</td><td>PF</td><td>239</td><td>paga</td><td>04/08/2021</td></tr><tr><td>2021-07</td><td>/uD35UdBFtaPkFtxVpgYaQ==</td><td>196,24</td><td>PF</td><td>239</td><td>paga</td><td>16/08/2021</td></tr><tr><td>2021-07</td><td>6tUZF18ismxRus+1vQakWw==</td><td>196,24</td><td>PF</td><td>239</td><td>paga</td><td>17/08/2021</td></tr><tr><td>2021-07</td><td>R35+gb1YyFMvsq2a4JmY/A==</td><td>196,24</td><td>PF</td><td>239</td><td>atrasada</td><td>23/07/2021</td></tr><tr><td>2021-08</td><td>bZBOVVn4DbpD4RDNmFELHQ==</td><td>197,06</td><td>PF</td><td>240</td><td>paga</td><td>27/09/2021</td></tr><tr><td>2021-08</td><td>tUFZTRJs2UOecY98hvegng==</td><td>197,06</td><td>PJ</td><td>240</td><td>paga</td><td>06/09/2021</td></tr><tr><td>2021-07</td><td>ZPMqlZaHH+qePZGELZ/zXw==</td><td>197,89</td><td>PF</td><td>241</td><td>paga</td><td>13/08/2021</td></tr><tr><td>2021-08</td><td>mOet04UCYEm+nSfVaNDbxA==</td><td>198,71</td><td>PF</td><td>242</td><td>paga</td><td>08/09/2021</td></tr><tr><td>2021-08</td><td>fyBXYP9/fn048ZbUhNfZNQ==</td><td>199,53</td><td>PF</td><td>243</td><td>paga</td><td>11/09/2021</td></tr><tr><td>2021-06</td><td>pZNiOKlJE8TX9ew03oJuEA==</td><td>200,35</td><td>PF</td><td>244</td><td>paga</td><td>17/07/2021</td></tr><tr><td>2021-08</td><td>64evQB7KvGPJuibp6svPrw==</td><td>201,17</td><td>PF</td><td>245</td><td>paga</td><td>11/09/2021</td></tr><tr><td>2021-08</td><td>IKm2dnudOjyN46LpDQfqWQ==</td><td>201,17</td><td>PF</td><td>245</td><td>paga</td><td>11/10/2021</td></tr><tr><td>2021-08</td><td>LXK/erRDVyvIGcueZ6HtUQ==</td><td>202,81</td><td>PF</td><td>247</td><td>paga</td><td>11/09/2021</td></tr><tr><td>2021-08</td><td>QRmne2xZaoRn4NuS8NJt7Q==</td><td>202,81</td><td>PF</td><td>247</td><td>paga</td><td>08/09/2021</td></tr><tr><td>2021-08</td><td>9DQSuHBkzxxKgsaiqJ0Row==</td><td>204,45</td><td>PF</td><td>249</td><td>paga</td><td>11/09/2021</td></tr><tr><td>2021-08</td><td>XxUJzSWohZpUtzmVGQgmsA==</td><td>204,45</td><td>PF</td><td>249</td><td>atrasada</td><td>11/09/2021</td></tr><tr><td>2021-08</td><td>/1ZruYaOzHdcWM7oMQDHCA==</td><td>204,45</td><td>PF</td><td>249</td><td>paga</td><td>11/09/2021</td></tr><tr><td>2021-06</td><td>Am2uZwnjhEB3D3X05Zdzig==</td><td>205,28</td><td>PF</td><td>250</td><td>atrasada</td><td>11/07/2021</td></tr><tr><td>2021-07</td><td>+eccAsc0YcE1HVGcYWPAQw==</td><td>205,28</td><td>PF</td><td>250</td><td>paga</td><td>11/08/2021</td></tr><tr><td>2021-08</td><td>OpXaXQ1fM6KnHSSkD0V/CQ==</td><td>205,28</td><td>PF</td><td>250</td><td>paga</td><td>04/09/2021</td></tr><tr><td>2021-08</td><td>Ebf8QcE5qygcuJgPxn8M5A==</td><td>205,28</td><td>PF</td><td>250</td><td>paga</td><td>14/09/2021</td></tr><tr><td>2021-08</td><td>LcAslXI1pkNZ3gl7fs8hJA==</td><td>205,28</td><td>PF</td><td>250</td><td>paga</td><td>25/08/2021</td></tr><tr><td>2021-08</td><td>ZSzN9Rf/RILbxF+WBBA3lA==</td><td>206,1</td><td>PF</td><td>251</td><td>paga</td><td>11/09/2021</td></tr><tr><td>2021-06</td><td>shwndVw1zGqrthlkPcPG4Q==</td><td>206,92</td><td>PF</td><td>252</td><td>paga</td><td>05/07/2021</td></tr><tr><td>2021-08</td><td>8k5F37Vw97Qhxd4ADAhXDA==</td><td>206,92</td><td>PF</td><td>252</td><td>atrasada</td><td>22/09/2021</td></tr><tr><td>2021-08</td><td>xwGG9Y/XDktUD9/5zP3m0g==</td><td>207,74</td><td>PF</td><td>253</td><td>paga</td><td>11/09/2021</td></tr><tr><td>2021-08</td><td>shwndVw1zGqrthlkPcPG4Q==</td><td>207,74</td><td>PF</td><td>253</td><td>paga</td><td>05/09/2021</td></tr><tr><td>2021-08</td><td>ZR7+wr3OFB72ifiNpXK5IQ==</td><td>208,56</td><td>PF</td><td>254</td><td>paga</td><td>11/09/2021</td></tr><tr><td>2021-08</td><td>qxUSgu+zB79dRUUnPBf4pQ==</td><td>209,38</td><td>PF</td><td>255</td><td>atrasada</td><td>06/09/2021</td></tr><tr><td>2021-06</td><td>WTpHPPpw6n6K73Kn4TvYbA==</td><td>210,2</td><td>PF</td><td>256</td><td>paga</td><td>11/07/2021</td></tr><tr><td>2021-07</td><td>l0Po1vbj/D+wctXi/hJlgw==</td><td>210,2</td><td>PF</td><td>256</td><td>paga</td><td>11/08/2021</td></tr><tr><td>2021-07</td><td>oAb47SQTmCBWvYHaZJp4Zw==</td><td>210,2</td><td>PF</td><td>256</td><td>atrasada</td><td>25/07/2021</td></tr><tr><td>2021-08</td><td>ZPMqlZaHH+qePZGELZ/zXw==</td><td>210,2</td><td>PF</td><td>256</td><td>paga</td><td>17/09/2021</td></tr><tr><td>2021-08</td><td>3iscblEJoomexIIF583b6Q==</td><td>210,2</td><td>PF</td><td>256</td><td>paga</td><td>06/09/2021</td></tr><tr><td>2021-06</td><td>IKm2dnudOjyN46LpDQfqWQ==</td><td>211,02</td><td>PF</td><td>257</td><td>paga</td><td>11/08/2021</td></tr><tr><td>2021-08</td><td>WTpHPPpw6n6K73Kn4TvYbA==</td><td>211,02</td><td>PF</td><td>257</td><td>paga</td><td>11/09/2021</td></tr><tr><td>2021-07</td><td>1t0FGYFPJnFiOT4OiSr2Qg==</td><td>211,84</td><td>PF</td><td>258</td><td>paga</td><td>17/08/2021</td></tr><tr><td>2021-07</td><td>IfAPs4X77tHTC8Ag35jstA==</td><td>211,84</td><td>PF</td><td>258</td><td>atrasada</td><td>18/08/2021</td></tr><tr><td>2021-08</td><td>hwsCnqOsxvd4nVv30AIpEw==</td><td>211,84</td><td>PF</td><td>258</td><td>paga</td><td>10/09/2021</td></tr><tr><td>2021-08</td><td>+mMBVi+BS6u3oPciSg763A==</td><td>211,84</td><td>PF</td><td>258</td><td>paga</td><td>08/09/2021</td></tr><tr><td>2021-06</td><td>Y0LVpcOIlwFV4ZHD388N5g==</td><td>212,66</td><td>PF</td><td>259</td><td>paga</td><td>13/08/2021</td></tr><tr><td>2021-08</td><td>LKIxI00kd/4eTtxBNd10sw==</td><td>212,66</td><td>PF</td><td>259</td><td>atrasada</td><td>03/09/2021</td></tr><tr><td>2021-06</td><td>HeZIp8A0HcKUqfmU/K/vOA==</td><td>214,31</td><td>PF</td><td>261</td><td>paga</td><td>05/07/2021</td></tr><tr><td>2021-08</td><td>QgIi9OeDhJ/kEJrQuTmBNw==</td><td>214,31</td><td>PF</td><td>261</td><td>paga</td><td>11/09/2021</td></tr><tr><td>2021-08</td><td>/1QmPKzXASmRxsbo5VPFkw==</td><td>214,31</td><td>PF</td><td>261</td><td>paga</td><td>10/09/2021</td></tr><tr><td>2021-08</td><td>KijJoa+RlAAxw2kd1+tu6A==</td><td>215,13</td><td>PF</td><td>262</td><td>paga</td><td>06/09/2021</td></tr><tr><td>2021-08</td><td>8rkximqi9PHrfJpqelngsA==</td><td>215,95</td><td>PF</td><td>263</td><td>paga</td><td>09/09/2021</td></tr><tr><td>2021-08</td><td>bmHKyqKB7FNiDSPyOdEclg==</td><td>215,95</td><td>PF</td><td>263</td><td>paga</td><td>08/09/2021</td></tr><tr><td>2021-08</td><td>bxtxhMHSwNxt28KUNj0d4Q==</td><td>216,77</td><td>PF</td><td>264</td><td>paga</td><td>06/09/2021</td></tr><tr><td>2021-08</td><td>wXmvieklQhPSeoTjQCaZMg==</td><td>216,77</td><td>PF</td><td>264</td><td>paga</td><td>22/08/2021</td></tr><tr><td>2021-08</td><td>3+xYGEQos3A+LxUvjpGPHg==</td><td>216,77</td><td>PF</td><td>264</td><td>paga</td><td>03/09/2021</td></tr><tr><td>2021-08</td><td>QAccwWgsKNeKsqIGdGUq1w==</td><td>216,77</td><td>PF</td><td>264</td><td>atrasada</td><td>18/09/2021</td></tr><tr><td>2021-06</td><td>IGTswX+emqylQK310JzQdw==</td><td>217,59</td><td>PF</td><td>265</td><td>paga</td><td>11/07/2021</td></tr><tr><td>2021-07</td><td>xo6Ti926k8PyHtQvmCCQLg==</td><td>217,59</td><td>PF</td><td>265</td><td>paga</td><td>11/08/2021</td></tr><tr><td>2021-08</td><td>SxgeJXc75wptndiayWOGsA==</td><td>217,59</td><td>PF</td><td>265</td><td>paga</td><td>25/08/2021</td></tr><tr><td>2021-06</td><td>LcAslXI1pkNZ3gl7fs8hJA==</td><td>218,41</td><td>PF</td><td>266</td><td>paga</td><td>25/06/2021</td></tr><tr><td>2021-07</td><td>WoZqEf2ehYldQ/gNawHTeg==</td><td>218,41</td><td>PF</td><td>266</td><td>paga</td><td>10/08/2021</td></tr><tr><td>2021-08</td><td>4i3wt7x4ZTWbDxWzHH8SSw==</td><td>218,41</td><td>PF</td><td>266</td><td>atrasada</td><td>22/09/2021</td></tr><tr><td>2021-06</td><td>s6Ti+6xVP6wMCOpTkcS5DA==</td><td>220,88</td><td>PF</td><td>269</td><td>paga</td><td>05/07/2021</td></tr><tr><td>2021-08</td><td>qylb6MA8QRdi+SFPS3VmVw==</td><td>220,88</td><td>PF</td><td>269</td><td>paga</td><td>27/08/2021</td></tr><tr><td>2021-06</td><td>JedxCD3PsKu1/oQhn4pYaw==</td><td>224,16</td><td>PF</td><td>273</td><td>paga</td><td>01/08/2021</td></tr><tr><td>2021-08</td><td>sNIklII88BPXRiYRyxAmbQ==</td><td>224,16</td><td>PF</td><td>273</td><td>paga</td><td>09/09/2021</td></tr><tr><td>2021-08</td><td>wpSjqV6Zp3vBx1609Rd9tQ==</td><td>224,98</td><td>PF</td><td>274</td><td>paga</td><td>02/09/2021</td></tr><tr><td>2021-08</td><td>v3ph1Ccjsm+K+qWk3C2MCw==</td><td>224,98</td><td>PF</td><td>274</td><td>paga</td><td>05/09/2021</td></tr><tr><td>2021-08</td><td>OspIR5TKD4dvBtefONBSoQ==</td><td>224,98</td><td>PF</td><td>274</td><td>paga</td><td>22/08/2021</td></tr><tr><td>2021-08</td><td>YpKw8+7AIUemmXDfloZVBA==</td><td>224,98</td><td>PF</td><td>274</td><td>atrasada</td><td>05/09/2021</td></tr><tr><td>2021-08</td><td>66huBi4cPSx3iSDTHcGVEA==</td><td>225,8</td><td>PF</td><td>275</td><td>paga</td><td>03/09/2021</td></tr><tr><td>2021-08</td><td>4/ssLQW9k1O8LR0kJ/uT6w==</td><td>225,8</td><td>PF</td><td>275</td><td>paga</td><td>08/09/2021</td></tr><tr><td>2021-07</td><td>Hf1v5L/6SEmqHPYMSlnRdw==</td><td>226,62</td><td>PF</td><td>276</td><td>paga</td><td>23/07/2021</td></tr><tr><td>2021-06</td><td>XtH/YeoPsdw5VVyvYoMqHA==</td><td>227,44</td><td>PF</td><td>277</td><td>paga</td><td>05/07/2021</td></tr><tr><td>2021-06</td><td>IfAPs4X77tHTC8Ag35jstA==</td><td>229,09</td><td>PF</td><td>279</td><td>atrasada</td><td>18/08/2021</td></tr><tr><td>2021-07</td><td>SWF/C+LFRderNYEre8dfpg==</td><td>229,09</td><td>PF</td><td>279</td><td>paga</td><td>09/08/2021</td></tr><tr><td>2021-07</td><td>VnzrNPuVeaMv42hXcmhH8A==</td><td>229,91</td><td>PF</td><td>280</td><td>paga</td><td>11/08/2021</td></tr><tr><td>2021-08</td><td>OAReC7+gXNFkOM/SCtjscg==</td><td>229,91</td><td>PF</td><td>280</td><td>paga</td><td>10/09/2021</td></tr><tr><td>2021-08</td><td>Md8hF2TXjBuvaMKO3GoklQ==</td><td>230,73</td><td>PJ</td><td>281</td><td>paga</td><td>22/08/2021</td></tr><tr><td>2021-06</td><td>ahDp3oos3j7mI55w65Mtyw==</td><td>231,55</td><td>PF</td><td>282</td><td>paga</td><td>14/07/2021</td></tr><tr><td>2021-06</td><td>HHN7OMwIQ7GxPboqwDO/kQ==</td><td>232,37</td><td>PF</td><td>283</td><td>paga</td><td>22/07/2021</td></tr><tr><td>2021-06</td><td>+eccAsc0YcE1HVGcYWPAQw==</td><td>232,37</td><td>PF</td><td>283</td><td>paga</td><td>11/07/2021</td></tr><tr><td>2021-08</td><td>pK6NpJ84geJiNGm6pK+RkQ==</td><td>232,37</td><td>PF</td><td>283</td><td>paga</td><td>22/08/2021</td></tr><tr><td>2021-08</td><td>p8CIAT6f5tasN71PXpTEEQ==</td><td>233,19</td><td>PF</td><td>284</td><td>paga</td><td>11/09/2021</td></tr><tr><td>2021-08</td><td>vMGbtDBRxmRqyhA+emQYuQ==</td><td>233,19</td><td>PF</td><td>284</td><td>atrasada</td><td>22/09/2021</td></tr><tr><td>2021-08</td><td>aUVQxsPA71sRXUCVso8eqw==</td><td>233,19</td><td>PF</td><td>284</td><td>paga</td><td>04/09/2021</td></tr><tr><td>2021-08</td><td>DLRdET/NZHPCbJSgIGThRA==</td><td>234,01</td><td>PF</td><td>285</td><td>paga</td><td>11/09/2021</td></tr><tr><td>2021-08</td><td>Gmuk7Nvdbecp5GNpi7fplw==</td><td>234,83</td><td>PF</td><td>286</td><td>atrasada</td><td>11/09/2021</td></tr><tr><td>2021-08</td><td>xhfiL/mAaXtaS4pSCkUGuA==</td><td>234,83</td><td>PF</td><td>286</td><td>paga</td><td>22/08/2021</td></tr><tr><td>2021-08</td><td>a9+nbO5cuvwJYIYAHcPcrg==</td><td>236,48</td><td>PF</td><td>288</td><td>atrasada</td><td>11/09/2021</td></tr><tr><td>2021-07</td><td>4r+PAX1MKgvCV+Z05SpLKQ==</td><td>237,3</td><td>PF</td><td>289</td><td>paga</td><td>17/08/2021</td></tr><tr><td>2021-08</td><td>x3RKSBwZ5rgX+iv3t20X0g==</td><td>238,12</td><td>PF</td><td>290</td><td>paga</td><td>09/09/2021</td></tr><tr><td>2021-07</td><td>OSZlcyxf7q+qdBBg/dcDnQ==</td><td>239,76</td><td>PF</td><td>292</td><td>paga</td><td>05/08/2021</td></tr><tr><td>2021-08</td><td>sHd4+fo53XGeq06aimTthA==</td><td>239,76</td><td>PF</td><td>292</td><td>atrasada</td><td>06/09/2021</td></tr><tr><td>2021-08</td><td>ny1geuE7pWQLxbglldGI+w==</td><td>240,58</td><td>PF</td><td>293</td><td>paga</td><td>06/09/2021</td></tr><tr><td>2021-08</td><td>dai+sjs9u7IItyjuLyoqsA==</td><td>240,58</td><td>PF</td><td>293</td><td>atrasada</td><td>27/08/2021</td></tr><tr><td>2021-08</td><td>ihXi1EOI/0MMg4R2/2klmQ==</td><td>242,22</td><td>PF</td><td>295</td><td>paga</td><td>06/09/2021</td></tr><tr><td>2021-06</td><td>ZPMqlZaHH+qePZGELZ/zXw==</td><td>243,87</td><td>PF</td><td>297</td><td>paga</td><td>04/07/2021</td></tr><tr><td>2021-08</td><td>E/8WZ5irsMHXg1miDh/uNA==</td><td>243,87</td><td>PF</td><td>297</td><td>paga</td><td>02/09/2021</td></tr><tr><td>2021-08</td><td>JedxCD3PsKu1/oQhn4pYaw==</td><td>243,87</td><td>PF</td><td>297</td><td>paga</td><td>01/10/2021</td></tr><tr><td>2021-08</td><td>wOUVGpMY7f16XTjpBWQ6CQ==</td><td>243,87</td><td>PF</td><td>297</td><td>paga</td><td>05/10/2021</td></tr><tr><td>2021-08</td><td>/uD35UdBFtaPkFtxVpgYaQ==</td><td>243,87</td><td>PF</td><td>297</td><td>paga</td><td>17/09/2021</td></tr><tr><td>2021-08</td><td>MiADKvNNwRES0l8ziJejyg==</td><td>243,87</td><td>PF</td><td>297</td><td>atrasada</td><td>11/09/2021</td></tr><tr><td>2021-08</td><td>0AlcjEbpg7YnofQTGmo8iQ==</td><td>243,87</td><td>PF</td><td>297</td><td>paga</td><td>22/09/2021</td></tr><tr><td>2021-08</td><td>5yEf2wtx35YxnIw0WhJvSw==</td><td>243,87</td><td>PF</td><td>297</td><td>paga</td><td>25/08/2021</td></tr><tr><td>2021-08</td><td>RLGgEEST0wKTtjmUpkgedQ==</td><td>243,87</td><td>PF</td><td>297</td><td>paga</td><td>06/09/2021</td></tr><tr><td>2021-08</td><td>QuyDjSA+HpH38esNg7QufA==</td><td>244,69</td><td>PF</td><td>298</td><td>paga</td><td>01/09/2021</td></tr><tr><td>2021-07</td><td>/rIJHWogLgPPsCSicMig7w==</td><td>248,79</td><td>PF</td><td>303</td><td>atrasada</td><td>06/08/2021</td></tr><tr><td>2021-07</td><td>SxgeJXc75wptndiayWOGsA==</td><td>248,79</td><td>PF</td><td>303</td><td>paga</td><td>25/07/2021</td></tr><tr><td>2021-08</td><td>1t0FGYFPJnFiOT4OiSr2Qg==</td><td>248,79</td><td>PF</td><td>303</td><td>paga</td><td>17/09/2021</td></tr><tr><td>2021-07</td><td>GqVhTdLnn0v23vKr3GI06w==</td><td>249,61</td><td>PF</td><td>304</td><td>paga</td><td>17/08/2021</td></tr><tr><td>2021-08</td><td>IfAPs4X77tHTC8Ag35jstA==</td><td>249,61</td><td>PF</td><td>304</td><td>atrasada</td><td>23/08/2021</td></tr><tr><td>2021-08</td><td>l0Po1vbj/D+wctXi/hJlgw==</td><td>250,44</td><td>PF</td><td>305</td><td>paga</td><td>11/09/2021</td></tr><tr><td>2021-08</td><td>aFEi4VsOtL1P66vITcBlfA==</td><td>251,26</td><td>PJ</td><td>306</td><td>paga</td><td>06/09/2021</td></tr><tr><td>2021-06</td><td>6tUZF18ismxRus+1vQakWw==</td><td>252,9</td><td>PF</td><td>308</td><td>paga</td><td>17/07/2021</td></tr><tr><td>2021-08</td><td>KM5i56deYjq7WMZqbRQVFQ==</td><td>252,9</td><td>PF</td><td>308</td><td>paga</td><td>11/09/2021</td></tr><tr><td>2021-08</td><td>jflL/zbIvgrUOSZ9/+9RCA==</td><td>254,54</td><td>PF</td><td>310</td><td>paga</td><td>25/08/2021</td></tr><tr><td>2021-06</td><td>LH2SSA/LV4ZrsOdxSaO8Ww==</td><td>256,18</td><td>PF</td><td>312</td><td>paga</td><td>22/07/2021</td></tr><tr><td>2021-08</td><td>LH2SSA/LV4ZrsOdxSaO8Ww==</td><td>256,18</td><td>PF</td><td>312</td><td>paga</td><td>22/09/2021</td></tr><tr><td>2021-08</td><td>ip4OcGIqVRmGsaPjiLkEGQ==</td><td>258,65</td><td>PF</td><td>315</td><td>paga</td><td>18/09/2021</td></tr><tr><td>2021-08</td><td>G8lzjf+uXDYv8q80zOhVvQ==</td><td>260,29</td><td>PF</td><td>317</td><td>paga</td><td>27/08/2021</td></tr><tr><td>2021-08</td><td>6tUZF18ismxRus+1vQakWw==</td><td>261,11</td><td>PF</td><td>318</td><td>paga</td><td>17/09/2021</td></tr><tr><td>2021-08</td><td>m6setGOl8+0O557JhpaLkQ==</td><td>263,57</td><td>PF</td><td>321</td><td>paga</td><td>18/09/2021</td></tr><tr><td>2021-08</td><td>vzx5l88UfFAhjlFJRK1gzA==</td><td>263,57</td><td>PF</td><td>321</td><td>em aberto</td><td>01/11/2021</td></tr><tr><td>2021-08</td><td>I+SNpka9KvAmziv7COoF7w==</td><td>263,57</td><td>PF</td><td>321</td><td>atrasada</td><td>01/09/2021</td></tr><tr><td>2021-08</td><td>zRcpUKgQQWeGNNV65At1Hw==</td><td>264,39</td><td>PF</td><td>322</td><td>paga</td><td>17/09/2021</td></tr><tr><td>2021-08</td><td>qqQBvTopF4YCGCVrULzULg==</td><td>264,39</td><td>PF</td><td>322</td><td>paga</td><td>02/09/2021</td></tr><tr><td>2021-08</td><td>kkDaavtIoHIFoKUTel7Rww==</td><td>265,22</td><td>PF</td><td>323</td><td>paga</td><td>08/09/2021</td></tr><tr><td>2021-06</td><td>kkDaavtIoHIFoKUTel7Rww==</td><td>266,04</td><td>PF</td><td>324</td><td>paga</td><td>08/07/2021</td></tr><tr><td>2021-06</td><td>m6setGOl8+0O557JhpaLkQ==</td><td>266,86</td><td>PF</td><td>325</td><td>paga</td><td>18/07/2021</td></tr><tr><td>2021-07</td><td>6v5r4HKrPa8aTSgHXN7Rwg==</td><td>266,86</td><td>PF</td><td>325</td><td>paga</td><td>06/08/2021</td></tr><tr><td>2021-06</td><td>Hf1v5L/6SEmqHPYMSlnRdw==</td><td>268,5</td><td>PF</td><td>327</td><td>paga</td><td>23/06/2021</td></tr><tr><td>2021-08</td><td>Lrbgx9nDLOqljSlXKETzeA==</td><td>268,5</td><td>PF</td><td>327</td><td>paga</td><td>06/09/2021</td></tr><tr><td>2021-08</td><td>u5oOe/e4XTuYcjkOg51KIA==</td><td>270,14</td><td>PF</td><td>329</td><td>atrasada</td><td>25/08/2021</td></tr><tr><td>2021-08</td><td>lp1xeTIft2Epd9mcjPc51Q==</td><td>270,14</td><td>PF</td><td>329</td><td>paga</td><td>05/09/2021</td></tr><tr><td>2021-08</td><td>arjq/ls9+BHgjW15kV2yEA==</td><td>270,14</td><td>PF</td><td>329</td><td>paga</td><td>06/09/2021</td></tr><tr><td>2021-08</td><td>UmXb5XzbhIpTE5H6vCf1LA==</td><td>271,78</td><td>PF</td><td>331</td><td>atrasada</td><td>15/09/2021</td></tr><tr><td>2021-08</td><td>1Azh3nxFWtFYlI+Sh8bglg==</td><td>272,61</td><td>PJ</td><td>332</td><td>paga</td><td>22/08/2021</td></tr><tr><td>2021-08</td><td>dHY9hQmNOB/Ko+M218c6Ow==</td><td>280</td><td>PF</td><td>341</td><td>paga</td><td>27/09/2021</td></tr><tr><td>2021-07</td><td>xyiE1mNrzpJZLLWGp6P95g==</td><td>280,82</td><td>PF</td><td>342</td><td>paga</td><td>25/07/2021</td></tr><tr><td>2021-08</td><td>+eccAsc0YcE1HVGcYWPAQw==</td><td>281,64</td><td>PF</td><td>343</td><td>paga</td><td>11/09/2021</td></tr><tr><td>2021-08</td><td>SWF/C+LFRderNYEre8dfpg==</td><td>281,64</td><td>PF</td><td>343</td><td>paga</td><td>09/09/2021</td></tr><tr><td>2021-08</td><td>xyqzLzZYftbxYjt/cBsDfw==</td><td>284,92</td><td>PF</td><td>347</td><td>paga</td><td>06/09/2021</td></tr><tr><td>2021-08</td><td>Hw0dLDiwhgjr8jSXBKKzIQ==</td><td>284,92</td><td>PF</td><td>347</td><td>paga</td><td>14/09/2021</td></tr><tr><td>2021-06</td><td>SWF/C+LFRderNYEre8dfpg==</td><td>286,56</td><td>PF</td><td>349</td><td>paga</td><td>09/07/2021</td></tr><tr><td>2021-08</td><td>dMSyV7QV6tM6UsTIv9P6yQ==</td><td>286,56</td><td>PF</td><td>349</td><td>atrasada</td><td>17/09/2021</td></tr><tr><td>2021-06</td><td>dHY9hQmNOB/Ko+M218c6Ow==</td><td>287,39</td><td>PF</td><td>350</td><td>paga</td><td>09/09/2021</td></tr><tr><td>2021-07</td><td>dHY9hQmNOB/Ko+M218c6Ow==</td><td>287,39</td><td>PF</td><td>350</td><td>paga</td><td>09/09/2021</td></tr><tr><td>2021-08</td><td>fCUSM2UP573oHoYbWatwLA==</td><td>288,21</td><td>PF</td><td>351</td><td>atrasada</td><td>18/09/2021</td></tr><tr><td>2021-06</td><td>/uD35UdBFtaPkFtxVpgYaQ==</td><td>290,67</td><td>PF</td><td>354</td><td>paga</td><td>06/08/2021</td></tr><tr><td>2021-06</td><td>l5eWnnF0aiTVTrYmNaxvSw==</td><td>290,67</td><td>PF</td><td>354</td><td>atrasada</td><td>03/07/2021</td></tr><tr><td>2021-08</td><td>ljZQHH1rvDF/eCCnveIT8A==</td><td>290,67</td><td>PF</td><td>354</td><td>paga</td><td>10/09/2021</td></tr><tr><td>2021-08</td><td>9Kj48ClCMIPGICkZUUIjQQ==</td><td>292,31</td><td>PF</td><td>356</td><td>paga</td><td>17/09/2021</td></tr><tr><td>2021-06</td><td>DIqSQCYDj1vdzLAv/Es/cw==</td><td>293,95</td><td>PF</td><td>358</td><td>atrasada</td><td>11/07/2021</td></tr><tr><td>2021-07</td><td>dldkrI1U6wMdLiaG+N7qpg==</td><td>293,95</td><td>PF</td><td>358</td><td>paga</td><td>27/08/2021</td></tr><tr><td>2021-08</td><td>ifNwxfzxi0hM7YfoHlR9oA==</td><td>293,95</td><td>PF</td><td>358</td><td>paga</td><td>17/09/2021</td></tr><tr><td>2021-06</td><td>OSZlcyxf7q+qdBBg/dcDnQ==</td><td>295,6</td><td>PF</td><td>360</td><td>paga</td><td>05/07/2021</td></tr><tr><td>2021-08</td><td>fO2A7J0j8erKRiZnbY+TLA==</td><td>297,24</td><td>PJ</td><td>362</td><td>paga</td><td>14/09/2021</td></tr><tr><td>2021-08</td><td>R35+gb1YyFMvsq2a4JmY/A==</td><td>298,06</td><td>PF</td><td>363</td><td>atrasada</td><td>23/08/2021</td></tr><tr><td>2021-06</td><td>R35+gb1YyFMvsq2a4JmY/A==</td><td>298,88</td><td>PF</td><td>364</td><td>atrasada</td><td>23/06/2021</td></tr><tr><td>2021-08</td><td>IcaO+iaZU4TfPNLtjswDhQ==</td><td>299,7</td><td>PF</td><td>365</td><td>paga</td><td>13/09/2021</td></tr><tr><td>2021-08</td><td>VnzrNPuVeaMv42hXcmhH8A==</td><td>301,34</td><td>PF</td><td>367</td><td>paga</td><td>11/09/2021</td></tr><tr><td>2021-08</td><td>6C60MfQkc0MO4UA8hlIZtA==</td><td>301,34</td><td>PF</td><td>367</td><td>paga</td><td>22/09/2021</td></tr><tr><td>2021-08</td><td>Hf1v5L/6SEmqHPYMSlnRdw==</td><td>302,99</td><td>PF</td><td>369</td><td>paga</td><td>23/08/2021</td></tr><tr><td>2021-07</td><td>HHN7OMwIQ7GxPboqwDO/kQ==</td><td>303,81</td><td>PF</td><td>370</td><td>paga</td><td>22/08/2021</td></tr><tr><td>2021-08</td><td>yjWxCdg6FrRuqFrM1+WUxg==</td><td>303,81</td><td>PF</td><td>370</td><td>atrasada</td><td>27/09/2021</td></tr><tr><td>2021-08</td><td>ODEDXGx7PuYWbaKqKJnQ3A==</td><td>305,45</td><td>PF</td><td>372</td><td>atrasada</td><td>04/09/2021</td></tr><tr><td>2021-07</td><td>B2N6+wwgVhM5syJ/OpQv1A==</td><td>306,27</td><td>PF</td><td>373</td><td>paga</td><td>05/08/2021</td></tr><tr><td>2021-08</td><td>4r+PAX1MKgvCV+Z05SpLKQ==</td><td>306,27</td><td>PF</td><td>373</td><td>paga</td><td>17/09/2021</td></tr><tr><td>2021-07</td><td>YieGbjuc/+lZjaLfPIv9AA==</td><td>307,91</td><td>PF</td><td>375</td><td>paga</td><td>01/08/2021</td></tr><tr><td>2021-08</td><td>08uxcc6mTzhK8gkTXpyPrA==</td><td>311,2</td><td>PF</td><td>379</td><td>paga</td><td>23/08/2021</td></tr><tr><td>2021-06</td><td>SxgeJXc75wptndiayWOGsA==</td><td>312,02</td><td>PF</td><td>380</td><td>paga</td><td>05/07/2021</td></tr><tr><td>2021-08</td><td>6v5r4HKrPa8aTSgHXN7Rwg==</td><td>312,84</td><td>PF</td><td>381</td><td>paga</td><td>06/09/2021</td></tr><tr><td>2021-08</td><td>GqVhTdLnn0v23vKr3GI06w==</td><td>313,66</td><td>PF</td><td>382</td><td>paga</td><td>17/09/2021</td></tr><tr><td>2021-06</td><td>6v5r4HKrPa8aTSgHXN7Rwg==</td><td>316,12</td><td>PF</td><td>385</td><td>paga</td><td>06/07/2021</td></tr><tr><td>2021-08</td><td>wrxbkk6f14AQek2mKevGEw==</td><td>318,59</td><td>PF</td><td>388</td><td>paga</td><td>25/08/2021</td></tr><tr><td>2021-07</td><td>mjb2Dnm+u1enrzy/vQq0Kg==</td><td>320,23</td><td>PF</td><td>390</td><td>paga</td><td>06/08/2021</td></tr><tr><td>2021-08</td><td>WoZqEf2ehYldQ/gNawHTeg==</td><td>321,87</td><td>PF</td><td>392</td><td>paga</td><td>10/09/2021</td></tr><tr><td>2021-06</td><td>xo6Ti926k8PyHtQvmCCQLg==</td><td>322,69</td><td>PF</td><td>393</td><td>paga</td><td>11/07/2021</td></tr><tr><td>2021-07</td><td>tZELdVcO9eUpoQydgaTHig==</td><td>322,69</td><td>PF</td><td>393</td><td>paga</td><td>27/07/2021</td></tr><tr><td>2021-08</td><td>HHN7OMwIQ7GxPboqwDO/kQ==</td><td>322,69</td><td>PF</td><td>393</td><td>paga</td><td>22/09/2021</td></tr><tr><td>2021-06</td><td>/rIJHWogLgPPsCSicMig7w==</td><td>323,51</td><td>PF</td><td>394</td><td>atrasada</td><td>06/07/2021</td></tr><tr><td>2021-06</td><td>ffIig3xHjhZVLk0JShtG+A==</td><td>325,98</td><td>PF</td><td>397</td><td>paga</td><td>27/06/2021</td></tr><tr><td>2021-07</td><td>DNZoQa6d+h7eNzFFAtGgHA==</td><td>335,83</td><td>PF</td><td>409</td><td>paga</td><td>27/07/2021</td></tr><tr><td>2021-06</td><td>GqVhTdLnn0v23vKr3GI06w==</td><td>336,65</td><td>PF</td><td>410</td><td>paga</td><td>17/07/2021</td></tr><tr><td>2021-06</td><td>4r+PAX1MKgvCV+Z05SpLKQ==</td><td>342,4</td><td>PF</td><td>417</td><td>paga</td><td>17/07/2021</td></tr><tr><td>2021-08</td><td>MqSeiQbZ3dFmjh4ov/PzDg==</td><td>342,4</td><td>PF</td><td>417</td><td>paga</td><td>03/09/2021</td></tr><tr><td>2021-08</td><td>xw7PjeRIS6FLrS9lMUWH+A==</td><td>343,22</td><td>PJ</td><td>418</td><td>paga</td><td>01/09/2021</td></tr><tr><td>2021-08</td><td>gu6bLEEC1byhKam8IC5nAA==</td><td>346,5</td><td>PF</td><td>422</td><td>atrasada</td><td>10/09/2021</td></tr><tr><td>2021-06</td><td>9tOK/CBVpqxxMPt8FUVJGg==</td><td>348,97</td><td>PF</td><td>425</td><td>paga</td><td>05/07/2021</td></tr><tr><td>2021-08</td><td>D8XJZLQay7E67Y8Qu71GXA==</td><td>351,43</td><td>PF</td><td>428</td><td>paga</td><td>11/09/2021</td></tr><tr><td>2021-08</td><td>ETYOiriNkZXk7hv5nxiy7A==</td><td>352,25</td><td>PF</td><td>429</td><td>paga</td><td>17/09/2021</td></tr><tr><td>2021-06</td><td>VnzrNPuVeaMv42hXcmhH8A==</td><td>356,36</td><td>PF</td><td>434</td><td>paga</td><td>11/07/2021</td></tr><tr><td>2021-08</td><td>mJPp+sy6m8X1G9473KFFjg==</td><td>362,11</td><td>PJ</td><td>441</td><td>paga</td><td>01/09/2021</td></tr><tr><td>2021-08</td><td>dldkrI1U6wMdLiaG+N7qpg==</td><td>364,57</td><td>PF</td><td>444</td><td>paga</td><td>27/09/2021</td></tr><tr><td>2021-06</td><td>WoZqEf2ehYldQ/gNawHTeg==</td><td>376,06</td><td>PF</td><td>458</td><td>paga</td><td>20/07/2021</td></tr><tr><td>2021-06</td><td>B2N6+wwgVhM5syJ/OpQv1A==</td><td>376,88</td><td>PF</td><td>459</td><td>paga</td><td>05/07/2021</td></tr><tr><td>2021-08</td><td>vx7p+kU3A5Sk66ZyJe1mOg==</td><td>377,71</td><td>PF</td><td>460</td><td>paga</td><td>09/09/2021</td></tr><tr><td>2021-08</td><td>yWRYga2iK1r14cM7SknWZg==</td><td>379,35</td><td>PF</td><td>462</td><td>paga</td><td>08/09/2021</td></tr><tr><td>2021-08</td><td>B2N6+wwgVhM5syJ/OpQv1A==</td><td>382,63</td><td>PF</td><td>466</td><td>paga</td><td>05/09/2021</td></tr><tr><td>2021-08</td><td>wZ7L+AcsH9j779BRRz5C0Q==</td><td>395,77</td><td>PF</td><td>482</td><td>paga</td><td>27/08/2021</td></tr><tr><td>2021-08</td><td>6Cg29/GYVNFuOFLErYWNGw==</td><td>403,16</td><td>PF</td><td>491</td><td>atrasada</td><td>18/09/2021</td></tr><tr><td>2021-06</td><td>mjb2Dnm+u1enrzy/vQq0Kg==</td><td>403,98</td><td>PF</td><td>492</td><td>paga</td><td>01/07/2021</td></tr><tr><td>2021-08</td><td>xyiE1mNrzpJZLLWGp6P95g==</td><td>408,09</td><td>PF</td><td>497</td><td>paga</td><td>25/08/2021</td></tr><tr><td>2021-06</td><td>gu6bLEEC1byhKam8IC5nAA==</td><td>416,3</td><td>PF</td><td>507</td><td>paga</td><td>10/07/2021</td></tr><tr><td>2021-07</td><td>5SFNhs8DbCuQqxOF518FlQ==</td><td>420,4</td><td>PF</td><td>512</td><td>paga</td><td>23/07/2021</td></tr><tr><td>2021-08</td><td>xgZ+TBCr5SghFIl0q6E9ug==</td><td>421,22</td><td>PJ</td><td>513</td><td>paga</td><td>04/09/2021</td></tr><tr><td>2021-08</td><td>DNZoQa6d+h7eNzFFAtGgHA==</td><td>423,69</td><td>PF</td><td>516</td><td>paga</td><td>27/08/2021</td></tr><tr><td>2021-08</td><td>/rtBTlRIuJPmWJGYzTPB5w==</td><td>432,72</td><td>PF</td><td>527</td><td>atrasada</td><td>01/10/2021</td></tr><tr><td>2021-06</td><td>YieGbjuc/+lZjaLfPIv9AA==</td><td>440,11</td><td>PF</td><td>536</td><td>paga</td><td>01/07/2021</td></tr><tr><td>2021-08</td><td>lET7UCrjaG7Y3PJ+EdVQCw==</td><td>444,22</td><td>PF</td><td>541</td><td>paga</td><td>08/09/2021</td></tr><tr><td>2021-06</td><td>yWRYga2iK1r14cM7SknWZg==</td><td>449,96</td><td>PF</td><td>548</td><td>paga</td><td>08/07/2021</td></tr><tr><td>2021-07</td><td>4YsZD//BLNvHA3vEjJMfzA==</td><td>451,61</td><td>PF</td><td>550</td><td>paga</td><td>27/09/2021</td></tr><tr><td>2021-06</td><td>hOOl56RQXLu2/z+FZBsxUg==</td><td>471,31</td><td>PF</td><td>574</td><td>paga</td><td>06/07/2021</td></tr><tr><td>2021-08</td><td>hOOl56RQXLu2/z+FZBsxUg==</td><td>476,24</td><td>PF</td><td>580</td><td>atrasada</td><td>06/09/2021</td></tr><tr><td>2021-08</td><td>YieGbjuc/+lZjaLfPIv9AA==</td><td>478,7</td><td>PF</td><td>583</td><td>paga</td><td>01/09/2021</td></tr><tr><td>2021-08</td><td>OSZlcyxf7q+qdBBg/dcDnQ==</td><td>516,47</td><td>PF</td><td>629</td><td>paga</td><td>05/09/2021</td></tr><tr><td>2021-08</td><td>y28VSM3aS1/qpJyCg24zoA==</td><td>518,11</td><td>PF</td><td>631</td><td>paga</td><td>06/09/2021</td></tr><tr><td>2021-06</td><td>DNZoQa6d+h7eNzFFAtGgHA==</td><td>527,97</td><td>PF</td><td>643</td><td>paga</td><td>27/06/2021</td></tr><tr><td>2021-08</td><td>0iRv/b1/+N8vNj9i/ga8YQ==</td><td>530,43</td><td>PJ</td><td>646</td><td>paga</td><td>22/09/2021</td></tr><tr><td>2021-08</td><td>+qKb+ZDCFO77zJLAsRmOFA==</td><td>541,1</td><td>PF</td><td>659</td><td>paga</td><td>27/08/2021</td></tr><tr><td>2021-08</td><td>P404HFVIEKMzYzSluvAMoA==</td><td>542,75</td><td>PF</td><td>661</td><td>paga</td><td>17/09/2021</td></tr><tr><td>2021-08</td><td>uipGA5dMYVovXISpbx+MfQ==</td><td>555,88</td><td>PJ</td><td>677</td><td>paga</td><td>04/09/2021</td></tr><tr><td>2021-08</td><td>Dh5mhIg0AeCF4NxhYQAhHg==</td><td>574,77</td><td>PF</td><td>700</td><td>paga</td><td>17/09/2021</td></tr><tr><td>2021-07</td><td>r3spi5rZqGuovrf9tezYHg==</td><td>601,05</td><td>PF</td><td>732</td><td>paga</td><td>12/08/2021</td></tr><tr><td>2021-08</td><td>Qbg3/aFRvizq+Qcejpckxg==</td><td>607,61</td><td>PJ</td><td>740</td><td>paga</td><td>17/09/2021</td></tr><tr><td>2021-08</td><td>ZItvSuew643bB1LfNWjyNg==</td><td>649,49</td><td>PJ</td><td>791</td><td>paga</td><td>27/08/2021</td></tr><tr><td>2021-08</td><td>tZELdVcO9eUpoQydgaTHig==</td><td>649,49</td><td>PF</td><td>791</td><td>paga</td><td>27/08/2021</td></tr><tr><td>2021-08</td><td>U0bwdaMugZVH0kfbqs3wRQ==</td><td>661,81</td><td>PJ</td><td>806</td><td>atrasada</td><td>15/10/2021</td></tr><tr><td>2021-08</td><td>ccZLtWE9xQ6jTeAImd7law==</td><td>666,73</td><td>PJ</td><td>812</td><td>paga</td><td>02/09/2021</td></tr><tr><td>2021-08</td><td>mJlrTO8gvWJ5Pl97/XZ8pA==</td><td>720,1</td><td>PF</td><td>877</td><td>paga</td><td>02/09/2021</td></tr><tr><td>2021-07</td><td>Df4MGo9x26KkBFARm1jwJw==</td><td>754,59</td><td>PF</td><td>919</td><td>paga</td><td>17/09/2021</td></tr><tr><td>2021-06</td><td>tZELdVcO9eUpoQydgaTHig==</td><td>767,73</td><td>PF</td><td>935</td><td>paga</td><td>27/06/2021</td></tr><tr><td>2021-08</td><td>gq3rEB0kmnUYIf9ipl4G6w==</td><td>784,15</td><td>PF</td><td>955</td><td>paga</td><td>17/09/2021</td></tr><tr><td>2021-08</td><td>YVHoDqoYWQOcM7BYL2QmEw==</td><td>797,29</td><td>PJ</td><td>971</td><td>paga</td><td>22/09/2021</td></tr><tr><td>2021-08</td><td>4nZTYEBLtGoDnDD4z6n3uw==</td><td>811,25</td><td>PF</td><td>988</td><td>paga</td><td>17/09/2021</td></tr><tr><td>2021-07</td><td>7YROeQmoSGowDDblYgl7eQ==</td><td>826,85</td><td>PF</td><td>1007</td><td>paga</td><td>05/08/2021</td></tr><tr><td>2021-08</td><td>rdSqGkIAjpceVTkfUREvwQ==</td><td>831,77</td><td>PJ</td><td>1013</td><td>paga</td><td>11/09/2021</td></tr><tr><td>2021-08</td><td>SiLcDuID2GQGyljUEs9e5w==</td><td>838,34</td><td>PF</td><td>1021</td><td>paga</td><td>01/09/2021</td></tr><tr><td>2021-08</td><td>5SFNhs8DbCuQqxOF518FlQ==</td><td>838,34</td><td>PF</td><td>1021</td><td>paga</td><td>23/08/2021</td></tr><tr><td>2021-07</td><td>WQdo5Xn3eyIRfY8aY7IE/g==</td><td>852,3</td><td>PJ</td><td>1038</td><td>paga</td><td>06/08/2021</td></tr><tr><td>2021-08</td><td>vmhe845xAR+4OMgym11RZA==</td><td>906,49</td><td>PF</td><td>1104</td><td>paga</td><td>25/08/2021</td></tr><tr><td>2021-08</td><td>4YsZD//BLNvHA3vEjJMfzA==</td><td>954,12</td><td>PF</td><td>1162</td><td>em aberto</td><td>27/10/2021</td></tr><tr><td>2021-08</td><td>2a9ygHmG+Ko1/m2WKXuubw==</td><td>955,76</td><td>PF</td><td>1164</td><td>paga</td><td>22/08/2021</td></tr><tr><td>2021-07</td><td>VnDjAU2gfpm+YrXa9dBDUw==</td><td>1047,72</td><td>PJ</td><td>1276</td><td>paga</td><td>25/07/2021</td></tr><tr><td>2021-08</td><td>VnDjAU2gfpm+YrXa9dBDUw==</td><td>1070,71</td><td>PJ</td><td>1304</td><td>paga</td><td>30/08/2021</td></tr><tr><td>2021-08</td><td>xgAVGICSHW4QXHC0yXdSeQ==</td><td>1087,96</td><td>PF</td><td>1325</td><td>paga</td><td>30/08/2021</td></tr><tr><td>2021-07</td><td>vKPnXIg4MWsGrhLcR85F1Q==</td><td>1131,48</td><td>PJ</td><td>1378</td><td>paga</td><td>04/08/2021</td></tr><tr><td>2021-08</td><td>r3spi5rZqGuovrf9tezYHg==</td><td>1189,77</td><td>PF</td><td>1449</td><td>paga</td><td>04/09/2021</td></tr><tr><td>2021-08</td><td>wHTRwcrSZs39TMd6L0DacQ==</td><td>1309,65</td><td>PJ</td><td>1595</td><td>paga</td><td>18/09/2021</td></tr><tr><td>2021-08</td><td>Df4MGo9x26KkBFARm1jwJw==</td><td>1324,43</td><td>PF</td><td>1613</td><td>paga</td><td>09/09/2021</td></tr><tr><td>2021-07</td><td>xESJLNRefLmV7g3ZqBdnQg==</td><td>1325,26</td><td>PF</td><td>1614</td><td>paga</td><td>23/08/2021</td></tr><tr><td>2021-08</td><td>vKPnXIg4MWsGrhLcR85F1Q==</td><td>1373,7</td><td>PJ</td><td>1673</td><td>paga</td><td>04/09/2021</td></tr><tr><td>2021-08</td><td>WQdo5Xn3eyIRfY8aY7IE/g==</td><td>1382,73</td><td>PJ</td><td>1684</td><td>paga</td><td>16/09/2021</td></tr><tr><td>2021-08</td><td>h8iEA6U9qxBHChmfX0QDnA==</td><td>1423,79</td><td>PJ</td><td>1734</td><td>paga</td><td>02/09/2021</td></tr><tr><td>2021-08</td><td>xESJLNRefLmV7g3ZqBdnQg==</td><td>1730,06</td><td>PF</td><td>2107</td><td>paga</td><td>01/09/2021</td></tr><tr><td>2021-08</td><td>7YROeQmoSGowDDblYgl7eQ==</td><td>1920,55</td><td>PF</td><td>2339</td><td>paga</td><td>05/09/2021</td></tr><tr><td>2021-08</td><td>sNKtzvS3tPzSMBr3hS7VpA==</td><td>1973,92</td><td>PJ</td><td>2404</td><td>paga</td><td>22/08/2021</td></tr><tr><td>2021-08</td><td>WbPtJr2F7sf0vuqmZ4kF3A==</td><td>2379,55</td><td>PJ</td><td>2898</td><td>paga</td><td>27/08/2021</td></tr><tr><td>2021-08</td><td>OwRFc3xqZ7lWgK9sUUswxA==</td><td>2463,3</td><td>PJ</td><td>3000</td><td>paga</td><td>24/09/2021</td></tr></tbody></table></div>"
      ]
     },
     "metadata": {
      "application/vnd.databricks.v1+output": {
       "addedWidgets": {},
       "aggData": [],
       "aggError": "",
       "aggOverflow": false,
       "aggSchema": [],
       "aggSeriesLimitReached": false,
       "aggType": "",
       "arguments": {},
       "columnCustomDisplayInfos": {},
       "data": [
        [
         "2021-08",
         "pdzvVxt0sTz+bKaCSSKDTA==",
         "12,32",
         "PF",
         "15",
         "atrasada",
         "18/09/2021"
        ],
        [
         "2021-07",
         "ZizzQB2y3WeC8WFKlHITYA==",
         "14,78",
         "PF",
         "18",
         "atrasada",
         "22/08/2021"
        ],
        [
         "2021-08",
         "bCs+mH77cGboje62bsm9mA==",
         "27,92",
         "PJ",
         "34",
         "paga",
         "22/09/2021"
        ],
        [
         "2021-08",
         "8LM+iMxb1QpQ3ZMgsrFguQ==",
         "27,92",
         "PJ",
         "34",
         "paga",
         "22/09/2021"
        ],
        [
         "2021-08",
         "M0tjDy+dobkddZ+QXbf5nQ==",
         "27,92",
         "PJ",
         "34",
         "paga",
         "22/09/2021"
        ],
        [
         "2021-07",
         "AHNSEt3bgZuUVvvP1G+TJQ==",
         "29,56",
         "PF",
         "36",
         "paga",
         "05/08/2021"
        ],
        [
         "2021-07",
         "+BSr3N4YHyx5OwxjK/EEUg==",
         "29,56",
         "PF",
         "36",
         "paga",
         "11/08/2021"
        ],
        [
         "2021-07",
         "06BNujsLSeJLF8LCu5LA/g==",
         "29,56",
         "PF",
         "36",
         "atrasada",
         "23/07/2021"
        ],
        [
         "2021-07",
         "gjBF5qPOPd3xWAVY7Pzi5g==",
         "30,38",
         "PF",
         "37",
         "paga",
         "06/08/2021"
        ],
        [
         "2021-08",
         "gjBF5qPOPd3xWAVY7Pzi5g==",
         "32,02",
         "PF",
         "39",
         "paga",
         "06/09/2021"
        ],
        [
         "2021-07",
         "HZb69Y3+u/PH7MfRsBp/kQ==",
         "40,23",
         "PF",
         "49",
         "paga",
         "22/08/2021"
        ],
        [
         "2021-07",
         "puE2imxTzK+1SKFw8HvSeA==",
         "43,52",
         "PF",
         "53",
         "atrasada",
         "22/08/2021"
        ],
        [
         "2021-07",
         "RGdwwu8pN0zAIkVjNRlAYQ==",
         "43,52",
         "PF",
         "53",
         "paga",
         "27/07/2021"
        ],
        [
         "2021-07",
         "HfXuO6yaeRCdRL4oKiWhaw==",
         "43,52",
         "PF",
         "53",
         "paga",
         "18/08/2021"
        ],
        [
         "2021-07",
         "d6pLfG5+4f0YMOrv98AUPQ==",
         "43,52",
         "PF",
         "53",
         "paga",
         "11/08/2021"
        ],
        [
         "2021-07",
         "M3bTLXsc3KJtbJjBeaGfhA==",
         "43,52",
         "PF",
         "53",
         "paga",
         "11/08/2021"
        ],
        [
         "2021-07",
         "b6KQrhMi1sJoM3RSLqPLCw==",
         "43,52",
         "PF",
         "53",
         "paga",
         "11/08/2021"
        ],
        [
         "2021-07",
         "/lFJ2pY/W9mnIG0k1OtgOg==",
         "43,52",
         "PF",
         "53",
         "paga",
         "17/08/2021"
        ],
        [
         "2021-07",
         "+E8fQGYekj08B6VOJmb65g==",
         "44,34",
         "PF",
         "54",
         "paga",
         "08/08/2021"
        ],
        [
         "2021-08",
         "AHNSEt3bgZuUVvvP1G+TJQ==",
         "47,62",
         "PF",
         "58",
         "paga",
         "05/09/2021"
        ],
        [
         "2021-07",
         "h8MyyBd2js7V2KMkb+FSYA==",
         "50,09",
         "PF",
         "61",
         "paga",
         "27/07/2021"
        ],
        [
         "2021-08",
         "ZizzQB2y3WeC8WFKlHITYA==",
         "53,37",
         "PF",
         "65",
         "atrasada",
         "22/09/2021"
        ],
        [
         "2021-08",
         "g+Hzn9pJLWuGPaSYUav4VQ==",
         "53,37",
         "PF",
         "65",
         "paga",
         "10/09/2021"
        ],
        [
         "2021-08",
         "82dUvXVazTDgFQWO0S6+hQ==",
         "54,19",
         "PJ",
         "66",
         "paga",
         "22/09/2021"
        ],
        [
         "2021-08",
         "jvMPVum7ADO5VY3M4oXJxg==",
         "54,19",
         "PF",
         "66",
         "paga",
         "24/09/2021"
        ],
        [
         "2021-07",
         "DTTS7GkxaBYA4YDa4tByFQ==",
         "56,66",
         "PF",
         "69",
         "paga",
         "06/08/2021"
        ],
        [
         "2021-07",
         "MoFqTuP2LaS7TtL1TNW1Vw==",
         "56,66",
         "PF",
         "69",
         "paga",
         "27/07/2021"
        ],
        [
         "2021-07",
         "QgJoQ7pWq8Jhqymr5gmYGw==",
         "56,66",
         "PF",
         "69",
         "paga",
         "08/08/2021"
        ],
        [
         "2021-07",
         "HVltQOhjud5PMHcM/5Qrmw==",
         "56,66",
         "PF",
         "69",
         "paga",
         "27/07/2021"
        ],
        [
         "2021-07",
         "lo7dhMYBgeoyK1AastcSPg==",
         "56,66",
         "PF",
         "69",
         "paga",
         "10/08/2021"
        ],
        [
         "2021-07",
         "QkMST/pLik6WesQCSJaYfw==",
         "56,66",
         "PF",
         "69",
         "paga",
         "11/08/2021"
        ],
        [
         "2021-07",
         "Jxzb78OlaZydIrDOvDQW9A==",
         "56,66",
         "PF",
         "69",
         "paga",
         "11/08/2021"
        ],
        [
         "2021-08",
         "AiOnAxoURmJ0O+bhtv23mQ==",
         "57,48",
         "PF",
         "70",
         "atrasada",
         "27/09/2021"
        ],
        [
         "2021-08",
         "/YTEmsCL8fPWWCX2SBE+3g==",
         "63,22",
         "PF",
         "77",
         "atrasada",
         "11/09/2021"
        ],
        [
         "2021-08",
         "b8+FKOFiizV0CKerZdYlqA==",
         "64,05",
         "PF",
         "78",
         "atrasada",
         "11/09/2021"
        ],
        [
         "2021-08",
         "hlAosPv0Ns7f6T+meiofSg==",
         "65,69",
         "PF",
         "80",
         "atrasada",
         "06/09/2021"
        ],
        [
         "2021-08",
         "+BSr3N4YHyx5OwxjK/EEUg==",
         "66,51",
         "PF",
         "81",
         "paga",
         "17/09/2021"
        ],
        [
         "2021-07",
         "6qVedCTt9cmNiYkd/eF9CQ==",
         "69,79",
         "PF",
         "85",
         "paga",
         "04/08/2021"
        ],
        [
         "2021-07",
         "dEdCFYRoQQdIJtc/O3pTUA==",
         "70,61",
         "PF",
         "86",
         "paga",
         "06/08/2021"
        ],
        [
         "2021-07",
         "6CDyEKgtCmg/UFE/f1iZkg==",
         "70,61",
         "PF",
         "86",
         "paga",
         "01/08/2021"
        ],
        [
         "2021-07",
         "kNw+plZCDVl072huBHAq/Q==",
         "70,61",
         "PF",
         "86",
         "paga",
         "01/08/2021"
        ],
        [
         "2021-07",
         "IxS0HYS+RdQVstzQnQjjNg==",
         "70,61",
         "PF",
         "86",
         "paga",
         "04/08/2021"
        ],
        [
         "2021-07",
         "+/wBRkQ5NaXnKzihMl4GGw==",
         "70,61",
         "PF",
         "86",
         "paga",
         "09/08/2021"
        ],
        [
         "2021-07",
         "hKm4b48Uu4/Wz2h9xG8ILA==",
         "70,61",
         "PF",
         "86",
         "atrasada",
         "17/08/2021"
        ],
        [
         "2021-07",
         "x30nHgTZWDSFEC9asleGUg==",
         "70,61",
         "PF",
         "86",
         "paga",
         "04/08/2021"
        ],
        [
         "2021-07",
         "6hPumClQCNlUSLzgYGyRyA==",
         "70,61",
         "PF",
         "86",
         "paga",
         "10/08/2021"
        ],
        [
         "2021-07",
         "GUzHlfbr0TJ0BIvZhufOfA==",
         "70,61",
         "PF",
         "86",
         "paga",
         "16/08/2021"
        ],
        [
         "2021-07",
         "HKDoob8XWYHkgX5f9GoMrw==",
         "70,61",
         "PF",
         "86",
         "paga",
         "22/07/2021"
        ],
        [
         "2021-07",
         "mJ/srCit/PlQIzR6jcPXlA==",
         "70,61",
         "PF",
         "86",
         "atrasada",
         "10/08/2021"
        ],
        [
         "2021-07",
         "TN7XLk8DZoOaFJo2rCO+dQ==",
         "70,61",
         "PF",
         "86",
         "paga",
         "27/08/2021"
        ],
        [
         "2021-07",
         "ZpZFH4nyD62VYk1tprvDaQ==",
         "70,61",
         "PF",
         "86",
         "paga",
         "17/08/2021"
        ],
        [
         "2021-07",
         "Sp1CJHNIt0vmnWrxIL4A+Q==",
         "70,61",
         "PF",
         "86",
         "paga",
         "06/08/2021"
        ],
        [
         "2021-07",
         "vi8NLEhYjRPhFMDTBcy9mg==",
         "70,61",
         "PF",
         "86",
         "paga",
         "11/08/2021"
        ],
        [
         "2021-08",
         "3CTThNJ7ZfZtUGO/4wUrEQ==",
         "70,61",
         "PF",
         "86",
         "paga",
         "03/09/2021"
        ],
        [
         "2021-07",
         "1GZjSYwr02ilzEtWvoXYCA==",
         "73,08",
         "PF",
         "89",
         "paga",
         "05/08/2021"
        ],
        [
         "2021-07",
         "is7+EcidED1cUGcVIPij0Q==",
         "73,9",
         "PF",
         "90",
         "paga",
         "25/07/2021"
        ],
        [
         "2021-08",
         "d9o8rveLw7X/do0yqBHb4w==",
         "73,9",
         "PF",
         "90",
         "paga",
         "17/09/2021"
        ],
        [
         "2021-08",
         "puE2imxTzK+1SKFw8HvSeA==",
         "73,9",
         "PF",
         "90",
         "atrasada",
         "22/09/2021"
        ],
        [
         "2021-08",
         "ONWuc/pobBnSSI0kUE5CRw==",
         "76,36",
         "PF",
         "93",
         "paga",
         "01/09/2021"
        ],
        [
         "2021-08",
         "GL+UPKMs+xEe0I6QsSaOxw==",
         "78,83",
         "PJ",
         "96",
         "paga",
         "17/09/2021"
        ],
        [
         "2021-08",
         "tUF1uorNJG3dbf5+fNnRMA==",
         "79,65",
         "PF",
         "97",
         "atrasada",
         "17/09/2021"
        ],
        [
         "2021-08",
         "cWJHZ/FspoF+l3s35SdXRQ==",
         "81,29",
         "PF",
         "99",
         "atrasada",
         "11/09/2021"
        ],
        [
         "2021-08",
         "06BNujsLSeJLF8LCu5LA/g==",
         "81,29",
         "PF",
         "99",
         "atrasada",
         "23/08/2021"
        ],
        [
         "2021-08",
         "XBbk8R4M72UCd83yTFTjCQ==",
         "81,29",
         "PF",
         "99",
         "paga",
         "11/09/2021"
        ],
        [
         "2021-08",
         "SGaWn91thtSp2OB1gjE3+w==",
         "81,29",
         "PF",
         "99",
         "atrasada",
         "23/08/2021"
        ],
        [
         "2021-08",
         "b6KQrhMi1sJoM3RSLqPLCw==",
         "82,93",
         "PF",
         "101",
         "paga",
         "11/09/2021"
        ],
        [
         "2021-07",
         "m6setGOl8+0O557JhpaLkQ==",
         "84,57",
         "PF",
         "103",
         "paga",
         "18/08/2021"
        ],
        [
         "2021-07",
         "VvbDG4ofu0IRb3c1xTpaww==",
         "85,39",
         "PF",
         "104",
         "paga",
         "14/08/2021"
        ],
        [
         "2021-07",
         "XtH/YeoPsdw5VVyvYoMqHA==",
         "85,39",
         "PF",
         "104",
         "paga",
         "05/08/2021"
        ],
        [
         "2021-07",
         "UsHK7PgOieW38yp1JepzOQ==",
         "85,39",
         "PF",
         "104",
         "paga",
         "13/08/2021"
        ],
        [
         "2021-07",
         "EzIWP8YLRZ0lkZK5uxaZYA==",
         "85,39",
         "PF",
         "104",
         "paga",
         "06/08/2021"
        ],
        [
         "2021-07",
         "VKD8G5NshQroaIPHqFe9kA==",
         "85,39",
         "PF",
         "104",
         "paga",
         "02/08/2021"
        ],
        [
         "2021-07",
         "COYG7vGPidIY9syR8J5atg==",
         "85,39",
         "PF",
         "104",
         "paga",
         "11/09/2021"
        ],
        [
         "2021-07",
         "mGk7wCFMz0DBspZoRQ4UYg==",
         "85,39",
         "PF",
         "104",
         "paga",
         "06/08/2021"
        ],
        [
         "2021-07",
         "hHU9zMo7tuHcFPFqpwttjw==",
         "85,39",
         "PF",
         "104",
         "paga",
         "03/08/2021"
        ],
        [
         "2021-07",
         "b77jb6PdEw/AuGtn0xMCGw==",
         "85,39",
         "PF",
         "104",
         "paga",
         "11/08/2021"
        ],
        [
         "2021-07",
         "vpOmlK02ZEl1somitY9o/g==",
         "85,39",
         "PF",
         "104",
         "atrasada",
         "04/08/2021"
        ],
        [
         "2021-07",
         "acoT2u5mHURKRxUAxI7mow==",
         "85,39",
         "PF",
         "104",
         "atrasada",
         "27/08/2021"
        ],
        [
         "2021-07",
         "Q11uqc9PCFAjT4Yrh6Ah0Q==",
         "85,39",
         "PF",
         "104",
         "paga",
         "14/08/2021"
        ],
        [
         "2021-07",
         "jzGdiIC6wSH+q0XL6pALzw==",
         "85,39",
         "PF",
         "104",
         "paga",
         "22/08/2021"
        ],
        [
         "2021-07",
         "cnSJ9E2i1guqHe8XH5/Ksg==",
         "85,39",
         "PF",
         "104",
         "atrasada",
         "17/08/2021"
        ],
        [
         "2021-07",
         "3Q1MDRbEREGqzPqvoQVTPg==",
         "85,39",
         "PF",
         "104",
         "atrasada",
         "27/07/2021"
        ],
        [
         "2021-07",
         "rWh2s/k2UHNy/7BuGcyMsQ==",
         "85,39",
         "PF",
         "104",
         "paga",
         "14/08/2021"
        ],
        [
         "2021-07",
         "fYYTG/SyndyshnC+82lKzw==",
         "85,39",
         "PF",
         "104",
         "paga",
         "18/08/2021"
        ],
        [
         "2021-07",
         "0huwKrYwGsmRNdMXQAE2jQ==",
         "85,39",
         "PF",
         "104",
         "atrasada",
         "09/08/2021"
        ],
        [
         "2021-07",
         "YoAWAndesF68Ftz1poolOQ==",
         "85,39",
         "PF",
         "104",
         "paga",
         "17/08/2021"
        ],
        [
         "2021-07",
         "T75RwUdKAiSS9m9WAP4HYA==",
         "85,39",
         "PF",
         "104",
         "paga",
         "06/08/2021"
        ],
        [
         "2021-08",
         "+/wBRkQ5NaXnKzihMl4GGw==",
         "85,39",
         "PF",
         "104",
         "paga",
         "10/09/2021"
        ],
        [
         "2021-08",
         "LKJkrZB+HBr9Ckv3M05Q6Q==",
         "86,22",
         "PF",
         "105",
         "atrasada",
         "11/09/2021"
        ],
        [
         "2021-08",
         "e0WtH0FnTQiry0DBkO5paA==",
         "87,86",
         "PF",
         "107",
         "atrasada",
         "17/09/2021"
        ],
        [
         "2021-08",
         "xeqzDrCg4ctQQdgifzziNg==",
         "87,86",
         "PF",
         "107",
         "atrasada",
         "09/09/2021"
        ],
        [
         "2021-08",
         "XlNaMk0g5BEiFxUg8T2ohg==",
         "87,86",
         "PF",
         "107",
         "atrasada",
         "11/09/2021"
        ],
        [
         "2021-08",
         "c8QpIPXhFuxPFn9N+6hPEg==",
         "89,5",
         "PF",
         "109",
         "atrasada",
         "27/08/2021"
        ],
        [
         "2021-08",
         "6vnCvePRpfWKJ80ijhqECA==",
         "89,5",
         "PF",
         "109",
         "paga",
         "03/09/2021"
        ],
        [
         "2021-08",
         "sysl53dhmaAetcF5DCaPWA==",
         "89,5",
         "PF",
         "109",
         "paga",
         "02/09/2021"
        ],
        [
         "2021-08",
         "lOPGVTdPsJfkdTa6t07tww==",
         "91,96",
         "PF",
         "112",
         "paga",
         "17/09/2021"
        ],
        [
         "2021-07",
         "rB4WT5NPzbG/cUDP/gLB5w==",
         "93,61",
         "PF",
         "114",
         "paga",
         "27/07/2021"
        ],
        [
         "2021-08",
         "aoPlic01PUNA8TdBCr2dpQ==",
         "93,61",
         "PF",
         "114",
         "atrasada",
         "04/09/2021"
        ],
        [
         "2021-08",
         "7AOYm14uUZRjaDwMQZazww==",
         "94,43",
         "PF",
         "115",
         "paga",
         "01/09/2021"
        ],
        [
         "2021-07",
         "hSm0uJRnbkP88is8Zu8tdw==",
         "95,25",
         "PF",
         "116",
         "paga",
         "27/07/2021"
        ],
        [
         "2021-08",
         "6hPumClQCNlUSLzgYGyRyA==",
         "96,89",
         "PF",
         "118",
         "paga",
         "05/09/2021"
        ],
        [
         "2021-07",
         "HeZIp8A0HcKUqfmU/K/vOA==",
         "97,71",
         "PF",
         "119",
         "paga",
         "05/08/2021"
        ],
        [
         "2021-08",
         "HvbUwmlCLgKObI1VQJwpvQ==",
         "97,71",
         "PF",
         "119",
         "atrasada",
         "11/09/2021"
        ],
        [
         "2021-07",
         "S6/FOPfxJpaXCs99NSZyTg==",
         "98,53",
         "PF",
         "120",
         "paga",
         "18/08/2021"
        ],
        [
         "2021-07",
         "wfiC/QpN6dv/l22TrAh89Q==",
         "98,53",
         "PF",
         "120",
         "paga",
         "18/08/2021"
        ],
        [
         "2021-08",
         "cZoraBtJghaD0AupQ8jLYA==",
         "98,53",
         "PF",
         "120",
         "paga",
         "17/09/2021"
        ],
        [
         "2021-08",
         "1GZjSYwr02ilzEtWvoXYCA==",
         "98,53",
         "PF",
         "120",
         "paga",
         "05/09/2021"
        ],
        [
         "2021-06",
         "rB4WT5NPzbG/cUDP/gLB5w==",
         "101",
         "PF",
         "123",
         "paga",
         "07/07/2021"
        ],
        [
         "2021-08",
         "syQX+i/A2OHd46EmQlmVdw==",
         "101",
         "PF",
         "123",
         "atrasada",
         "01/09/2021"
        ],
        [
         "2021-08",
         "tZFeNYg6+OjGF1VbtSo/qQ==",
         "102,64",
         "PF",
         "125",
         "paga",
         "17/09/2021"
        ],
        [
         "2021-08",
         "dEdCFYRoQQdIJtc/O3pTUA==",
         "102,64",
         "PF",
         "125",
         "paga",
         "06/09/2021"
        ],
        [
         "2021-08",
         "WMwY4TftNcrTHCD/FhLBeQ==",
         "104,28",
         "PF",
         "127",
         "paga",
         "27/08/2021"
        ],
        [
         "2021-08",
         "M3bTLXsc3KJtbJjBeaGfhA==",
         "104,28",
         "PF",
         "127",
         "paga",
         "11/09/2021"
        ],
        [
         "2021-07",
         "Pg3I1Vs6l0MAYB4Msm/UAg==",
         "105,92",
         "PF",
         "129",
         "atrasada",
         "27/07/2021"
        ],
        [
         "2021-08",
         "jexVhcKhoYahs/QIlgSABg==",
         "105,92",
         "PF",
         "129",
         "paga",
         "11/09/2021"
        ],
        [
         "2021-08",
         "uPRnbcZeMKgxgQCHFHx1Gw==",
         "107,56",
         "PF",
         "131",
         "paga",
         "11/09/2021"
        ],
        [
         "2021-08",
         "/lFJ2pY/W9mnIG0k1OtgOg==",
         "107,56",
         "PF",
         "131",
         "paga",
         "17/09/2021"
        ],
        [
         "2021-08",
         "Jxzb78OlaZydIrDOvDQW9A==",
         "107,56",
         "PF",
         "131",
         "paga",
         "11/09/2021"
        ],
        [
         "2021-08",
         "mNgB0NscQJJZuLvEOOmk4g==",
         "107,56",
         "PF",
         "131",
         "paga",
         "22/09/2021"
        ],
        [
         "2021-08",
         "XrV4zZJ1ojOnBIqztAUQBQ==",
         "107,56",
         "PF",
         "131",
         "paga",
         "06/09/2021"
        ],
        [
         "2021-08",
         "hIBBZIDC9onnvu0gHUdqYw==",
         "107,56",
         "PF",
         "131",
         "atrasada",
         "10/09/2021"
        ],
        [
         "2021-08",
         "e/t8QYon5AKgv6Rt9UatSw==",
         "107,56",
         "PF",
         "131",
         "paga",
         "22/09/2021"
        ],
        [
         "2021-08",
         "d6pLfG5+4f0YMOrv98AUPQ==",
         "107,56",
         "PF",
         "131",
         "paga",
         "11/09/2021"
        ],
        [
         "2021-06",
         "hHU9zMo7tuHcFPFqpwttjw==",
         "108,39",
         "PF",
         "132",
         "paga",
         "03/07/2021"
        ],
        [
         "2021-08",
         "HfXuO6yaeRCdRL4oKiWhaw==",
         "108,39",
         "PF",
         "132",
         "paga",
         "21/09/2021"
        ],
        [
         "2021-08",
         "yqmMiKvmzv6IX2L2Bvgr4A==",
         "108,39",
         "PF",
         "132",
         "atrasada",
         "08/09/2021"
        ],
        [
         "2021-08",
         "mg7lHu7N3URSRoqROta8Vw==",
         "108,39",
         "PF",
         "132",
         "atrasada",
         "06/09/2021"
        ],
        [
         "2021-08",
         "RGdwwu8pN0zAIkVjNRlAYQ==",
         "108,39",
         "PF",
         "132",
         "paga",
         "27/08/2021"
        ],
        [
         "2021-08",
         "uXDb7zeuHgexhMl+pynlsA==",
         "108,39",
         "PF",
         "132",
         "paga",
         "06/10/2021"
        ],
        [
         "2021-08",
         "egaV9NU1g6gQzJKHRKsd7A==",
         "108,39",
         "PF",
         "132",
         "paga",
         "23/08/2021"
        ],
        [
         "2021-08",
         "Hq5rKuhL4vcPCEAqKSBztA==",
         "109,21",
         "PF",
         "133",
         "paga",
         "03/09/2021"
        ],
        [
         "2021-08",
         "UsHK7PgOieW38yp1JepzOQ==",
         "109,21",
         "PF",
         "133",
         "paga",
         "11/09/2021"
        ],
        [
         "2021-08",
         "Za1osX6qAtnHHjGNihIdrg==",
         "110,03",
         "PF",
         "134",
         "paga",
         "15/09/2021"
        ],
        [
         "2021-08",
         "KWis/WAxh+vO2YVFVmCvdA==",
         "110,03",
         "PF",
         "134",
         "paga",
         "17/09/2021"
        ],
        [
         "2021-08",
         "wKMSdRnJaPcK5OSZefCj7A==",
         "110,03",
         "PF",
         "134",
         "atrasada",
         "11/09/2021"
        ],
        [
         "2021-08",
         "lN75A4YK314NTDasExAyzw==",
         "111,67",
         "PF",
         "136",
         "paga",
         "22/09/2021"
        ],
        [
         "2021-08",
         "0huwKrYwGsmRNdMXQAE2jQ==",
         "111,67",
         "PF",
         "136",
         "atrasada",
         "09/09/2021"
        ],
        [
         "2021-08",
         "vYMnR618F0IAzLlJj6XSEg==",
         "111,67",
         "PF",
         "136",
         "atrasada",
         "11/09/2021"
        ],
        [
         "2021-07",
         "wOUVGpMY7f16XTjpBWQ6CQ==",
         "112,49",
         "PF",
         "137",
         "paga",
         "24/08/2021"
        ],
        [
         "2021-07",
         "l5eWnnF0aiTVTrYmNaxvSw==",
         "112,49",
         "PF",
         "137",
         "atrasada",
         "03/08/2021"
        ],
        [
         "2021-07",
         "XxUJzSWohZpUtzmVGQgmsA==",
         "112,49",
         "PF",
         "137",
         "atrasada",
         "11/08/2021"
        ],
        [
         "2021-07",
         "yLQprTazAdV3AfBeKqeRbQ==",
         "112,49",
         "PF",
         "137",
         "paga",
         "17/08/2021"
        ],
        [
         "2021-07",
         "5zdXk+Yzi8dm+ho11Rn82w==",
         "112,49",
         "PF",
         "137",
         "paga",
         "13/08/2021"
        ],
        [
         "2021-07",
         "qxUSgu+zB79dRUUnPBf4pQ==",
         "112,49",
         "PF",
         "137",
         "paga",
         "06/08/2021"
        ],
        [
         "2021-07",
         "vMGbtDBRxmRqyhA+emQYuQ==",
         "112,49",
         "PF",
         "137",
         "atrasada",
         "22/08/2021"
        ],
        [
         "2021-07",
         "cnYZeRjUvWNFmdSU3Ko2+w==",
         "112,49",
         "PF",
         "137",
         "paga",
         "27/07/2021"
        ],
        [
         "2021-07",
         "5yEf2wtx35YxnIw0WhJvSw==",
         "112,49",
         "PF",
         "137",
         "paga",
         "25/07/2021"
        ],
        [
         "2021-07",
         "RLGgEEST0wKTtjmUpkgedQ==",
         "112,49",
         "PF",
         "137",
         "paga",
         "06/08/2021"
        ],
        [
         "2021-07",
         "MiADKvNNwRES0l8ziJejyg==",
         "112,49",
         "PF",
         "137",
         "paga",
         "11/08/2021"
        ],
        [
         "2021-07",
         "lN75A4YK314NTDasExAyzw==",
         "112,49",
         "PF",
         "137",
         "paga",
         "22/08/2021"
        ],
        [
         "2021-08",
         "b77jb6PdEw/AuGtn0xMCGw==",
         "113,31",
         "PF",
         "138",
         "paga",
         "11/09/2021"
        ],
        [
         "2021-08",
         "Qf+j5OlrKcU0lXRIYfZ4tQ==",
         "114,95",
         "PJ",
         "140",
         "paga",
         "17/09/2021"
        ],
        [
         "2021-08",
         "wckgF0Ifr9/KUHWBbP/Ndw==",
         "115,78",
         "PF",
         "141",
         "paga",
         "11/09/2021"
        ],
        [
         "2021-08",
         "HVltQOhjud5PMHcM/5Qrmw==",
         "115,78",
         "PF",
         "141",
         "paga",
         "27/08/2021"
        ],
        [
         "2021-07",
         "mjIJhQrgXkCy7rRy7AxJHQ==",
         "116,6",
         "PF",
         "142",
         "atrasada",
         "13/08/2021"
        ],
        [
         "2021-08",
         "rulwPA84H1S8+I+GB36zdw==",
         "116,6",
         "PF",
         "142",
         "paga",
         "11/09/2021"
        ],
        [
         "2021-08",
         "J1n5zcD4/EZUvpXuMOZcGQ==",
         "116,6",
         "PF",
         "142",
         "paga",
         "22/08/2021"
        ],
        [
         "2021-08",
         "T75RwUdKAiSS9m9WAP4HYA==",
         "116,6",
         "PF",
         "142",
         "paga",
         "06/09/2021"
        ],
        [
         "2021-08",
         "hHU9zMo7tuHcFPFqpwttjw==",
         "118,24",
         "PF",
         "144",
         "paga",
         "03/09/2021"
        ],
        [
         "2021-08",
         "k4fMQkjF4BDIsZcVwq9L0g==",
         "118,24",
         "PF",
         "144",
         "paga",
         "11/09/2021"
        ],
        [
         "2021-07",
         "w15EKe4KmrdYnNKScq9kVQ==",
         "119,06",
         "PF",
         "145",
         "paga",
         "17/08/2021"
        ],
        [
         "2021-08",
         "GgalMmgHpA+GZ3vo0wCrIg==",
         "119,06",
         "PF",
         "145",
         "paga",
         "18/09/2021"
        ],
        [
         "2021-06",
         "rWh2s/k2UHNy/7BuGcyMsQ==",
         "119,88",
         "PF",
         "146",
         "paga",
         "14/07/2021"
        ],
        [
         "2021-07",
         "/kEY/v0rP6hwwpsHS/4z0w==",
         "119,88",
         "PF",
         "146",
         "paga",
         "10/09/2021"
        ],
        [
         "2021-08",
         "kcqH6iodQT8LWlmURmI5dg==",
         "119,88",
         "PF",
         "146",
         "paga",
         "27/09/2021"
        ],
        [
         "2021-08",
         "HKDoob8XWYHkgX5f9GoMrw==",
         "119,88",
         "PF",
         "146",
         "paga",
         "22/08/2021"
        ],
        [
         "2021-07",
         "v2orRfMK38qXWupavn7Ehg==",
         "120,7",
         "PF",
         "147",
         "paga",
         "22/08/2021"
        ],
        [
         "2021-08",
         "b58Nf5idxgSalgEv0WlO7Q==",
         "120,7",
         "PF",
         "147",
         "paga",
         "11/09/2021"
        ],
        [
         "2021-08",
         "DTTS7GkxaBYA4YDa4tByFQ==",
         "120,7",
         "PF",
         "147",
         "paga",
         "06/09/2021"
        ],
        [
         "2021-07",
         "XYo5douM4CMw1nrEi4xPpA==",
         "121,52",
         "PF",
         "148",
         "paga",
         "11/08/2021"
        ],
        [
         "2021-08",
         "mjIJhQrgXkCy7rRy7AxJHQ==",
         "121,52",
         "PF",
         "148",
         "atrasada",
         "13/09/2021"
        ],
        [
         "2021-08",
         "QkMST/pLik6WesQCSJaYfw==",
         "121,52",
         "PF",
         "148",
         "atrasada",
         "11/09/2021"
        ],
        [
         "2021-08",
         "lo7dhMYBgeoyK1AastcSPg==",
         "122,34",
         "PF",
         "149",
         "paga",
         "10/09/2021"
        ],
        [
         "2021-08",
         "hKm4b48Uu4/Wz2h9xG8ILA==",
         "123,17",
         "PF",
         "150",
         "atrasada",
         "17/09/2021"
        ],
        [
         "2021-08",
         "Sp1CJHNIt0vmnWrxIL4A+Q==",
         "123,17",
         "PF",
         "150",
         "paga",
         "06/09/2021"
        ],
        [
         "2021-08",
         "rB4WT5NPzbG/cUDP/gLB5w==",
         "123,17",
         "PF",
         "150",
         "paga",
         "27/08/2021"
        ],
        [
         "2021-08",
         "YXfq6l5npiorACfSxNtGTQ==",
         "123,99",
         "PF",
         "151",
         "paga",
         "23/08/2021"
        ],
        [
         "2021-08",
         "2UAH4sRF5vRvGMUt5IjQWQ==",
         "123,99",
         "PF",
         "151",
         "paga",
         "17/09/2021"
        ],
        [
         "2021-08",
         "DV+Np0YplbQpcJJzIy+BNA==",
         "123,99",
         "PF",
         "151",
         "paga",
         "18/09/2021"
        ],
        [
         "2021-08",
         "BGOkNhli52eW8kqAT4LkKg==",
         "123,99",
         "PF",
         "151",
         "paga",
         "11/09/2021"
        ],
        [
         "2021-08",
         "XQ/fb2VdNj3mcZAj6Iryhw==",
         "124,81",
         "PF",
         "152",
         "paga",
         "06/09/2021"
        ],
        [
         "2021-08",
         "flM4Z50LjmJjGb43L2SEpA==",
         "125,63",
         "PF",
         "153",
         "paga",
         "09/09/2021"
        ],
        [
         "2021-08",
         "OH9GESv2oBSHT+PBxok+KQ==",
         "125,63",
         "PF",
         "153",
         "paga",
         "17/09/2021"
        ],
        [
         "2021-08",
         "JIVoSiIN6prTAA8ryS9B9g==",
         "125,63",
         "PF",
         "153",
         "paga",
         "17/09/2021"
        ],
        [
         "2021-08",
         "2UjwCve3t34vS+LPNSJNtg==",
         "126,45",
         "PF",
         "154",
         "paga",
         "11/09/2021"
        ],
        [
         "2021-08",
         "6CDyEKgtCmg/UFE/f1iZkg==",
         "126,45",
         "PF",
         "154",
         "paga",
         "01/09/2021"
        ],
        [
         "2021-06",
         "is7+EcidED1cUGcVIPij0Q==",
         "127,27",
         "PF",
         "155",
         "paga",
         "25/06/2021"
        ],
        [
         "2021-07",
         "ho0zKpjJioZA1Ouom/ka9A==",
         "127,27",
         "PF",
         "155",
         "atrasada",
         "13/08/2021"
        ],
        [
         "2021-07",
         "a9+nbO5cuvwJYIYAHcPcrg==",
         "127,27",
         "PF",
         "155",
         "atrasada",
         "11/08/2021"
        ],
        [
         "2021-07",
         "ihXi1EOI/0MMg4R2/2klmQ==",
         "127,27",
         "PF",
         "155",
         "paga",
         "06/08/2021"
        ],
        [
         "2021-07",
         "u5oOe/e4XTuYcjkOg51KIA==",
         "127,27",
         "PF",
         "155",
         "atrasada",
         "25/07/2021"
        ],
        [
         "2021-07",
         "jrP2BWf2xzE7LzBDCtYqEw==",
         "127,27",
         "PF",
         "155",
         "paga",
         "17/08/2021"
        ],
        [
         "2021-07",
         "Ebf8QcE5qygcuJgPxn8M5A==",
         "127,27",
         "PF",
         "155",
         "paga",
         "14/08/2021"
        ],
        [
         "2021-07",
         "GD1U7C+QNaksZ1EFg0DERQ==",
         "127,27",
         "PF",
         "155",
         "paga",
         "17/08/2021"
        ],
        [
         "2021-07",
         "UxHch4SzxWmLQzQaTmq3hw==",
         "127,27",
         "PF",
         "155",
         "atrasada",
         "13/08/2021"
        ],
        [
         "2021-07",
         "v3ph1Ccjsm+K+qWk3C2MCw==",
         "127,27",
         "PF",
         "155",
         "paga",
         "05/08/2021"
        ],
        [
         "2021-08",
         "h+0bdnuEZcDxX6+hk/UaKA==",
         "127,27",
         "PF",
         "155",
         "atrasada",
         "17/09/2021"
        ],
        [
         "2021-08",
         "Nk5jTqjG3kFoxJQST/dNqA==",
         "127,27",
         "PF",
         "155",
         "atrasada",
         "27/09/2021"
        ],
        [
         "2021-07",
         "TjiSdm3o4P+/tChxGoBLRw==",
         "128,09",
         "PF",
         "156",
         "paga",
         "11/08/2021"
        ],
        [
         "2021-08",
         "oR+wK0mFx6W6KbIsFCr8rA==",
         "128,09",
         "PF",
         "156",
         "paga",
         "06/09/2021"
        ],
        [
         "2021-08",
         "j7ymgTQaS3fJTYG2oDbHWA==",
         "128,91",
         "PF",
         "157",
         "atrasada",
         "14/09/2021"
        ],
        [
         "2021-08",
         "bxwsOn7X/zS75WHcXoRPtw==",
         "128,91",
         "PF",
         "157",
         "atrasada",
         "22/09/2021"
        ],
        [
         "2021-08",
         "dekHmDJFC3dtdTAXaAfpcA==",
         "129,73",
         "PF",
         "158",
         "paga",
         "18/09/2021"
        ],
        [
         "2021-08",
         "IxS0HYS+RdQVstzQnQjjNg==",
         "129,73",
         "PF",
         "158",
         "paga",
         "04/09/2021"
        ],
        [
         "2021-07",
         "Y0LVpcOIlwFV4ZHD388N5g==",
         "130,55",
         "PF",
         "159",
         "paga",
         "13/08/2021"
        ],
        [
         "2021-07",
         "rulwPA84H1S8+I+GB36zdw==",
         "130,55",
         "PF",
         "159",
         "paga",
         "11/08/2021"
        ],
        [
         "2021-08",
         "FWTTaWpc7tvk2bapk097Ww==",
         "130,55",
         "PF",
         "159",
         "paga",
         "27/08/2021"
        ],
        [
         "2021-08",
         "DYW6hWjA8bvRAbn5QdUBkQ==",
         "130,55",
         "PF",
         "159",
         "paga",
         "10/09/2021"
        ],
        [
         "2021-08",
         "is7+EcidED1cUGcVIPij0Q==",
         "131,38",
         "PF",
         "160",
         "paga",
         "25/08/2021"
        ],
        [
         "2021-08",
         "euwm36nBoYJgGFAZINzX5g==",
         "131,38",
         "PF",
         "160",
         "paga",
         "11/09/2021"
        ],
        [
         "2021-06",
         "d6pLfG5+4f0YMOrv98AUPQ==",
         "132,2",
         "PF",
         "161",
         "paga",
         "11/07/2021"
        ],
        [
         "2021-07",
         "IKm2dnudOjyN46LpDQfqWQ==",
         "132,2",
         "PF",
         "161",
         "paga",
         "11/09/2021"
        ],
        [
         "2021-08",
         "uDVabvZaMaij7vTv5WQSMw==",
         "132,2",
         "PF",
         "161",
         "paga",
         "27/08/2021"
        ],
        [
         "2021-08",
         "LVd/yEyFNPZMVC36fvg2XQ==",
         "132,2",
         "PF",
         "161",
         "atrasada",
         "06/09/2021"
        ],
        [
         "2021-08",
         "soVkocXiYwOHgROIsfg8TA==",
         "132,2",
         "PF",
         "161",
         "paga",
         "08/09/2021"
        ],
        [
         "2021-08",
         "ZpZFH4nyD62VYk1tprvDaQ==",
         "133,02",
         "PF",
         "162",
         "paga",
         "17/09/2021"
        ],
        [
         "2021-08",
         "1kQq8sK8nDpYaj/n6+o0RA==",
         "133,84",
         "PF",
         "163",
         "paga",
         "06/09/2021"
        ],
        [
         "2021-08",
         "h2d18bWYEXrdMagVPvKteQ==",
         "134,66",
         "PF",
         "164",
         "atrasada",
         "27/09/2021"
        ],
        [
         "2021-08",
         "h01+h1LRsFYEUbjFiOhGog==",
         "134,66",
         "PF",
         "164",
         "paga",
         "17/09/2021"
        ],
        [
         "2021-08",
         "+F43nFNF8ZGv3BTn0tMPKQ==",
         "134,66",
         "PF",
         "164",
         "paga",
         "11/09/2021"
        ],
        [
         "2021-08",
         "QgJoQ7pWq8Jhqymr5gmYGw==",
         "135,48",
         "PF",
         "165",
         "paga",
         "08/09/2021"
        ],
        [
         "2021-08",
         "jYAy64d+zbOZTH2i+iQjQg==",
         "135,48",
         "PF",
         "165",
         "paga",
         "02/09/2021"
        ],
        [
         "2021-08",
         "tUZHSnIzKBNuRkdilYa5pg==",
         "135,48",
         "PF",
         "165",
         "paga",
         "11/09/2021"
        ],
        [
         "2021-08",
         "6qVedCTt9cmNiYkd/eF9CQ==",
         "135,48",
         "PF",
         "165",
         "paga",
         "04/09/2021"
        ],
        [
         "2021-08",
         "Mf3+bIqH4YqZj5YL/1xDAg==",
         "135,48",
         "PF",
         "165",
         "atrasada",
         "17/09/2021"
        ],
        [
         "2021-08",
         "Zu6G+LRpeIpwlymgiuSEyQ==",
         "135,48",
         "PF",
         "165",
         "paga",
         "06/09/2021"
        ],
        [
         "2021-08",
         "MoFqTuP2LaS7TtL1TNW1Vw==",
         "135,48",
         "PF",
         "165",
         "paga",
         "27/08/2021"
        ],
        [
         "2021-08",
         "2NMy6a7XybTTBYfQaS/glA==",
         "135,48",
         "PF",
         "165",
         "paga",
         "27/08/2021"
        ],
        [
         "2021-08",
         "CQmgg5y9/MJ417YMsRNitw==",
         "135,48",
         "PF",
         "165",
         "atrasada",
         "22/09/2021"
        ],
        [
         "2021-08",
         "XQCz0VSP2DlJh7KOpeD8/A==",
         "135,48",
         "PF",
         "165",
         "paga",
         "18/09/2021"
        ],
        [
         "2021-08",
         "vc5if/RYW2jecZCCxXYsHw==",
         "137,12",
         "PF",
         "167",
         "paga",
         "02/09/2021"
        ],
        [
         "2021-08",
         "cO90drFYwmPS9RrpoVs1eg==",
         "137,12",
         "PF",
         "167",
         "paga",
         "22/08/2021"
        ],
        [
         "2021-06",
         "lj5eb6IkwfvdDanmrolJBg==",
         "137,94",
         "PF",
         "168",
         "atrasada",
         "04/07/2021"
        ],
        [
         "2021-07",
         "ttIjSRljsOZg15+xtpOb2A==",
         "137,94",
         "PF",
         "168",
         "atrasada",
         "30/08/2021"
        ],
        [
         "2021-07",
         "ahDp3oos3j7mI55w65Mtyw==",
         "137,94",
         "PF",
         "168",
         "paga",
         "08/08/2021"
        ],
        [
         "2021-08",
         "YoAWAndesF68Ftz1poolOQ==",
         "137,94",
         "PF",
         "168",
         "paga",
         "17/09/2021"
        ],
        [
         "2021-08",
         "K75NAI7YPYujCLTL4eV3FQ==",
         "137,94",
         "PF",
         "168",
         "atrasada",
         "11/09/2021"
        ],
        [
         "2021-08",
         "tzUheJNp/7HnM0wnQn7VJg==",
         "137,94",
         "PF",
         "168",
         "paga",
         "04/09/2021"
        ],
        [
         "2021-08",
         "yQa1QMZ4FPSYEFpF4aJzLw==",
         "137,94",
         "PF",
         "168",
         "paga",
         "11/09/2021"
        ],
        [
         "2021-08",
         "GpjYTIrMKt8D2hrDoRJahg==",
         "138,77",
         "PF",
         "169",
         "paga",
         "13/09/2021"
        ],
        [
         "2021-08",
         "b/kVHB2NGLhVpLthNnLkHg==",
         "138,77",
         "PF",
         "169",
         "paga",
         "11/09/2021"
        ],
        [
         "2021-08",
         "TjiSdm3o4P+/tChxGoBLRw==",
         "139,59",
         "PF",
         "170",
         "paga",
         "11/09/2021"
        ],
        [
         "2021-07",
         "G7xbOYUkl0kU5gCYpIK8Rg==",
         "140,41",
         "PF",
         "171",
         "paga",
         "08/08/2021"
        ],
        [
         "2021-08",
         "H5MIGdR9c3WBzhoR/wvxTg==",
         "140,41",
         "PF",
         "171",
         "paga",
         "17/09/2021"
        ],
        [
         "2021-07",
         "aUVQxsPA71sRXUCVso8eqw==",
         "141,23",
         "PF",
         "172",
         "paga",
         "04/08/2021"
        ],
        [
         "2021-07",
         "fO2A7J0j8erKRiZnbY+TLA==",
         "141,23",
         "PJ",
         "172",
         "paga",
         "14/08/2021"
        ],
        [
         "2021-07",
         "DLRdET/NZHPCbJSgIGThRA==",
         "141,23",
         "PF",
         "172",
         "paga",
         "11/08/2021"
        ],
        [
         "2021-07",
         "s6Ti+6xVP6wMCOpTkcS5DA==",
         "141,23",
         "PF",
         "172",
         "paga",
         "05/08/2021"
        ],
        [
         "2021-07",
         "Smf+XPSZqvZ1D0bBNAZs7Q==",
         "141,23",
         "PF",
         "172",
         "atrasada",
         "27/08/2021"
        ],
        [
         "2021-07",
         "bZBOVVn4DbpD4RDNmFELHQ==",
         "141,23",
         "PF",
         "172",
         "paga",
         "27/08/2021"
        ],
        [
         "2021-07",
         "+GycBY0/EG9v56mS7lRVoQ==",
         "141,23",
         "PF",
         "172",
         "paga",
         "04/08/2021"
        ],
        [
         "2021-08",
         "SMr3FHhSaLNv4rSqshyd8w==",
         "141,23",
         "PF",
         "172",
         "paga",
         "27/09/2021"
        ],
        [
         "2021-08",
         "acoT2u5mHURKRxUAxI7mow==",
         "141,23",
         "PF",
         "172",
         "atrasada",
         "27/09/2021"
        ],
        [
         "2021-08",
         "Itjwih2+a9Dx1VoX5RuDqQ==",
         "142,05",
         "PF",
         "173",
         "paga",
         "17/09/2021"
        ],
        [
         "2021-07",
         "PW/Ab+m2L9GM5EXRu/8T3Q==",
         "142,87",
         "PF",
         "174",
         "paga",
         "22/07/2021"
        ],
        [
         "2021-07",
         "lj5eb6IkwfvdDanmrolJBg==",
         "142,87",
         "PF",
         "174",
         "atrasada",
         "04/08/2021"
        ],
        [
         "2021-08",
         "0TUOF9pEJpx3gdD8MUzM8A==",
         "143,69",
         "PF",
         "175",
         "atrasada",
         "09/09/2021"
        ],
        [
         "2021-08",
         "bDYmZoV8I+IIm+GYF9C7SA==",
         "143,69",
         "PF",
         "175",
         "paga",
         "06/09/2021"
        ],
        [
         "2021-08",
         "DK818xLJgk3oURtbqGVlvg==",
         "143,69",
         "PF",
         "175",
         "paga",
         "27/08/2021"
        ],
        [
         "2021-07",
         "cO90drFYwmPS9RrpoVs1eg==",
         "144,51",
         "PF",
         "176",
         "paga",
         "22/07/2021"
        ],
        [
         "2021-08",
         "JHj+kppxEspGPU35J3Deiw==",
         "144,51",
         "PF",
         "176",
         "paga",
         "27/09/2021"
        ],
        [
         "2021-08",
         "EgHwwptCNmi0UHN6MNC5Zg==",
         "145,33",
         "PF",
         "177",
         "paga",
         "10/09/2021"
        ],
        [
         "2021-08",
         "XYo5douM4CMw1nrEi4xPpA==",
         "145,33",
         "PF",
         "177",
         "paga",
         "11/09/2021"
        ],
        [
         "2021-06",
         "G7xbOYUkl0kU5gCYpIK8Rg==",
         "146,16",
         "PF",
         "178",
         "paga",
         "08/07/2021"
        ],
        [
         "2021-06",
         "cO90drFYwmPS9RrpoVs1eg==",
         "146,98",
         "PF",
         "179",
         "paga",
         "22/06/2021"
        ],
        [
         "2021-06",
         "w15EKe4KmrdYnNKScq9kVQ==",
         "146,98",
         "PF",
         "179",
         "paga",
         "17/07/2021"
        ],
        [
         "2021-06",
         "bZBOVVn4DbpD4RDNmFELHQ==",
         "146,98",
         "PF",
         "179",
         "paga",
         "27/07/2021"
        ],
        [
         "2021-08",
         "p/lU43ChQX54+7CdQQ3/Kw==",
         "146,98",
         "PF",
         "179",
         "paga",
         "29/09/2021"
        ],
        [
         "2021-08",
         "cnYZeRjUvWNFmdSU3Ko2+w==",
         "146,98",
         "PF",
         "179",
         "paga",
         "27/08/2021"
        ],
        [
         "2021-08",
         "JIEszyQvL0Kv/KIPuvLBHA==",
         "146,98",
         "PF",
         "179",
         "atrasada",
         "13/09/2021"
        ],
        [
         "2021-06",
         "/9YsZAdreFh0x4wCVfDHfQ==",
         "147,8",
         "PF",
         "180",
         "paga",
         "11/07/2021"
        ],
        [
         "2021-07",
         "Am2uZwnjhEB3D3X05Zdzig==",
         "148,62",
         "PF",
         "181",
         "atrasada",
         "26/08/2021"
        ],
        [
         "2021-08",
         "X306EdQCQGbqeFTqj7dSng==",
         "148,62",
         "PF",
         "181",
         "paga",
         "09/09/2021"
        ],
        [
         "2021-08",
         "pacOHQQaN6cW8sKBf0hqSA==",
         "148,62",
         "PJ",
         "181",
         "paga",
         "23/08/2021"
        ],
        [
         "2021-06",
         "rulwPA84H1S8+I+GB36zdw==",
         "149,44",
         "PF",
         "182",
         "paga",
         "11/07/2021"
        ],
        [
         "2021-06",
         "hSm0uJRnbkP88is8Zu8tdw==",
         "149,44",
         "PF",
         "182",
         "paga",
         "27/06/2021"
        ],
        [
         "2021-08",
         "tcdngc5tWIiggNH2i/0WkQ==",
         "149,44",
         "PF",
         "182",
         "paga",
         "04/09/2021"
        ],
        [
         "2021-08",
         "YIfpVr/X+963CtN4HceaIg==",
         "149,44",
         "PF",
         "182",
         "atrasada",
         "09/09/2021"
        ],
        [
         "2021-08",
         "G2OSrtn9uoa7N2Qt8/8+0g==",
         "149,44",
         "PF",
         "182",
         "paga",
         "02/09/2021"
        ],
        [
         "2021-06",
         "6qVedCTt9cmNiYkd/eF9CQ==",
         "150,26",
         "PF",
         "183",
         "paga",
         "04/07/2021"
        ],
        [
         "2021-07",
         "WTpHPPpw6n6K73Kn4TvYbA==",
         "150,26",
         "PF",
         "183",
         "paga",
         "11/08/2021"
        ],
        [
         "2021-06",
         "Pg3I1Vs6l0MAYB4Msm/UAg==",
         "151,08",
         "PF",
         "184",
         "atrasada",
         "27/06/2021"
        ],
        [
         "2021-07",
         "pZNiOKlJE8TX9ew03oJuEA==",
         "151,08",
         "PF",
         "184",
         "paga",
         "17/08/2021"
        ],
        [
         "2021-08",
         "wfiC/QpN6dv/l22TrAh89Q==",
         "151,08",
         "PF",
         "184",
         "paga",
         "18/09/2021"
        ],
        [
         "2021-08",
         "IZKi/dzuMn7sDBy8vhtobw==",
         "151,08",
         "PF",
         "184",
         "paga",
         "22/09/2021"
        ],
        [
         "2021-08",
         "BAXfecd51E2df+EvPcuebg==",
         "151,9",
         "PF",
         "185",
         "paga",
         "13/09/2021"
        ],
        [
         "2021-07",
         "dp5RqtyQetwwIkKuX8TAow==",
         "152,72",
         "PF",
         "186",
         "paga",
         "27/07/2021"
        ],
        [
         "2021-07",
         "ditaNBV13VRSDXcJOin/Eg==",
         "152,72",
         "PF",
         "186",
         "paga",
         "17/08/2021"
        ],
        [
         "2021-08",
         "esXB9Id19477jDGHmjiE3g==",
         "152,72",
         "PF",
         "186",
         "atrasada",
         "27/09/2021"
        ],
        [
         "2021-08",
         "GUzHlfbr0TJ0BIvZhufOfA==",
         "153,55",
         "PF",
         "187",
         "paga",
         "01/09/2021"
        ],
        [
         "2021-08",
         "NRWLVwXwT8uyiUr8OeIqJQ==",
         "153,55",
         "PF",
         "187",
         "paga",
         "04/09/2021"
        ],
        [
         "2021-08",
         "EjnJYooQSRyb8qoJ7lmQxA==",
         "153,55",
         "PF",
         "187",
         "paga",
         "11/09/2021"
        ],
        [
         "2021-08",
         "HO2XjEYSQ7V9jgbnc6ovCA==",
         "153,55",
         "PJ",
         "187",
         "paga",
         "23/08/2021"
        ],
        [
         "2021-08",
         "sxMI26U9Gf4cvbsorny9aw==",
         "153,55",
         "PF",
         "187",
         "atrasada",
         "27/09/2021"
        ],
        [
         "2021-08",
         "dyDKhqfODubc3SJ1tQTr+A==",
         "153,55",
         "PF",
         "187",
         "paga",
         "11/09/2021"
        ],
        [
         "2021-08",
         "KhX6CYSD4qFeD7ZFblk8Ag==",
         "153,55",
         "PF",
         "187",
         "paga",
         "11/09/2021"
        ],
        [
         "2021-08",
         "dSkQLhNKJn/pywhCdwq5EA==",
         "153,55",
         "PF",
         "187",
         "atrasada",
         "06/09/2021"
        ],
        [
         "2021-07",
         "/9YsZAdreFh0x4wCVfDHfQ==",
         "154,37",
         "PF",
         "188",
         "paga",
         "11/08/2021"
        ],
        [
         "2021-07",
         "dMSyV7QV6tM6UsTIv9P6yQ==",
         "154,37",
         "PF",
         "188",
         "atrasada",
         "17/08/2021"
        ],
        [
         "2021-07",
         "JIEszyQvL0Kv/KIPuvLBHA==",
         "154,37",
         "PF",
         "188",
         "atrasada",
         "13/08/2021"
        ],
        [
         "2021-08",
         "dDJzgWwG5iO1U3M+nDhZQg==",
         "154,37",
         "PF",
         "188",
         "atrasada",
         "03/09/2021"
        ],
        [
         "2021-08",
         "3C2n2WQt2ty8uGDWLFphhA==",
         "154,37",
         "PF",
         "188",
         "atrasada",
         "17/09/2021"
        ],
        [
         "2021-08",
         "vi8NLEhYjRPhFMDTBcy9mg==",
         "156,01",
         "PF",
         "190",
         "paga",
         "11/09/2021"
        ],
        [
         "2021-08",
         "9gv4zy73ejYd9lkQi6ImhQ==",
         "156,01",
         "PF",
         "190",
         "paga",
         "11/09/2021"
        ],
        [
         "2021-08",
         "rn6LckxE677zoR2JbJ9dCQ==",
         "156,01",
         "PF",
         "190",
         "paga",
         "06/09/2021"
        ],
        [
         "2021-08",
         "/NVc26db4S5Zyh+3gj5BxA==",
         "157,65",
         "PF",
         "192",
         "paga",
         "10/09/2021"
        ],
        [
         "2021-08",
         "qc9OZtfsBsrKD70nYEB87g==",
         "158,47",
         "PF",
         "193",
         "atrasada",
         "12/10/2021"
        ],
        [
         "2021-08",
         "oMe76NfZYiGggeUkEqmHCg==",
         "158,47",
         "PF",
         "193",
         "paga",
         "08/09/2021"
        ],
        [
         "2021-08",
         "pBQch1FKaZyNfDHGaBR0nQ==",
         "158,47",
         "PF",
         "193",
         "paga",
         "11/09/2021"
        ],
        [
         "2021-08",
         "mJ/srCit/PlQIzR6jcPXlA==",
         "159,29",
         "PF",
         "194",
         "atrasada",
         "10/09/2021"
        ],
        [
         "2021-08",
         "x30nHgTZWDSFEC9asleGUg==",
         "159,29",
         "PF",
         "194",
         "paga",
         "23/08/2021"
        ],
        [
         "2021-08",
         "Xqvj9UuW+hDeth1Y3hL5fQ==",
         "159,29",
         "PF",
         "194",
         "paga",
         "02/09/2021"
        ],
        [
         "2021-08",
         "+WEg7jYkrRNWbkK55xKnqA==",
         "160,11",
         "PF",
         "195",
         "paga",
         "18/09/2021"
        ],
        [
         "2021-08",
         "6QRhlGEooj/XBzW5S9gfHg==",
         "160,11",
         "PF",
         "195",
         "paga",
         "13/09/2021"
        ],
        [
         "2021-08",
         "COYG7vGPidIY9syR8J5atg==",
         "160,11",
         "PF",
         "195",
         "paga",
         "11/10/2021"
        ],
        [
         "2021-08",
         "46L9EnpfUKy031XPyBv5Xg==",
         "160,11",
         "PF",
         "195",
         "paga",
         "02/09/2021"
        ],
        [
         "2021-08",
         "s6Ti+6xVP6wMCOpTkcS5DA==",
         "160,11",
         "PF",
         "195",
         "paga",
         "05/09/2021"
        ],
        [
         "2021-06",
         "HZb69Y3+u/PH7MfRsBp/kQ==",
         "160,94",
         "PF",
         "196",
         "paga",
         "22/07/2021"
        ],
        [
         "2021-07",
         "shwndVw1zGqrthlkPcPG4Q==",
         "160,94",
         "PF",
         "196",
         "paga",
         "05/08/2021"
        ],
        [
         "2021-08",
         "q04BTB/GLgI2bcAw/Qxa+A==",
         "160,94",
         "PF",
         "196",
         "paga",
         "27/09/2021"
        ],
        [
         "2021-08",
         "A+b7YXOv9GdFil37WiHF2w==",
         "161,76",
         "PF",
         "197",
         "atrasada",
         "09/09/2021"
        ],
        [
         "2021-08",
         "Y8RD4bnVPixktb9rcxDIfA==",
         "161,76",
         "PF",
         "197",
         "paga",
         "06/09/2021"
        ],
        [
         "2021-07",
         "IGTswX+emqylQK310JzQdw==",
         "162,58",
         "PF",
         "198",
         "paga",
         "11/08/2021"
        ],
        [
         "2021-08",
         "fxqij7sz7osdGLQ1psAYDg==",
         "162,58",
         "PF",
         "198",
         "paga",
         "01/09/2021"
        ],
        [
         "2021-08",
         "kNw+plZCDVl072huBHAq/Q==",
         "162,58",
         "PF",
         "198",
         "paga",
         "01/09/2021"
        ],
        [
         "2021-08",
         "w15EKe4KmrdYnNKScq9kVQ==",
         "162,58",
         "PF",
         "198",
         "paga",
         "17/09/2021"
        ],
        [
         "2021-08",
         "y0T0C2QvQuc1kJBkEI3W7g==",
         "162,58",
         "PF",
         "198",
         "paga",
         "11/09/2021"
        ],
        [
         "2021-08",
         "TN7XLk8DZoOaFJo2rCO+dQ==",
         "162,58",
         "PF",
         "198",
         "paga",
         "27/09/2021"
        ],
        [
         "2021-08",
         "HeZIp8A0HcKUqfmU/K/vOA==",
         "162,58",
         "PF",
         "198",
         "paga",
         "05/09/2021"
        ],
        [
         "2021-08",
         "fYhlKzvicG/gvWGUBMf8ug==",
         "162,58",
         "PF",
         "198",
         "paga",
         "02/09/2021"
        ],
        [
         "2021-08",
         "sPzH/dp6xVUsZDaLhmVSaA==",
         "162,58",
         "PF",
         "198",
         "paga",
         "11/09/2021"
        ],
        [
         "2021-08",
         "h0fb81qpFHuLRJ0uFmtyVg==",
         "162,58",
         "PF",
         "198",
         "paga",
         "11/09/2021"
        ],
        [
         "2021-08",
         "Fb2XHauLUop6NLnAm5Ka6g==",
         "162,58",
         "PF",
         "198",
         "paga",
         "11/09/2021"
        ],
        [
         "2021-08",
         "AYKYZ7G1WeF2S8S3/StJcw==",
         "162,58",
         "PF",
         "198",
         "paga",
         "02/09/2021"
        ],
        [
         "2021-08",
         "HybvG9JESXEg93vbaVMILg==",
         "162,58",
         "PF",
         "198",
         "em aberto",
         "29/10/2021"
        ],
        [
         "2021-08",
         "Uzl4w2LxNOb6RyC/k+DyrA==",
         "162,58",
         "PF",
         "198",
         "atrasada",
         "10/09/2021"
        ],
        [
         "2021-08",
         "e2El7h1NwQKxkukpgEdwww==",
         "163,4",
         "PF",
         "199",
         "paga",
         "14/09/2021"
        ],
        [
         "2021-08",
         "aHJj+dnlwdQFTeY2qu79ww==",
         "163,4",
         "PF",
         "199",
         "atrasada",
         "25/10/2021"
        ],
        [
         "2021-08",
         "PMVo98FyaONOy3yhC5ROWg==",
         "163,4",
         "PF",
         "199",
         "paga",
         "10/10/2021"
        ],
        [
         "2021-08",
         "5zdXk+Yzi8dm+ho11Rn82w==",
         "163,4",
         "PF",
         "199",
         "paga",
         "18/09/2021"
        ],
        [
         "2021-08",
         "ahDp3oos3j7mI55w65Mtyw==",
         "163,4",
         "PF",
         "199",
         "paga",
         "08/09/2021"
        ],
        [
         "2021-06",
         "Jxzb78OlaZydIrDOvDQW9A==",
         "164,22",
         "PF",
         "200",
         "paga",
         "11/07/2021"
        ],
        [
         "2021-08",
         "6wcXhUUmn96vKufoC3uReQ==",
         "165,04",
         "PF",
         "201",
         "paga",
         "01/09/2021"
        ],
        [
         "2021-08",
         "1azmXMW/g1V0QcGVE1JgHA==",
         "165,86",
         "PF",
         "202",
         "paga",
         "09/09/2021"
        ],
        [
         "2021-08",
         "KvatbBjIjwYZXLFr/fHdYQ==",
         "165,86",
         "PF",
         "202",
         "paga",
         "13/09/2021"
        ],
        [
         "2021-08",
         "cnSJ9E2i1guqHe8XH5/Ksg==",
         "165,86",
         "PF",
         "202",
         "atrasada",
         "17/09/2021"
        ],
        [
         "2021-08",
         "/kEY/v0rP6hwwpsHS/4z0w==",
         "166,68",
         "PF",
         "203",
         "paga",
         "08/09/2021"
        ],
        [
         "2021-08",
         "1CjAW0M7eKn87F+ldkZEEA==",
         "166,68",
         "PF",
         "203",
         "paga",
         "17/09/2021"
        ],
        [
         "2021-08",
         "KXyNL4HKcwm0hkbrIGgAOA==",
         "166,68",
         "PF",
         "203",
         "atrasada",
         "06/09/2021"
        ],
        [
         "2021-08",
         "2gT8z1qC0bb9N/7u9+8LVQ==",
         "167,5",
         "PF",
         "204",
         "paga",
         "14/09/2021"
        ],
        [
         "2021-07",
         "D8XJZLQay7E67Y8Qu71GXA==",
         "168,33",
         "PF",
         "205",
         "paga",
         "11/08/2021"
        ],
        [
         "2021-08",
         "oAb47SQTmCBWvYHaZJp4Zw==",
         "168,33",
         "PF",
         "205",
         "atrasada",
         "25/08/2021"
        ],
        [
         "2021-08",
         "nzkuC5cO9JDYZ40ss35h9Q==",
         "168,33",
         "PF",
         "205",
         "paga",
         "06/09/2021"
        ],
        [
         "2021-08",
         "0N+4t6GGVg6P81m5/GOiXw==",
         "168,33",
         "PF",
         "205",
         "paga",
         "17/09/2021"
        ],
        [
         "2021-06",
         "PW/Ab+m2L9GM5EXRu/8T3Q==",
         "169,15",
         "PF",
         "206",
         "paga",
         "22/06/2021"
        ],
        [
         "2021-08",
         "eRVqyUTZdT5UJhmQzVQhag==",
         "169,15",
         "PF",
         "206",
         "paga",
         "11/09/2021"
        ],
        [
         "2021-08",
         "rdp1yD6rrd/z4miE1wHPrg==",
         "169,15",
         "PF",
         "206",
         "atrasada",
         "27/09/2021"
        ],
        [
         "2021-08",
         "+HuzRDvNs5Qw5ST27ZuvNQ==",
         "169,15",
         "PF",
         "206",
         "paga",
         "24/09/2021"
        ],
        [
         "2021-08",
         "fn2qTvj/uy4bkYBCrF1Iew==",
         "169,15",
         "PF",
         "206",
         "paga",
         "11/09/2021"
        ],
        [
         "2021-07",
         "gu6bLEEC1byhKam8IC5nAA==",
         "169,97",
         "PF",
         "207",
         "paga",
         "10/08/2021"
        ],
        [
         "2021-07",
         "kkDaavtIoHIFoKUTel7Rww==",
         "170,79",
         "PF",
         "208",
         "paga",
         "08/08/2021"
        ],
        [
         "2021-08",
         "vpOmlK02ZEl1somitY9o/g==",
         "170,79",
         "PF",
         "208",
         "atrasada",
         "04/09/2021"
        ],
        [
         "2021-08",
         "Vm289JJa4ENy0wfES9dZOg==",
         "171,61",
         "PF",
         "209",
         "paga",
         "11/09/2021"
        ],
        [
         "2021-08",
         "jzGdiIC6wSH+q0XL6pALzw==",
         "171,61",
         "PF",
         "209",
         "paga",
         "22/09/2021"
        ],
        [
         "2021-08",
         "dp5RqtyQetwwIkKuX8TAow==",
         "171,61",
         "PF",
         "209",
         "paga",
         "27/08/2021"
        ],
        [
         "2021-08",
         "Y0LVpcOIlwFV4ZHD388N5g==",
         "171,61",
         "PF",
         "209",
         "atrasada",
         "09/09/2021"
        ],
        [
         "2021-08",
         "+NgyhVMFq5PG/IiS8SRVcQ==",
         "172,43",
         "PF",
         "210",
         "paga",
         "11/09/2021"
        ],
        [
         "2021-08",
         "rhge4R+AjZGo2dqIa/QU+A==",
         "173,25",
         "PF",
         "211",
         "paga",
         "27/08/2021"
        ],
        [
         "2021-06",
         "ttIjSRljsOZg15+xtpOb2A==",
         "174,07",
         "PF",
         "212",
         "atrasada",
         "30/08/2021"
        ],
        [
         "2021-08",
         "G7xbOYUkl0kU5gCYpIK8Rg==",
         "174,07",
         "PF",
         "212",
         "paga",
         "08/09/2021"
        ],
        [
         "2021-08",
         "VvbDG4ofu0IRb3c1xTpaww==",
         "174,07",
         "PF",
         "212",
         "paga",
         "14/09/2021"
        ],
        [
         "2021-06",
         "lN75A4YK314NTDasExAyzw==",
         "174,89",
         "PF",
         "213",
         "paga",
         "22/07/2021"
        ],
        [
         "2021-08",
         "EzIWP8YLRZ0lkZK5uxaZYA==",
         "175,72",
         "PF",
         "214",
         "paga",
         "16/09/2021"
        ],
        [
         "2021-07",
         "NMqVY/b5mLGAlNZe5LrLtg==",
         "177,36",
         "PF",
         "216",
         "paga",
         "06/08/2021"
        ],
        [
         "2021-06",
         "TjiSdm3o4P+/tChxGoBLRw==",
         "178,18",
         "PF",
         "217",
         "paga",
         "11/07/2021"
        ],
        [
         "2021-08",
         "hSm0uJRnbkP88is8Zu8tdw==",
         "178,18",
         "PF",
         "217",
         "paga",
         "27/08/2021"
        ],
        [
         "2021-08",
         "EbHxSAHLKyk8IKQF/8cjPQ==",
         "178,18",
         "PF",
         "217",
         "paga",
         "11/09/2021"
        ],
        [
         "2021-08",
         "vZEgUzpqzS1Mn451mCgHiw==",
         "178,18",
         "PF",
         "217",
         "paga",
         "14/09/2021"
        ],
        [
         "2021-08",
         "Smf+XPSZqvZ1D0bBNAZs7Q==",
         "179",
         "PF",
         "218",
         "atrasada",
         "27/09/2021"
        ],
        [
         "2021-06",
         "/kEY/v0rP6hwwpsHS/4z0w==",
         "179,82",
         "PF",
         "219",
         "paga",
         "08/07/2021"
        ],
        [
         "2021-07",
         "JedxCD3PsKu1/oQhn4pYaw==",
         "179,82",
         "PF",
         "219",
         "paga",
         "01/09/2021"
        ],
        [
         "2021-08",
         "mGk7wCFMz0DBspZoRQ4UYg==",
         "179,82",
         "PF",
         "219",
         "paga",
         "03/09/2021"
        ],
        [
         "2021-08",
         "S6/FOPfxJpaXCs99NSZyTg==",
         "179,82",
         "PF",
         "219",
         "paga",
         "18/09/2021"
        ],
        [
         "2021-08",
         "D/r7JHJ3GLjb2NaQdmpjMQ==",
         "179,82",
         "PF",
         "219",
         "paga",
         "11/09/2021"
        ],
        [
         "2021-08",
         "ceMBuecmXq3uwUQolR5NzA==",
         "180,64",
         "PF",
         "220",
         "atrasada",
         "25/08/2021"
        ],
        [
         "2021-08",
         "fPqAuGRM1wHOEi4X2rfdYQ==",
         "180,64",
         "PF",
         "220",
         "paga",
         "27/09/2021"
        ],
        [
         "2021-08",
         "PW/Ab+m2L9GM5EXRu/8T3Q==",
         "180,64",
         "PF",
         "220",
         "paga",
         "22/08/2021"
        ],
        [
         "2021-08",
         "GD1U7C+QNaksZ1EFg0DERQ==",
         "181,46",
         "PF",
         "221",
         "paga",
         "17/09/2021"
        ],
        [
         "2021-08",
         "ho0zKpjJioZA1Ouom/ka9A==",
         "181,46",
         "PF",
         "221",
         "atrasada",
         "13/09/2021"
        ],
        [
         "2021-08",
         "yLQprTazAdV3AfBeKqeRbQ==",
         "181,46",
         "PF",
         "221",
         "paga",
         "17/09/2021"
        ],
        [
         "2021-07",
         "DIqSQCYDj1vdzLAv/Es/cw==",
         "182,28",
         "PF",
         "222",
         "atrasada",
         "11/08/2021"
        ],
        [
         "2021-08",
         "fYYTG/SyndyshnC+82lKzw==",
         "182,28",
         "PF",
         "222",
         "atrasada",
         "18/09/2021"
        ],
        [
         "2021-08",
         "CJDY15H9W0PUDt3Z56fzhg==",
         "182,28",
         "PF",
         "222",
         "paga",
         "08/09/2021"
        ],
        [
         "2021-07",
         "fPqAuGRM1wHOEi4X2rfdYQ==",
         "183,11",
         "PF",
         "223",
         "paga",
         "18/08/2021"
        ],
        [
         "2021-07",
         "Di9u4ssP8tPV7TjeJ8F+jQ==",
         "183,11",
         "PF",
         "223",
         "atrasada",
         "06/09/2021"
        ],
        [
         "2021-07",
         "6C60MfQkc0MO4UA8hlIZtA==",
         "183,11",
         "PF",
         "223",
         "paga",
         "22/08/2021"
        ],
        [
         "2021-07",
         "pK6NpJ84geJiNGm6pK+RkQ==",
         "183,11",
         "PF",
         "223",
         "paga",
         "22/07/2021"
        ],
        [
         "2021-08",
         "pZNiOKlJE8TX9ew03oJuEA==",
         "183,11",
         "PF",
         "223",
         "paga",
         "17/09/2021"
        ],
        [
         "2021-06",
         "XYo5douM4CMw1nrEi4xPpA==",
         "183,93",
         "PF",
         "224",
         "paga",
         "11/07/2021"
        ],
        [
         "2021-08",
         "DA37LwGUBmSVEfwqWdE69Q==",
         "183,93",
         "PF",
         "224",
         "paga",
         "01/09/2021"
        ],
        [
         "2021-08",
         "SF1rdJlRzKbB9t1y9YVHSA==",
         "184,75",
         "PF",
         "225",
         "atrasada",
         "01/09/2021"
        ],
        [
         "2021-06",
         "jrP2BWf2xzE7LzBDCtYqEw==",
         "185,57",
         "PF",
         "226",
         "paga",
         "17/07/2021"
        ],
        [
         "2021-06",
         "ditaNBV13VRSDXcJOin/Eg==",
         "185,57",
         "PF",
         "226",
         "paga",
         "11/07/2021"
        ],
        [
         "2021-06",
         "UxHch4SzxWmLQzQaTmq3hw==",
         "185,57",
         "PF",
         "226",
         "atrasada",
         "13/07/2021"
        ],
        [
         "2021-08",
         "q2lykMvBDO66hAqYWOHAgw==",
         "185,57",
         "PF",
         "226",
         "atrasada",
         "02/09/2021"
        ],
        [
         "2021-08",
         "UlnkuDpRLKlqtstlpS6HwQ==",
         "185,57",
         "PF",
         "226",
         "paga",
         "17/09/2021"
        ],
        [
         "2021-08",
         "Gxu23HbaLIU9z3QxVsC4kg==",
         "186,39",
         "PF",
         "227",
         "atrasada",
         "22/08/2021"
        ],
        [
         "2021-08",
         "U/eBtk10PWz+98YjkiFtAA==",
         "186,39",
         "PF",
         "227",
         "paga",
         "02/09/2021"
        ],
        [
         "2021-07",
         "hOOl56RQXLu2/z+FZBsxUg==",
         "187,21",
         "PF",
         "228",
         "paga",
         "06/08/2021"
        ],
        [
         "2021-08",
         "8XGraYmKPW2lrDNd5ECMmQ==",
         "187,21",
         "PF",
         "228",
         "paga",
         "02/09/2021"
        ],
        [
         "2021-08",
         "DL98kXm6yOo2HvluYeWXng==",
         "188,03",
         "PF",
         "229",
         "paga",
         "09/09/2021"
        ],
        [
         "2021-06",
         "dp5RqtyQetwwIkKuX8TAow==",
         "188,85",
         "PF",
         "230",
         "paga",
         "27/06/2021"
        ],
        [
         "2021-08",
         "v8/22n3vTA7OhVYeKOT6Fg==",
         "188,85",
         "PF",
         "230",
         "atrasada",
         "22/09/2021"
        ],
        [
         "2021-08",
         "NMqVY/b5mLGAlNZe5LrLtg==",
         "188,85",
         "PF",
         "230",
         "atrasada",
         "06/09/2021"
        ],
        [
         "2021-08",
         "+E8fQGYekj08B6VOJmb65g==",
         "188,85",
         "PF",
         "230",
         "paga",
         "08/09/2021"
        ],
        [
         "2021-08",
         "Q11uqc9PCFAjT4Yrh6Ah0Q==",
         "188,85",
         "PF",
         "230",
         "paga",
         "14/09/2021"
        ],
        [
         "2021-08",
         "f6m5Bp+CzvVbUMo8B4GZwQ==",
         "188,85",
         "PF",
         "230",
         "atrasada",
         "22/09/2021"
        ],
        [
         "2021-08",
         "WYqnad9Yl/aW0/sBpFwZoQ==",
         "188,85",
         "PF",
         "230",
         "atrasada",
         "24/09/2021"
        ],
        [
         "2021-08",
         "jrP2BWf2xzE7LzBDCtYqEw==",
         "188,85",
         "PF",
         "230",
         "atrasada",
         "17/09/2021"
        ],
        [
         "2021-08",
         "fQ/tz+j57Q/LjqFagnqeKQ==",
         "188,85",
         "PF",
         "230",
         "paga",
         "13/09/2021"
        ],
        [
         "2021-08",
         "aLlz1fncweLBRJTVCblqUg==",
         "188,85",
         "PF",
         "230",
         "paga",
         "11/09/2021"
        ],
        [
         "2021-08",
         "92HxhQKZ3umCpFJucKj/8w==",
         "189,67",
         "PF",
         "231",
         "paga",
         "22/09/2021"
        ],
        [
         "2021-08",
         "VKD8G5NshQroaIPHqFe9kA==",
         "189,67",
         "PF",
         "231",
         "paga",
         "02/09/2021"
        ],
        [
         "2021-08",
         "/9YsZAdreFh0x4wCVfDHfQ==",
         "189,67",
         "PF",
         "231",
         "paga",
         "11/09/2021"
        ],
        [
         "2021-08",
         "z2JUlH4uvlA9+b1doN7T1g==",
         "189,67",
         "PF",
         "231",
         "paga",
         "06/09/2021"
        ],
        [
         "2021-08",
         "FQpQ5PnNGC76MSw9eW3oEQ==",
         "189,67",
         "PF",
         "231",
         "paga",
         "02/09/2021"
        ],
        [
         "2021-08",
         "sYX5UEZYOvKI6YurF0NdDw==",
         "189,67",
         "PF",
         "231",
         "paga",
         "27/08/2021"
        ],
        [
         "2021-08",
         "HSUA67lkPWTCORUgnMNIDQ==",
         "189,67",
         "PF",
         "231",
         "paga",
         "11/09/2021"
        ],
        [
         "2021-08",
         "nbMAJtZvAoPXNN6jTeCAig==",
         "189,67",
         "PF",
         "231",
         "paga",
         "11/09/2021"
        ],
        [
         "2021-08",
         "3Q1MDRbEREGqzPqvoQVTPg==",
         "189,67",
         "PF",
         "231",
         "atrasada",
         "27/08/2021"
        ],
        [
         "2021-08",
         "XtH/YeoPsdw5VVyvYoMqHA==",
         "189,67",
         "PF",
         "231",
         "paga",
         "05/09/2021"
        ],
        [
         "2021-08",
         "yuEH9vnanM+fWQnLr2BMXA==",
         "189,67",
         "PF",
         "231",
         "paga",
         "11/09/2021"
        ],
        [
         "2021-08",
         "HZb69Y3+u/PH7MfRsBp/kQ==",
         "189,67",
         "PF",
         "231",
         "atrasada",
         "22/09/2021"
        ],
        [
         "2021-08",
         "v2orRfMK38qXWupavn7Ehg==",
         "189,67",
         "PF",
         "231",
         "atrasada",
         "22/09/2021"
        ],
        [
         "2021-08",
         "Am2uZwnjhEB3D3X05Zdzig==",
         "190,5",
         "PF",
         "232",
         "atrasada",
         "11/09/2021"
        ],
        [
         "2021-06",
         "v2orRfMK38qXWupavn7Ehg==",
         "191,32",
         "PF",
         "233",
         "paga",
         "22/07/2021"
        ],
        [
         "2021-08",
         "+GycBY0/EG9v56mS7lRVoQ==",
         "191,32",
         "PF",
         "233",
         "paga",
         "04/09/2021"
        ],
        [
         "2021-07",
         "LH2SSA/LV4ZrsOdxSaO8Ww==",
         "192,96",
         "PF",
         "235",
         "paga",
         "22/08/2021"
        ],
        [
         "2021-08",
         "OYnN4phLfaAH56xtp/xHWQ==",
         "192,96",
         "PF",
         "235",
         "paga",
         "27/08/2021"
        ],
        [
         "2021-06",
         "pK6NpJ84geJiNGm6pK+RkQ==",
         "193,78",
         "PF",
         "236",
         "paga",
         "22/06/2021"
        ],
        [
         "2021-08",
         "wGKHeVlOEbFmfPokTak1zg==",
         "194,6",
         "PF",
         "237",
         "paga",
         "02/09/2021"
        ],
        [
         "2021-07",
         "LcAslXI1pkNZ3gl7fs8hJA==",
         "196,24",
         "PF",
         "239",
         "paga",
         "04/08/2021"
        ],
        [
         "2021-07",
         "/uD35UdBFtaPkFtxVpgYaQ==",
         "196,24",
         "PF",
         "239",
         "paga",
         "16/08/2021"
        ],
        [
         "2021-07",
         "6tUZF18ismxRus+1vQakWw==",
         "196,24",
         "PF",
         "239",
         "paga",
         "17/08/2021"
        ],
        [
         "2021-07",
         "R35+gb1YyFMvsq2a4JmY/A==",
         "196,24",
         "PF",
         "239",
         "atrasada",
         "23/07/2021"
        ],
        [
         "2021-08",
         "bZBOVVn4DbpD4RDNmFELHQ==",
         "197,06",
         "PF",
         "240",
         "paga",
         "27/09/2021"
        ],
        [
         "2021-08",
         "tUFZTRJs2UOecY98hvegng==",
         "197,06",
         "PJ",
         "240",
         "paga",
         "06/09/2021"
        ],
        [
         "2021-07",
         "ZPMqlZaHH+qePZGELZ/zXw==",
         "197,89",
         "PF",
         "241",
         "paga",
         "13/08/2021"
        ],
        [
         "2021-08",
         "mOet04UCYEm+nSfVaNDbxA==",
         "198,71",
         "PF",
         "242",
         "paga",
         "08/09/2021"
        ],
        [
         "2021-08",
         "fyBXYP9/fn048ZbUhNfZNQ==",
         "199,53",
         "PF",
         "243",
         "paga",
         "11/09/2021"
        ],
        [
         "2021-06",
         "pZNiOKlJE8TX9ew03oJuEA==",
         "200,35",
         "PF",
         "244",
         "paga",
         "17/07/2021"
        ],
        [
         "2021-08",
         "64evQB7KvGPJuibp6svPrw==",
         "201,17",
         "PF",
         "245",
         "paga",
         "11/09/2021"
        ],
        [
         "2021-08",
         "IKm2dnudOjyN46LpDQfqWQ==",
         "201,17",
         "PF",
         "245",
         "paga",
         "11/10/2021"
        ],
        [
         "2021-08",
         "LXK/erRDVyvIGcueZ6HtUQ==",
         "202,81",
         "PF",
         "247",
         "paga",
         "11/09/2021"
        ],
        [
         "2021-08",
         "QRmne2xZaoRn4NuS8NJt7Q==",
         "202,81",
         "PF",
         "247",
         "paga",
         "08/09/2021"
        ],
        [
         "2021-08",
         "9DQSuHBkzxxKgsaiqJ0Row==",
         "204,45",
         "PF",
         "249",
         "paga",
         "11/09/2021"
        ],
        [
         "2021-08",
         "XxUJzSWohZpUtzmVGQgmsA==",
         "204,45",
         "PF",
         "249",
         "atrasada",
         "11/09/2021"
        ],
        [
         "2021-08",
         "/1ZruYaOzHdcWM7oMQDHCA==",
         "204,45",
         "PF",
         "249",
         "paga",
         "11/09/2021"
        ],
        [
         "2021-06",
         "Am2uZwnjhEB3D3X05Zdzig==",
         "205,28",
         "PF",
         "250",
         "atrasada",
         "11/07/2021"
        ],
        [
         "2021-07",
         "+eccAsc0YcE1HVGcYWPAQw==",
         "205,28",
         "PF",
         "250",
         "paga",
         "11/08/2021"
        ],
        [
         "2021-08",
         "OpXaXQ1fM6KnHSSkD0V/CQ==",
         "205,28",
         "PF",
         "250",
         "paga",
         "04/09/2021"
        ],
        [
         "2021-08",
         "Ebf8QcE5qygcuJgPxn8M5A==",
         "205,28",
         "PF",
         "250",
         "paga",
         "14/09/2021"
        ],
        [
         "2021-08",
         "LcAslXI1pkNZ3gl7fs8hJA==",
         "205,28",
         "PF",
         "250",
         "paga",
         "25/08/2021"
        ],
        [
         "2021-08",
         "ZSzN9Rf/RILbxF+WBBA3lA==",
         "206,1",
         "PF",
         "251",
         "paga",
         "11/09/2021"
        ],
        [
         "2021-06",
         "shwndVw1zGqrthlkPcPG4Q==",
         "206,92",
         "PF",
         "252",
         "paga",
         "05/07/2021"
        ],
        [
         "2021-08",
         "8k5F37Vw97Qhxd4ADAhXDA==",
         "206,92",
         "PF",
         "252",
         "atrasada",
         "22/09/2021"
        ],
        [
         "2021-08",
         "xwGG9Y/XDktUD9/5zP3m0g==",
         "207,74",
         "PF",
         "253",
         "paga",
         "11/09/2021"
        ],
        [
         "2021-08",
         "shwndVw1zGqrthlkPcPG4Q==",
         "207,74",
         "PF",
         "253",
         "paga",
         "05/09/2021"
        ],
        [
         "2021-08",
         "ZR7+wr3OFB72ifiNpXK5IQ==",
         "208,56",
         "PF",
         "254",
         "paga",
         "11/09/2021"
        ],
        [
         "2021-08",
         "qxUSgu+zB79dRUUnPBf4pQ==",
         "209,38",
         "PF",
         "255",
         "atrasada",
         "06/09/2021"
        ],
        [
         "2021-06",
         "WTpHPPpw6n6K73Kn4TvYbA==",
         "210,2",
         "PF",
         "256",
         "paga",
         "11/07/2021"
        ],
        [
         "2021-07",
         "l0Po1vbj/D+wctXi/hJlgw==",
         "210,2",
         "PF",
         "256",
         "paga",
         "11/08/2021"
        ],
        [
         "2021-07",
         "oAb47SQTmCBWvYHaZJp4Zw==",
         "210,2",
         "PF",
         "256",
         "atrasada",
         "25/07/2021"
        ],
        [
         "2021-08",
         "ZPMqlZaHH+qePZGELZ/zXw==",
         "210,2",
         "PF",
         "256",
         "paga",
         "17/09/2021"
        ],
        [
         "2021-08",
         "3iscblEJoomexIIF583b6Q==",
         "210,2",
         "PF",
         "256",
         "paga",
         "06/09/2021"
        ],
        [
         "2021-06",
         "IKm2dnudOjyN46LpDQfqWQ==",
         "211,02",
         "PF",
         "257",
         "paga",
         "11/08/2021"
        ],
        [
         "2021-08",
         "WTpHPPpw6n6K73Kn4TvYbA==",
         "211,02",
         "PF",
         "257",
         "paga",
         "11/09/2021"
        ],
        [
         "2021-07",
         "1t0FGYFPJnFiOT4OiSr2Qg==",
         "211,84",
         "PF",
         "258",
         "paga",
         "17/08/2021"
        ],
        [
         "2021-07",
         "IfAPs4X77tHTC8Ag35jstA==",
         "211,84",
         "PF",
         "258",
         "atrasada",
         "18/08/2021"
        ],
        [
         "2021-08",
         "hwsCnqOsxvd4nVv30AIpEw==",
         "211,84",
         "PF",
         "258",
         "paga",
         "10/09/2021"
        ],
        [
         "2021-08",
         "+mMBVi+BS6u3oPciSg763A==",
         "211,84",
         "PF",
         "258",
         "paga",
         "08/09/2021"
        ],
        [
         "2021-06",
         "Y0LVpcOIlwFV4ZHD388N5g==",
         "212,66",
         "PF",
         "259",
         "paga",
         "13/08/2021"
        ],
        [
         "2021-08",
         "LKIxI00kd/4eTtxBNd10sw==",
         "212,66",
         "PF",
         "259",
         "atrasada",
         "03/09/2021"
        ],
        [
         "2021-06",
         "HeZIp8A0HcKUqfmU/K/vOA==",
         "214,31",
         "PF",
         "261",
         "paga",
         "05/07/2021"
        ],
        [
         "2021-08",
         "QgIi9OeDhJ/kEJrQuTmBNw==",
         "214,31",
         "PF",
         "261",
         "paga",
         "11/09/2021"
        ],
        [
         "2021-08",
         "/1QmPKzXASmRxsbo5VPFkw==",
         "214,31",
         "PF",
         "261",
         "paga",
         "10/09/2021"
        ],
        [
         "2021-08",
         "KijJoa+RlAAxw2kd1+tu6A==",
         "215,13",
         "PF",
         "262",
         "paga",
         "06/09/2021"
        ],
        [
         "2021-08",
         "8rkximqi9PHrfJpqelngsA==",
         "215,95",
         "PF",
         "263",
         "paga",
         "09/09/2021"
        ],
        [
         "2021-08",
         "bmHKyqKB7FNiDSPyOdEclg==",
         "215,95",
         "PF",
         "263",
         "paga",
         "08/09/2021"
        ],
        [
         "2021-08",
         "bxtxhMHSwNxt28KUNj0d4Q==",
         "216,77",
         "PF",
         "264",
         "paga",
         "06/09/2021"
        ],
        [
         "2021-08",
         "wXmvieklQhPSeoTjQCaZMg==",
         "216,77",
         "PF",
         "264",
         "paga",
         "22/08/2021"
        ],
        [
         "2021-08",
         "3+xYGEQos3A+LxUvjpGPHg==",
         "216,77",
         "PF",
         "264",
         "paga",
         "03/09/2021"
        ],
        [
         "2021-08",
         "QAccwWgsKNeKsqIGdGUq1w==",
         "216,77",
         "PF",
         "264",
         "atrasada",
         "18/09/2021"
        ],
        [
         "2021-06",
         "IGTswX+emqylQK310JzQdw==",
         "217,59",
         "PF",
         "265",
         "paga",
         "11/07/2021"
        ],
        [
         "2021-07",
         "xo6Ti926k8PyHtQvmCCQLg==",
         "217,59",
         "PF",
         "265",
         "paga",
         "11/08/2021"
        ],
        [
         "2021-08",
         "SxgeJXc75wptndiayWOGsA==",
         "217,59",
         "PF",
         "265",
         "paga",
         "25/08/2021"
        ],
        [
         "2021-06",
         "LcAslXI1pkNZ3gl7fs8hJA==",
         "218,41",
         "PF",
         "266",
         "paga",
         "25/06/2021"
        ],
        [
         "2021-07",
         "WoZqEf2ehYldQ/gNawHTeg==",
         "218,41",
         "PF",
         "266",
         "paga",
         "10/08/2021"
        ],
        [
         "2021-08",
         "4i3wt7x4ZTWbDxWzHH8SSw==",
         "218,41",
         "PF",
         "266",
         "atrasada",
         "22/09/2021"
        ],
        [
         "2021-06",
         "s6Ti+6xVP6wMCOpTkcS5DA==",
         "220,88",
         "PF",
         "269",
         "paga",
         "05/07/2021"
        ],
        [
         "2021-08",
         "qylb6MA8QRdi+SFPS3VmVw==",
         "220,88",
         "PF",
         "269",
         "paga",
         "27/08/2021"
        ],
        [
         "2021-06",
         "JedxCD3PsKu1/oQhn4pYaw==",
         "224,16",
         "PF",
         "273",
         "paga",
         "01/08/2021"
        ],
        [
         "2021-08",
         "sNIklII88BPXRiYRyxAmbQ==",
         "224,16",
         "PF",
         "273",
         "paga",
         "09/09/2021"
        ],
        [
         "2021-08",
         "wpSjqV6Zp3vBx1609Rd9tQ==",
         "224,98",
         "PF",
         "274",
         "paga",
         "02/09/2021"
        ],
        [
         "2021-08",
         "v3ph1Ccjsm+K+qWk3C2MCw==",
         "224,98",
         "PF",
         "274",
         "paga",
         "05/09/2021"
        ],
        [
         "2021-08",
         "OspIR5TKD4dvBtefONBSoQ==",
         "224,98",
         "PF",
         "274",
         "paga",
         "22/08/2021"
        ],
        [
         "2021-08",
         "YpKw8+7AIUemmXDfloZVBA==",
         "224,98",
         "PF",
         "274",
         "atrasada",
         "05/09/2021"
        ],
        [
         "2021-08",
         "66huBi4cPSx3iSDTHcGVEA==",
         "225,8",
         "PF",
         "275",
         "paga",
         "03/09/2021"
        ],
        [
         "2021-08",
         "4/ssLQW9k1O8LR0kJ/uT6w==",
         "225,8",
         "PF",
         "275",
         "paga",
         "08/09/2021"
        ],
        [
         "2021-07",
         "Hf1v5L/6SEmqHPYMSlnRdw==",
         "226,62",
         "PF",
         "276",
         "paga",
         "23/07/2021"
        ],
        [
         "2021-06",
         "XtH/YeoPsdw5VVyvYoMqHA==",
         "227,44",
         "PF",
         "277",
         "paga",
         "05/07/2021"
        ],
        [
         "2021-06",
         "IfAPs4X77tHTC8Ag35jstA==",
         "229,09",
         "PF",
         "279",
         "atrasada",
         "18/08/2021"
        ],
        [
         "2021-07",
         "SWF/C+LFRderNYEre8dfpg==",
         "229,09",
         "PF",
         "279",
         "paga",
         "09/08/2021"
        ],
        [
         "2021-07",
         "VnzrNPuVeaMv42hXcmhH8A==",
         "229,91",
         "PF",
         "280",
         "paga",
         "11/08/2021"
        ],
        [
         "2021-08",
         "OAReC7+gXNFkOM/SCtjscg==",
         "229,91",
         "PF",
         "280",
         "paga",
         "10/09/2021"
        ],
        [
         "2021-08",
         "Md8hF2TXjBuvaMKO3GoklQ==",
         "230,73",
         "PJ",
         "281",
         "paga",
         "22/08/2021"
        ],
        [
         "2021-06",
         "ahDp3oos3j7mI55w65Mtyw==",
         "231,55",
         "PF",
         "282",
         "paga",
         "14/07/2021"
        ],
        [
         "2021-06",
         "HHN7OMwIQ7GxPboqwDO/kQ==",
         "232,37",
         "PF",
         "283",
         "paga",
         "22/07/2021"
        ],
        [
         "2021-06",
         "+eccAsc0YcE1HVGcYWPAQw==",
         "232,37",
         "PF",
         "283",
         "paga",
         "11/07/2021"
        ],
        [
         "2021-08",
         "pK6NpJ84geJiNGm6pK+RkQ==",
         "232,37",
         "PF",
         "283",
         "paga",
         "22/08/2021"
        ],
        [
         "2021-08",
         "p8CIAT6f5tasN71PXpTEEQ==",
         "233,19",
         "PF",
         "284",
         "paga",
         "11/09/2021"
        ],
        [
         "2021-08",
         "vMGbtDBRxmRqyhA+emQYuQ==",
         "233,19",
         "PF",
         "284",
         "atrasada",
         "22/09/2021"
        ],
        [
         "2021-08",
         "aUVQxsPA71sRXUCVso8eqw==",
         "233,19",
         "PF",
         "284",
         "paga",
         "04/09/2021"
        ],
        [
         "2021-08",
         "DLRdET/NZHPCbJSgIGThRA==",
         "234,01",
         "PF",
         "285",
         "paga",
         "11/09/2021"
        ],
        [
         "2021-08",
         "Gmuk7Nvdbecp5GNpi7fplw==",
         "234,83",
         "PF",
         "286",
         "atrasada",
         "11/09/2021"
        ],
        [
         "2021-08",
         "xhfiL/mAaXtaS4pSCkUGuA==",
         "234,83",
         "PF",
         "286",
         "paga",
         "22/08/2021"
        ],
        [
         "2021-08",
         "a9+nbO5cuvwJYIYAHcPcrg==",
         "236,48",
         "PF",
         "288",
         "atrasada",
         "11/09/2021"
        ],
        [
         "2021-07",
         "4r+PAX1MKgvCV+Z05SpLKQ==",
         "237,3",
         "PF",
         "289",
         "paga",
         "17/08/2021"
        ],
        [
         "2021-08",
         "x3RKSBwZ5rgX+iv3t20X0g==",
         "238,12",
         "PF",
         "290",
         "paga",
         "09/09/2021"
        ],
        [
         "2021-07",
         "OSZlcyxf7q+qdBBg/dcDnQ==",
         "239,76",
         "PF",
         "292",
         "paga",
         "05/08/2021"
        ],
        [
         "2021-08",
         "sHd4+fo53XGeq06aimTthA==",
         "239,76",
         "PF",
         "292",
         "atrasada",
         "06/09/2021"
        ],
        [
         "2021-08",
         "ny1geuE7pWQLxbglldGI+w==",
         "240,58",
         "PF",
         "293",
         "paga",
         "06/09/2021"
        ],
        [
         "2021-08",
         "dai+sjs9u7IItyjuLyoqsA==",
         "240,58",
         "PF",
         "293",
         "atrasada",
         "27/08/2021"
        ],
        [
         "2021-08",
         "ihXi1EOI/0MMg4R2/2klmQ==",
         "242,22",
         "PF",
         "295",
         "paga",
         "06/09/2021"
        ],
        [
         "2021-06",
         "ZPMqlZaHH+qePZGELZ/zXw==",
         "243,87",
         "PF",
         "297",
         "paga",
         "04/07/2021"
        ],
        [
         "2021-08",
         "E/8WZ5irsMHXg1miDh/uNA==",
         "243,87",
         "PF",
         "297",
         "paga",
         "02/09/2021"
        ],
        [
         "2021-08",
         "JedxCD3PsKu1/oQhn4pYaw==",
         "243,87",
         "PF",
         "297",
         "paga",
         "01/10/2021"
        ],
        [
         "2021-08",
         "wOUVGpMY7f16XTjpBWQ6CQ==",
         "243,87",
         "PF",
         "297",
         "paga",
         "05/10/2021"
        ],
        [
         "2021-08",
         "/uD35UdBFtaPkFtxVpgYaQ==",
         "243,87",
         "PF",
         "297",
         "paga",
         "17/09/2021"
        ],
        [
         "2021-08",
         "MiADKvNNwRES0l8ziJejyg==",
         "243,87",
         "PF",
         "297",
         "atrasada",
         "11/09/2021"
        ],
        [
         "2021-08",
         "0AlcjEbpg7YnofQTGmo8iQ==",
         "243,87",
         "PF",
         "297",
         "paga",
         "22/09/2021"
        ],
        [
         "2021-08",
         "5yEf2wtx35YxnIw0WhJvSw==",
         "243,87",
         "PF",
         "297",
         "paga",
         "25/08/2021"
        ],
        [
         "2021-08",
         "RLGgEEST0wKTtjmUpkgedQ==",
         "243,87",
         "PF",
         "297",
         "paga",
         "06/09/2021"
        ],
        [
         "2021-08",
         "QuyDjSA+HpH38esNg7QufA==",
         "244,69",
         "PF",
         "298",
         "paga",
         "01/09/2021"
        ],
        [
         "2021-07",
         "/rIJHWogLgPPsCSicMig7w==",
         "248,79",
         "PF",
         "303",
         "atrasada",
         "06/08/2021"
        ],
        [
         "2021-07",
         "SxgeJXc75wptndiayWOGsA==",
         "248,79",
         "PF",
         "303",
         "paga",
         "25/07/2021"
        ],
        [
         "2021-08",
         "1t0FGYFPJnFiOT4OiSr2Qg==",
         "248,79",
         "PF",
         "303",
         "paga",
         "17/09/2021"
        ],
        [
         "2021-07",
         "GqVhTdLnn0v23vKr3GI06w==",
         "249,61",
         "PF",
         "304",
         "paga",
         "17/08/2021"
        ],
        [
         "2021-08",
         "IfAPs4X77tHTC8Ag35jstA==",
         "249,61",
         "PF",
         "304",
         "atrasada",
         "23/08/2021"
        ],
        [
         "2021-08",
         "l0Po1vbj/D+wctXi/hJlgw==",
         "250,44",
         "PF",
         "305",
         "paga",
         "11/09/2021"
        ],
        [
         "2021-08",
         "aFEi4VsOtL1P66vITcBlfA==",
         "251,26",
         "PJ",
         "306",
         "paga",
         "06/09/2021"
        ],
        [
         "2021-06",
         "6tUZF18ismxRus+1vQakWw==",
         "252,9",
         "PF",
         "308",
         "paga",
         "17/07/2021"
        ],
        [
         "2021-08",
         "KM5i56deYjq7WMZqbRQVFQ==",
         "252,9",
         "PF",
         "308",
         "paga",
         "11/09/2021"
        ],
        [
         "2021-08",
         "jflL/zbIvgrUOSZ9/+9RCA==",
         "254,54",
         "PF",
         "310",
         "paga",
         "25/08/2021"
        ],
        [
         "2021-06",
         "LH2SSA/LV4ZrsOdxSaO8Ww==",
         "256,18",
         "PF",
         "312",
         "paga",
         "22/07/2021"
        ],
        [
         "2021-08",
         "LH2SSA/LV4ZrsOdxSaO8Ww==",
         "256,18",
         "PF",
         "312",
         "paga",
         "22/09/2021"
        ],
        [
         "2021-08",
         "ip4OcGIqVRmGsaPjiLkEGQ==",
         "258,65",
         "PF",
         "315",
         "paga",
         "18/09/2021"
        ],
        [
         "2021-08",
         "G8lzjf+uXDYv8q80zOhVvQ==",
         "260,29",
         "PF",
         "317",
         "paga",
         "27/08/2021"
        ],
        [
         "2021-08",
         "6tUZF18ismxRus+1vQakWw==",
         "261,11",
         "PF",
         "318",
         "paga",
         "17/09/2021"
        ],
        [
         "2021-08",
         "m6setGOl8+0O557JhpaLkQ==",
         "263,57",
         "PF",
         "321",
         "paga",
         "18/09/2021"
        ],
        [
         "2021-08",
         "vzx5l88UfFAhjlFJRK1gzA==",
         "263,57",
         "PF",
         "321",
         "em aberto",
         "01/11/2021"
        ],
        [
         "2021-08",
         "I+SNpka9KvAmziv7COoF7w==",
         "263,57",
         "PF",
         "321",
         "atrasada",
         "01/09/2021"
        ],
        [
         "2021-08",
         "zRcpUKgQQWeGNNV65At1Hw==",
         "264,39",
         "PF",
         "322",
         "paga",
         "17/09/2021"
        ],
        [
         "2021-08",
         "qqQBvTopF4YCGCVrULzULg==",
         "264,39",
         "PF",
         "322",
         "paga",
         "02/09/2021"
        ],
        [
         "2021-08",
         "kkDaavtIoHIFoKUTel7Rww==",
         "265,22",
         "PF",
         "323",
         "paga",
         "08/09/2021"
        ],
        [
         "2021-06",
         "kkDaavtIoHIFoKUTel7Rww==",
         "266,04",
         "PF",
         "324",
         "paga",
         "08/07/2021"
        ],
        [
         "2021-06",
         "m6setGOl8+0O557JhpaLkQ==",
         "266,86",
         "PF",
         "325",
         "paga",
         "18/07/2021"
        ],
        [
         "2021-07",
         "6v5r4HKrPa8aTSgHXN7Rwg==",
         "266,86",
         "PF",
         "325",
         "paga",
         "06/08/2021"
        ],
        [
         "2021-06",
         "Hf1v5L/6SEmqHPYMSlnRdw==",
         "268,5",
         "PF",
         "327",
         "paga",
         "23/06/2021"
        ],
        [
         "2021-08",
         "Lrbgx9nDLOqljSlXKETzeA==",
         "268,5",
         "PF",
         "327",
         "paga",
         "06/09/2021"
        ],
        [
         "2021-08",
         "u5oOe/e4XTuYcjkOg51KIA==",
         "270,14",
         "PF",
         "329",
         "atrasada",
         "25/08/2021"
        ],
        [
         "2021-08",
         "lp1xeTIft2Epd9mcjPc51Q==",
         "270,14",
         "PF",
         "329",
         "paga",
         "05/09/2021"
        ],
        [
         "2021-08",
         "arjq/ls9+BHgjW15kV2yEA==",
         "270,14",
         "PF",
         "329",
         "paga",
         "06/09/2021"
        ],
        [
         "2021-08",
         "UmXb5XzbhIpTE5H6vCf1LA==",
         "271,78",
         "PF",
         "331",
         "atrasada",
         "15/09/2021"
        ],
        [
         "2021-08",
         "1Azh3nxFWtFYlI+Sh8bglg==",
         "272,61",
         "PJ",
         "332",
         "paga",
         "22/08/2021"
        ],
        [
         "2021-08",
         "dHY9hQmNOB/Ko+M218c6Ow==",
         "280",
         "PF",
         "341",
         "paga",
         "27/09/2021"
        ],
        [
         "2021-07",
         "xyiE1mNrzpJZLLWGp6P95g==",
         "280,82",
         "PF",
         "342",
         "paga",
         "25/07/2021"
        ],
        [
         "2021-08",
         "+eccAsc0YcE1HVGcYWPAQw==",
         "281,64",
         "PF",
         "343",
         "paga",
         "11/09/2021"
        ],
        [
         "2021-08",
         "SWF/C+LFRderNYEre8dfpg==",
         "281,64",
         "PF",
         "343",
         "paga",
         "09/09/2021"
        ],
        [
         "2021-08",
         "xyqzLzZYftbxYjt/cBsDfw==",
         "284,92",
         "PF",
         "347",
         "paga",
         "06/09/2021"
        ],
        [
         "2021-08",
         "Hw0dLDiwhgjr8jSXBKKzIQ==",
         "284,92",
         "PF",
         "347",
         "paga",
         "14/09/2021"
        ],
        [
         "2021-06",
         "SWF/C+LFRderNYEre8dfpg==",
         "286,56",
         "PF",
         "349",
         "paga",
         "09/07/2021"
        ],
        [
         "2021-08",
         "dMSyV7QV6tM6UsTIv9P6yQ==",
         "286,56",
         "PF",
         "349",
         "atrasada",
         "17/09/2021"
        ],
        [
         "2021-06",
         "dHY9hQmNOB/Ko+M218c6Ow==",
         "287,39",
         "PF",
         "350",
         "paga",
         "09/09/2021"
        ],
        [
         "2021-07",
         "dHY9hQmNOB/Ko+M218c6Ow==",
         "287,39",
         "PF",
         "350",
         "paga",
         "09/09/2021"
        ],
        [
         "2021-08",
         "fCUSM2UP573oHoYbWatwLA==",
         "288,21",
         "PF",
         "351",
         "atrasada",
         "18/09/2021"
        ],
        [
         "2021-06",
         "/uD35UdBFtaPkFtxVpgYaQ==",
         "290,67",
         "PF",
         "354",
         "paga",
         "06/08/2021"
        ],
        [
         "2021-06",
         "l5eWnnF0aiTVTrYmNaxvSw==",
         "290,67",
         "PF",
         "354",
         "atrasada",
         "03/07/2021"
        ],
        [
         "2021-08",
         "ljZQHH1rvDF/eCCnveIT8A==",
         "290,67",
         "PF",
         "354",
         "paga",
         "10/09/2021"
        ],
        [
         "2021-08",
         "9Kj48ClCMIPGICkZUUIjQQ==",
         "292,31",
         "PF",
         "356",
         "paga",
         "17/09/2021"
        ],
        [
         "2021-06",
         "DIqSQCYDj1vdzLAv/Es/cw==",
         "293,95",
         "PF",
         "358",
         "atrasada",
         "11/07/2021"
        ],
        [
         "2021-07",
         "dldkrI1U6wMdLiaG+N7qpg==",
         "293,95",
         "PF",
         "358",
         "paga",
         "27/08/2021"
        ],
        [
         "2021-08",
         "ifNwxfzxi0hM7YfoHlR9oA==",
         "293,95",
         "PF",
         "358",
         "paga",
         "17/09/2021"
        ],
        [
         "2021-06",
         "OSZlcyxf7q+qdBBg/dcDnQ==",
         "295,6",
         "PF",
         "360",
         "paga",
         "05/07/2021"
        ],
        [
         "2021-08",
         "fO2A7J0j8erKRiZnbY+TLA==",
         "297,24",
         "PJ",
         "362",
         "paga",
         "14/09/2021"
        ],
        [
         "2021-08",
         "R35+gb1YyFMvsq2a4JmY/A==",
         "298,06",
         "PF",
         "363",
         "atrasada",
         "23/08/2021"
        ],
        [
         "2021-06",
         "R35+gb1YyFMvsq2a4JmY/A==",
         "298,88",
         "PF",
         "364",
         "atrasada",
         "23/06/2021"
        ],
        [
         "2021-08",
         "IcaO+iaZU4TfPNLtjswDhQ==",
         "299,7",
         "PF",
         "365",
         "paga",
         "13/09/2021"
        ],
        [
         "2021-08",
         "VnzrNPuVeaMv42hXcmhH8A==",
         "301,34",
         "PF",
         "367",
         "paga",
         "11/09/2021"
        ],
        [
         "2021-08",
         "6C60MfQkc0MO4UA8hlIZtA==",
         "301,34",
         "PF",
         "367",
         "paga",
         "22/09/2021"
        ],
        [
         "2021-08",
         "Hf1v5L/6SEmqHPYMSlnRdw==",
         "302,99",
         "PF",
         "369",
         "paga",
         "23/08/2021"
        ],
        [
         "2021-07",
         "HHN7OMwIQ7GxPboqwDO/kQ==",
         "303,81",
         "PF",
         "370",
         "paga",
         "22/08/2021"
        ],
        [
         "2021-08",
         "yjWxCdg6FrRuqFrM1+WUxg==",
         "303,81",
         "PF",
         "370",
         "atrasada",
         "27/09/2021"
        ],
        [
         "2021-08",
         "ODEDXGx7PuYWbaKqKJnQ3A==",
         "305,45",
         "PF",
         "372",
         "atrasada",
         "04/09/2021"
        ],
        [
         "2021-07",
         "B2N6+wwgVhM5syJ/OpQv1A==",
         "306,27",
         "PF",
         "373",
         "paga",
         "05/08/2021"
        ],
        [
         "2021-08",
         "4r+PAX1MKgvCV+Z05SpLKQ==",
         "306,27",
         "PF",
         "373",
         "paga",
         "17/09/2021"
        ],
        [
         "2021-07",
         "YieGbjuc/+lZjaLfPIv9AA==",
         "307,91",
         "PF",
         "375",
         "paga",
         "01/08/2021"
        ],
        [
         "2021-08",
         "08uxcc6mTzhK8gkTXpyPrA==",
         "311,2",
         "PF",
         "379",
         "paga",
         "23/08/2021"
        ],
        [
         "2021-06",
         "SxgeJXc75wptndiayWOGsA==",
         "312,02",
         "PF",
         "380",
         "paga",
         "05/07/2021"
        ],
        [
         "2021-08",
         "6v5r4HKrPa8aTSgHXN7Rwg==",
         "312,84",
         "PF",
         "381",
         "paga",
         "06/09/2021"
        ],
        [
         "2021-08",
         "GqVhTdLnn0v23vKr3GI06w==",
         "313,66",
         "PF",
         "382",
         "paga",
         "17/09/2021"
        ],
        [
         "2021-06",
         "6v5r4HKrPa8aTSgHXN7Rwg==",
         "316,12",
         "PF",
         "385",
         "paga",
         "06/07/2021"
        ],
        [
         "2021-08",
         "wrxbkk6f14AQek2mKevGEw==",
         "318,59",
         "PF",
         "388",
         "paga",
         "25/08/2021"
        ],
        [
         "2021-07",
         "mjb2Dnm+u1enrzy/vQq0Kg==",
         "320,23",
         "PF",
         "390",
         "paga",
         "06/08/2021"
        ],
        [
         "2021-08",
         "WoZqEf2ehYldQ/gNawHTeg==",
         "321,87",
         "PF",
         "392",
         "paga",
         "10/09/2021"
        ],
        [
         "2021-06",
         "xo6Ti926k8PyHtQvmCCQLg==",
         "322,69",
         "PF",
         "393",
         "paga",
         "11/07/2021"
        ],
        [
         "2021-07",
         "tZELdVcO9eUpoQydgaTHig==",
         "322,69",
         "PF",
         "393",
         "paga",
         "27/07/2021"
        ],
        [
         "2021-08",
         "HHN7OMwIQ7GxPboqwDO/kQ==",
         "322,69",
         "PF",
         "393",
         "paga",
         "22/09/2021"
        ],
        [
         "2021-06",
         "/rIJHWogLgPPsCSicMig7w==",
         "323,51",
         "PF",
         "394",
         "atrasada",
         "06/07/2021"
        ],
        [
         "2021-06",
         "ffIig3xHjhZVLk0JShtG+A==",
         "325,98",
         "PF",
         "397",
         "paga",
         "27/06/2021"
        ],
        [
         "2021-07",
         "DNZoQa6d+h7eNzFFAtGgHA==",
         "335,83",
         "PF",
         "409",
         "paga",
         "27/07/2021"
        ],
        [
         "2021-06",
         "GqVhTdLnn0v23vKr3GI06w==",
         "336,65",
         "PF",
         "410",
         "paga",
         "17/07/2021"
        ],
        [
         "2021-06",
         "4r+PAX1MKgvCV+Z05SpLKQ==",
         "342,4",
         "PF",
         "417",
         "paga",
         "17/07/2021"
        ],
        [
         "2021-08",
         "MqSeiQbZ3dFmjh4ov/PzDg==",
         "342,4",
         "PF",
         "417",
         "paga",
         "03/09/2021"
        ],
        [
         "2021-08",
         "xw7PjeRIS6FLrS9lMUWH+A==",
         "343,22",
         "PJ",
         "418",
         "paga",
         "01/09/2021"
        ],
        [
         "2021-08",
         "gu6bLEEC1byhKam8IC5nAA==",
         "346,5",
         "PF",
         "422",
         "atrasada",
         "10/09/2021"
        ],
        [
         "2021-06",
         "9tOK/CBVpqxxMPt8FUVJGg==",
         "348,97",
         "PF",
         "425",
         "paga",
         "05/07/2021"
        ],
        [
         "2021-08",
         "D8XJZLQay7E67Y8Qu71GXA==",
         "351,43",
         "PF",
         "428",
         "paga",
         "11/09/2021"
        ],
        [
         "2021-08",
         "ETYOiriNkZXk7hv5nxiy7A==",
         "352,25",
         "PF",
         "429",
         "paga",
         "17/09/2021"
        ],
        [
         "2021-06",
         "VnzrNPuVeaMv42hXcmhH8A==",
         "356,36",
         "PF",
         "434",
         "paga",
         "11/07/2021"
        ],
        [
         "2021-08",
         "mJPp+sy6m8X1G9473KFFjg==",
         "362,11",
         "PJ",
         "441",
         "paga",
         "01/09/2021"
        ],
        [
         "2021-08",
         "dldkrI1U6wMdLiaG+N7qpg==",
         "364,57",
         "PF",
         "444",
         "paga",
         "27/09/2021"
        ],
        [
         "2021-06",
         "WoZqEf2ehYldQ/gNawHTeg==",
         "376,06",
         "PF",
         "458",
         "paga",
         "20/07/2021"
        ],
        [
         "2021-06",
         "B2N6+wwgVhM5syJ/OpQv1A==",
         "376,88",
         "PF",
         "459",
         "paga",
         "05/07/2021"
        ],
        [
         "2021-08",
         "vx7p+kU3A5Sk66ZyJe1mOg==",
         "377,71",
         "PF",
         "460",
         "paga",
         "09/09/2021"
        ],
        [
         "2021-08",
         "yWRYga2iK1r14cM7SknWZg==",
         "379,35",
         "PF",
         "462",
         "paga",
         "08/09/2021"
        ],
        [
         "2021-08",
         "B2N6+wwgVhM5syJ/OpQv1A==",
         "382,63",
         "PF",
         "466",
         "paga",
         "05/09/2021"
        ],
        [
         "2021-08",
         "wZ7L+AcsH9j779BRRz5C0Q==",
         "395,77",
         "PF",
         "482",
         "paga",
         "27/08/2021"
        ],
        [
         "2021-08",
         "6Cg29/GYVNFuOFLErYWNGw==",
         "403,16",
         "PF",
         "491",
         "atrasada",
         "18/09/2021"
        ],
        [
         "2021-06",
         "mjb2Dnm+u1enrzy/vQq0Kg==",
         "403,98",
         "PF",
         "492",
         "paga",
         "01/07/2021"
        ],
        [
         "2021-08",
         "xyiE1mNrzpJZLLWGp6P95g==",
         "408,09",
         "PF",
         "497",
         "paga",
         "25/08/2021"
        ],
        [
         "2021-06",
         "gu6bLEEC1byhKam8IC5nAA==",
         "416,3",
         "PF",
         "507",
         "paga",
         "10/07/2021"
        ],
        [
         "2021-07",
         "5SFNhs8DbCuQqxOF518FlQ==",
         "420,4",
         "PF",
         "512",
         "paga",
         "23/07/2021"
        ],
        [
         "2021-08",
         "xgZ+TBCr5SghFIl0q6E9ug==",
         "421,22",
         "PJ",
         "513",
         "paga",
         "04/09/2021"
        ],
        [
         "2021-08",
         "DNZoQa6d+h7eNzFFAtGgHA==",
         "423,69",
         "PF",
         "516",
         "paga",
         "27/08/2021"
        ],
        [
         "2021-08",
         "/rtBTlRIuJPmWJGYzTPB5w==",
         "432,72",
         "PF",
         "527",
         "atrasada",
         "01/10/2021"
        ],
        [
         "2021-06",
         "YieGbjuc/+lZjaLfPIv9AA==",
         "440,11",
         "PF",
         "536",
         "paga",
         "01/07/2021"
        ],
        [
         "2021-08",
         "lET7UCrjaG7Y3PJ+EdVQCw==",
         "444,22",
         "PF",
         "541",
         "paga",
         "08/09/2021"
        ],
        [
         "2021-06",
         "yWRYga2iK1r14cM7SknWZg==",
         "449,96",
         "PF",
         "548",
         "paga",
         "08/07/2021"
        ],
        [
         "2021-07",
         "4YsZD//BLNvHA3vEjJMfzA==",
         "451,61",
         "PF",
         "550",
         "paga",
         "27/09/2021"
        ],
        [
         "2021-06",
         "hOOl56RQXLu2/z+FZBsxUg==",
         "471,31",
         "PF",
         "574",
         "paga",
         "06/07/2021"
        ],
        [
         "2021-08",
         "hOOl56RQXLu2/z+FZBsxUg==",
         "476,24",
         "PF",
         "580",
         "atrasada",
         "06/09/2021"
        ],
        [
         "2021-08",
         "YieGbjuc/+lZjaLfPIv9AA==",
         "478,7",
         "PF",
         "583",
         "paga",
         "01/09/2021"
        ],
        [
         "2021-08",
         "OSZlcyxf7q+qdBBg/dcDnQ==",
         "516,47",
         "PF",
         "629",
         "paga",
         "05/09/2021"
        ],
        [
         "2021-08",
         "y28VSM3aS1/qpJyCg24zoA==",
         "518,11",
         "PF",
         "631",
         "paga",
         "06/09/2021"
        ],
        [
         "2021-06",
         "DNZoQa6d+h7eNzFFAtGgHA==",
         "527,97",
         "PF",
         "643",
         "paga",
         "27/06/2021"
        ],
        [
         "2021-08",
         "0iRv/b1/+N8vNj9i/ga8YQ==",
         "530,43",
         "PJ",
         "646",
         "paga",
         "22/09/2021"
        ],
        [
         "2021-08",
         "+qKb+ZDCFO77zJLAsRmOFA==",
         "541,1",
         "PF",
         "659",
         "paga",
         "27/08/2021"
        ],
        [
         "2021-08",
         "P404HFVIEKMzYzSluvAMoA==",
         "542,75",
         "PF",
         "661",
         "paga",
         "17/09/2021"
        ],
        [
         "2021-08",
         "uipGA5dMYVovXISpbx+MfQ==",
         "555,88",
         "PJ",
         "677",
         "paga",
         "04/09/2021"
        ],
        [
         "2021-08",
         "Dh5mhIg0AeCF4NxhYQAhHg==",
         "574,77",
         "PF",
         "700",
         "paga",
         "17/09/2021"
        ],
        [
         "2021-07",
         "r3spi5rZqGuovrf9tezYHg==",
         "601,05",
         "PF",
         "732",
         "paga",
         "12/08/2021"
        ],
        [
         "2021-08",
         "Qbg3/aFRvizq+Qcejpckxg==",
         "607,61",
         "PJ",
         "740",
         "paga",
         "17/09/2021"
        ],
        [
         "2021-08",
         "ZItvSuew643bB1LfNWjyNg==",
         "649,49",
         "PJ",
         "791",
         "paga",
         "27/08/2021"
        ],
        [
         "2021-08",
         "tZELdVcO9eUpoQydgaTHig==",
         "649,49",
         "PF",
         "791",
         "paga",
         "27/08/2021"
        ],
        [
         "2021-08",
         "U0bwdaMugZVH0kfbqs3wRQ==",
         "661,81",
         "PJ",
         "806",
         "atrasada",
         "15/10/2021"
        ],
        [
         "2021-08",
         "ccZLtWE9xQ6jTeAImd7law==",
         "666,73",
         "PJ",
         "812",
         "paga",
         "02/09/2021"
        ],
        [
         "2021-08",
         "mJlrTO8gvWJ5Pl97/XZ8pA==",
         "720,1",
         "PF",
         "877",
         "paga",
         "02/09/2021"
        ],
        [
         "2021-07",
         "Df4MGo9x26KkBFARm1jwJw==",
         "754,59",
         "PF",
         "919",
         "paga",
         "17/09/2021"
        ],
        [
         "2021-06",
         "tZELdVcO9eUpoQydgaTHig==",
         "767,73",
         "PF",
         "935",
         "paga",
         "27/06/2021"
        ],
        [
         "2021-08",
         "gq3rEB0kmnUYIf9ipl4G6w==",
         "784,15",
         "PF",
         "955",
         "paga",
         "17/09/2021"
        ],
        [
         "2021-08",
         "YVHoDqoYWQOcM7BYL2QmEw==",
         "797,29",
         "PJ",
         "971",
         "paga",
         "22/09/2021"
        ],
        [
         "2021-08",
         "4nZTYEBLtGoDnDD4z6n3uw==",
         "811,25",
         "PF",
         "988",
         "paga",
         "17/09/2021"
        ],
        [
         "2021-07",
         "7YROeQmoSGowDDblYgl7eQ==",
         "826,85",
         "PF",
         "1007",
         "paga",
         "05/08/2021"
        ],
        [
         "2021-08",
         "rdSqGkIAjpceVTkfUREvwQ==",
         "831,77",
         "PJ",
         "1013",
         "paga",
         "11/09/2021"
        ],
        [
         "2021-08",
         "SiLcDuID2GQGyljUEs9e5w==",
         "838,34",
         "PF",
         "1021",
         "paga",
         "01/09/2021"
        ],
        [
         "2021-08",
         "5SFNhs8DbCuQqxOF518FlQ==",
         "838,34",
         "PF",
         "1021",
         "paga",
         "23/08/2021"
        ],
        [
         "2021-07",
         "WQdo5Xn3eyIRfY8aY7IE/g==",
         "852,3",
         "PJ",
         "1038",
         "paga",
         "06/08/2021"
        ],
        [
         "2021-08",
         "vmhe845xAR+4OMgym11RZA==",
         "906,49",
         "PF",
         "1104",
         "paga",
         "25/08/2021"
        ],
        [
         "2021-08",
         "4YsZD//BLNvHA3vEjJMfzA==",
         "954,12",
         "PF",
         "1162",
         "em aberto",
         "27/10/2021"
        ],
        [
         "2021-08",
         "2a9ygHmG+Ko1/m2WKXuubw==",
         "955,76",
         "PF",
         "1164",
         "paga",
         "22/08/2021"
        ],
        [
         "2021-07",
         "VnDjAU2gfpm+YrXa9dBDUw==",
         "1047,72",
         "PJ",
         "1276",
         "paga",
         "25/07/2021"
        ],
        [
         "2021-08",
         "VnDjAU2gfpm+YrXa9dBDUw==",
         "1070,71",
         "PJ",
         "1304",
         "paga",
         "30/08/2021"
        ],
        [
         "2021-08",
         "xgAVGICSHW4QXHC0yXdSeQ==",
         "1087,96",
         "PF",
         "1325",
         "paga",
         "30/08/2021"
        ],
        [
         "2021-07",
         "vKPnXIg4MWsGrhLcR85F1Q==",
         "1131,48",
         "PJ",
         "1378",
         "paga",
         "04/08/2021"
        ],
        [
         "2021-08",
         "r3spi5rZqGuovrf9tezYHg==",
         "1189,77",
         "PF",
         "1449",
         "paga",
         "04/09/2021"
        ],
        [
         "2021-08",
         "wHTRwcrSZs39TMd6L0DacQ==",
         "1309,65",
         "PJ",
         "1595",
         "paga",
         "18/09/2021"
        ],
        [
         "2021-08",
         "Df4MGo9x26KkBFARm1jwJw==",
         "1324,43",
         "PF",
         "1613",
         "paga",
         "09/09/2021"
        ],
        [
         "2021-07",
         "xESJLNRefLmV7g3ZqBdnQg==",
         "1325,26",
         "PF",
         "1614",
         "paga",
         "23/08/2021"
        ],
        [
         "2021-08",
         "vKPnXIg4MWsGrhLcR85F1Q==",
         "1373,7",
         "PJ",
         "1673",
         "paga",
         "04/09/2021"
        ],
        [
         "2021-08",
         "WQdo5Xn3eyIRfY8aY7IE/g==",
         "1382,73",
         "PJ",
         "1684",
         "paga",
         "16/09/2021"
        ],
        [
         "2021-08",
         "h8iEA6U9qxBHChmfX0QDnA==",
         "1423,79",
         "PJ",
         "1734",
         "paga",
         "02/09/2021"
        ],
        [
         "2021-08",
         "xESJLNRefLmV7g3ZqBdnQg==",
         "1730,06",
         "PF",
         "2107",
         "paga",
         "01/09/2021"
        ],
        [
         "2021-08",
         "7YROeQmoSGowDDblYgl7eQ==",
         "1920,55",
         "PF",
         "2339",
         "paga",
         "05/09/2021"
        ],
        [
         "2021-08",
         "sNKtzvS3tPzSMBr3hS7VpA==",
         "1973,92",
         "PJ",
         "2404",
         "paga",
         "22/08/2021"
        ],
        [
         "2021-08",
         "WbPtJr2F7sf0vuqmZ4kF3A==",
         "2379,55",
         "PJ",
         "2898",
         "paga",
         "27/08/2021"
        ],
        [
         "2021-08",
         "OwRFc3xqZ7lWgK9sUUswxA==",
         "2463,3",
         "PJ",
         "3000",
         "paga",
         "24/09/2021"
        ]
       ],
       "datasetInfos": [],
       "dbfsResultPath": null,
       "isJsonSchema": true,
       "metadata": {},
       "overflow": false,
       "plotOptions": {
        "customPlotOptions": {},
        "displayType": "table",
        "pivotAggregation": null,
        "pivotColumns": null,
        "xColumns": null,
        "yColumns": null
       },
       "removedWidgets": [],
       "schema": [
        {
         "metadata": "{}",
         "name": "competencia",
         "type": "\"string\""
        },
        {
         "metadata": "{}",
         "name": "id_cliente",
         "type": "\"string\""
        },
        {
         "metadata": "{}",
         "name": "valor_fatura",
         "type": "\"string\""
        },
        {
         "metadata": "{}",
         "name": "tipo_cliente",
         "type": "\"string\""
        },
        {
         "metadata": "{}",
         "name": "consumo_energia_kwh",
         "type": "\"string\""
        },
        {
         "metadata": "{}",
         "name": "status_fatura",
         "type": "\"string\""
        },
        {
         "metadata": "{}",
         "name": "data_vencimento",
         "type": "\"string\""
        }
       ],
       "type": "table"
      }
     },
     "output_type": "display_data"
    }
   ],
   "source": [
    "%sql\n",
    "\n",
    "select * from base_faturamento_1_csv"
   ]
  },
  {
   "cell_type": "code",
   "execution_count": 0,
   "metadata": {
    "application/vnd.databricks.v1+cell": {
     "cellMetadata": {
      "byteLimit": 2048000,
      "implicitDf": true,
      "rowLimit": 10000
     },
     "inputWidgets": {},
     "nuid": "79738ea6-8877-4228-b0d4-640f4afe7502",
     "showTitle": false,
     "tableResultSettingsMap": {},
     "title": ""
    }
   },
   "outputs": [
    {
     "output_type": "display_data",
     "data": {
      "text/html": [
       "<style scoped>\n",
       "  .table-result-container {\n",
       "    max-height: 300px;\n",
       "    overflow: auto;\n",
       "  }\n",
       "  table, th, td {\n",
       "    border: 1px solid black;\n",
       "    border-collapse: collapse;\n",
       "  }\n",
       "  th, td {\n",
       "    padding: 5px;\n",
       "  }\n",
       "  th {\n",
       "    text-align: left;\n",
       "  }\n",
       "</style><div class='table-result-container'><table class='table-result'><thead style='background-color: white'><tr><th>total_faturado</th></tr></thead><tbody><tr><td>158316.13</td></tr></tbody></table></div>"
      ]
     },
     "metadata": {
      "application/vnd.databricks.v1+output": {
       "addedWidgets": {},
       "aggData": [],
       "aggError": "",
       "aggOverflow": false,
       "aggSchema": [],
       "aggSeriesLimitReached": false,
       "aggType": "",
       "arguments": {},
       "columnCustomDisplayInfos": {},
       "data": [
        [
         "158316.13"
        ]
       ],
       "datasetInfos": [],
       "dbfsResultPath": null,
       "isJsonSchema": true,
       "metadata": {},
       "overflow": false,
       "plotOptions": {
        "customPlotOptions": {},
        "displayType": "table",
        "pivotAggregation": null,
        "pivotColumns": null,
        "xColumns": null,
        "yColumns": null
       },
       "removedWidgets": [],
       "schema": [
        {
         "metadata": "{}",
         "name": "total_faturado",
         "type": "\"decimal(20,2)\""
        }
       ],
       "type": "table"
      }
     },
     "output_type": "display_data"
    }
   ],
   "source": [
    "%sql\n",
    "\n",
    "select\n",
    "   SUM(CAST(regexp_replace(valor_fatura, ',', '.') AS DECIMAL(10, 2))) as total_faturado\n",
    "from base_faturamento_1_csv;\n"
   ]
  },
  {
   "cell_type": "markdown",
   "metadata": {
    "application/vnd.databricks.v1+cell": {
     "cellMetadata": {},
     "inputWidgets": {},
     "nuid": "92c678e1-b3b1-4250-81fa-19d420122539",
     "showTitle": false,
     "tableResultSettingsMap": {},
     "title": ""
    }
   },
   "source": [
    "# Taxa de inadimplência (faturas atrasadas)\n",
    "\n",
    "* Foi analisado que a relação de faturas de energia possui uma taxa de inadimplencia alta de 20.22%\n",
    "* E tambem um total de 141 faturas em atrasos do total de 697"
   ]
  },
  {
   "cell_type": "code",
   "execution_count": 0,
   "metadata": {
    "application/vnd.databricks.v1+cell": {
     "cellMetadata": {
      "byteLimit": 2048000,
      "implicitDf": true,
      "rowLimit": 10000
     },
     "inputWidgets": {},
     "nuid": "1815ec70-9611-49ce-ba96-0af86b7a76fc",
     "showTitle": false,
     "tableResultSettingsMap": {},
     "title": ""
    }
   },
   "outputs": [
    {
     "output_type": "display_data",
     "data": {
      "text/html": [
       "<style scoped>\n",
       "  .table-result-container {\n",
       "    max-height: 300px;\n",
       "    overflow: auto;\n",
       "  }\n",
       "  table, th, td {\n",
       "    border: 1px solid black;\n",
       "    border-collapse: collapse;\n",
       "  }\n",
       "  th, td {\n",
       "    padding: 5px;\n",
       "  }\n",
       "  th {\n",
       "    text-align: left;\n",
       "  }\n",
       "</style><div class='table-result-container'><table class='table-result'><thead style='background-color: white'><tr><th>total_faturas</th><th>faturas_atrasadas</th><th>taxa_inadimplencia</th></tr></thead><tbody><tr><td>697</td><td>141</td><td>20.22955523672884</td></tr></tbody></table></div>"
      ]
     },
     "metadata": {
      "application/vnd.databricks.v1+output": {
       "addedWidgets": {},
       "aggData": [],
       "aggError": "",
       "aggOverflow": false,
       "aggSchema": [],
       "aggSeriesLimitReached": false,
       "aggType": "",
       "arguments": {},
       "columnCustomDisplayInfos": {},
       "data": [
        [
         697,
         141,
         20.22955523672884
        ]
       ],
       "datasetInfos": [],
       "dbfsResultPath": null,
       "isJsonSchema": true,
       "metadata": {},
       "overflow": false,
       "plotOptions": {
        "customPlotOptions": {},
        "displayType": "table",
        "pivotAggregation": null,
        "pivotColumns": null,
        "xColumns": null,
        "yColumns": null
       },
       "removedWidgets": [],
       "schema": [
        {
         "metadata": "{}",
         "name": "total_faturas",
         "type": "\"long\""
        },
        {
         "metadata": "{}",
         "name": "faturas_atrasadas",
         "type": "\"long\""
        },
        {
         "metadata": "{}",
         "name": "taxa_inadimplencia",
         "type": "\"double\""
        }
       ],
       "type": "table"
      }
     },
     "output_type": "display_data"
    }
   ],
   "source": [
    "%sql\n",
    "SELECT \n",
    "    COUNT(*) AS total_faturas, \n",
    "    SUM(CASE WHEN status_fatura = 'atrasada' THEN 1 ELSE 0 END) AS faturas_atrasadas, \n",
    "    (SUM(CASE WHEN status_fatura = 'atrasada' THEN 1 ELSE 0 END) / COUNT(*)) * 100 AS taxa_inadimplencia\n",
    "FROM base_faturamento_1_csv;\n"
   ]
  },
  {
   "cell_type": "markdown",
   "metadata": {
    "application/vnd.databricks.v1+cell": {
     "cellMetadata": {},
     "inputWidgets": {},
     "nuid": "572365f7-4c28-4321-b9b8-3787dec63242",
     "showTitle": false,
     "tableResultSettingsMap": {},
     "title": ""
    }
   },
   "source": [
    "# Comportamento de consumo de energia\n",
    "\n",
    "* Para o comportamento de consumo foi analisado uma média para duas pessoas PF e PJ\n",
    "* Há um consumo de energia por kwh para pessoas jurídicas do que pessoas física.\n",
    "* Há um consumo médio de 245.88 para PF e 841 para PJ"
   ]
  },
  {
   "cell_type": "code",
   "execution_count": 0,
   "metadata": {
    "application/vnd.databricks.v1+cell": {
     "cellMetadata": {
      "byteLimit": 2048000,
      "implicitDf": true,
      "rowLimit": 10000
     },
     "inputWidgets": {},
     "nuid": "6e3267ef-92a5-40e6-94aa-23f28c0cb44a",
     "showTitle": false,
     "tableResultSettingsMap": {},
     "title": ""
    }
   },
   "outputs": [
    {
     "output_type": "display_data",
     "data": {
      "text/html": [
       "<style scoped>\n",
       "  .table-result-container {\n",
       "    max-height: 300px;\n",
       "    overflow: auto;\n",
       "  }\n",
       "  table, th, td {\n",
       "    border: 1px solid black;\n",
       "    border-collapse: collapse;\n",
       "  }\n",
       "  th, td {\n",
       "    padding: 5px;\n",
       "  }\n",
       "  th {\n",
       "    text-align: left;\n",
       "  }\n",
       "</style><div class='table-result-container'><table class='table-result'><thead style='background-color: white'><tr><th>tipo_cliente</th><th>consumo_medio</th><th>maior_consumo</th><th>menor_consumo</th></tr></thead><tbody><tr><td>PF</td><td>245.8895612708018</td><td>99</td><td>1007</td></tr><tr><td>PJ</td><td>841.0277777777778</td><td>971</td><td>1013</td></tr></tbody></table></div>"
      ]
     },
     "metadata": {
      "application/vnd.databricks.v1+output": {
       "addedWidgets": {},
       "aggData": [],
       "aggError": "",
       "aggOverflow": false,
       "aggSchema": [],
       "aggSeriesLimitReached": false,
       "aggType": "",
       "arguments": {},
       "columnCustomDisplayInfos": {},
       "data": [
        [
         "PF",
         245.8895612708018,
         "99",
         "1007"
        ],
        [
         "PJ",
         841.0277777777778,
         "971",
         "1013"
        ]
       ],
       "datasetInfos": [],
       "dbfsResultPath": null,
       "isJsonSchema": true,
       "metadata": {},
       "overflow": false,
       "plotOptions": {
        "customPlotOptions": {},
        "displayType": "table",
        "pivotAggregation": null,
        "pivotColumns": null,
        "xColumns": null,
        "yColumns": null
       },
       "removedWidgets": [],
       "schema": [
        {
         "metadata": "{}",
         "name": "tipo_cliente",
         "type": "\"string\""
        },
        {
         "metadata": "{}",
         "name": "consumo_medio",
         "type": "\"double\""
        },
        {
         "metadata": "{}",
         "name": "maior_consumo",
         "type": "\"string\""
        },
        {
         "metadata": "{}",
         "name": "menor_consumo",
         "type": "\"string\""
        }
       ],
       "type": "table"
      }
     },
     "output_type": "display_data"
    },
    {
     "output_type": "display_data",
     "data": {
      "text/plain": [
       "Databricks visualization. Run in Databricks to view."
      ]
     },
     "metadata": {
      "application/vnd.databricks.v1.subcommand+json": {
       "baseErrorDetails": null,
       "bindings": {},
       "collapsed": false,
       "command": "%sql WITH q AS (SELECT tipo_cliente, AVG(consumo_energia_kwh) AS consumo_medio, \n       MAX(consumo_energia_kwh) AS maior_consumo, \n       MIN(consumo_energia_kwh) AS menor_consumo\nFROM base_faturamento_csv \nGROUP BY tipo_cliente) SELECT `menor_consumo`,PERCENTILE(`consumo_medio`,0.5) `column_63258cde13`,`maior_consumo` FROM q GROUP BY `maior_consumo`,`menor_consumo`",
       "commandTitle": "Visualization 1",
       "commandType": "auto",
       "commandVersion": 0,
       "commentThread": [],
       "commentsVisible": false,
       "contentSha256Hex": null,
       "customPlotOptions": {
        "redashChart": [
         {
          "key": "type",
          "value": "CHART"
         },
         {
          "key": "options",
          "value": {
           "alignYAxesAtZero": false,
           "coefficient": 1,
           "columnConfigurationMap": {
            "series": {
             "column": "maior_consumo",
             "id": "column_63258cde16"
            },
            "x": {
             "column": "menor_consumo",
             "id": "column_63258cde11"
            },
            "y": [
             {
              "column": "consumo_medio",
              "id": "column_63258cde13",
              "transform": "MEDIAN"
             }
            ]
           },
           "dateTimeFormat": "DD/MM/YYYY HH:mm",
           "direction": {
            "type": "counterclockwise"
           },
           "error_y": {
            "type": "data",
            "visible": true
           },
           "globalSeriesType": "area",
           "isAggregationOn": true,
           "legend": {
            "traceorder": "normal"
           },
           "missingValuesAsZero": true,
           "numberFormat": "0,0.[00000]",
           "percentFormat": "0[.]00%",
           "series": {
            "error_y": {
             "type": "data",
             "visible": true
            },
            "stacking": null
           },
           "seriesOptions": {
            "": {
             "color": "#FB8D3D",
             "type": "area"
            },
            "971": {
             "color": "#FF7DE3"
            },
            "99": {
             "color": "#000000"
            },
            "column_63258cde13": {
             "type": "area",
             "yAxis": 0
            }
           },
           "showDataLabels": false,
           "sizemode": "diameter",
           "sortX": true,
           "sortY": true,
           "swappedAxes": false,
           "textFormat": "",
           "useAggregationsUi": true,
           "valuesOptions": {},
           "version": 2,
           "xAxis": {
            "labels": {
             "enabled": true
            },
            "type": "category"
           },
           "yAxis": [
            {
             "rangeMin": 0,
             "type": "linear"
            },
            {
             "opposite": true,
             "type": "-"
            }
           ]
          }
         }
        ]
       },
       "datasetPreviewNameToCmdIdMap": {},
       "diffDeletes": [],
       "diffInserts": [],
       "displayType": "redashChart",
       "error": null,
       "errorDetails": null,
       "errorSummary": null,
       "errorTraceType": null,
       "finishTime": 0,
       "globalVars": {},
       "guid": "",
       "height": "auto",
       "hideCommandCode": false,
       "hideCommandResult": false,
       "iPythonMetadata": null,
       "inputWidgets": {},
       "isLockedInExamMode": false,
       "latestUser": "a user",
       "latestUserId": null,
       "listResultMetadata": null,
       "metadata": {},
       "nuid": "95380ffc-b7aa-4601-a4fd-4f4b44994b6c",
       "origId": 0,
       "parentHierarchy": [],
       "pivotAggregation": null,
       "pivotColumns": null,
       "position": 4.5,
       "resultDbfsErrorMessage": null,
       "resultDbfsStatus": "INLINED_IN_TREE",
       "results": null,
       "showCommandTitle": false,
       "startTime": 0,
       "state": "input",
       "streamStates": {},
       "subcommandOptions": {
        "queryPlan": {
         "groups": [
          {
           "column": "menor_consumo",
           "type": "column"
          },
          {
           "column": "maior_consumo",
           "type": "column"
          }
         ],
         "selects": [
          {
           "column": "menor_consumo",
           "type": "column"
          },
          {
           "alias": "column_63258cde13",
           "args": [
            {
             "column": "consumo_medio",
             "type": "column"
            },
            {
             "number": 0.5,
             "type": "number"
            }
           ],
           "function": "PERCENTILE",
           "type": "function"
          },
          {
           "column": "maior_consumo",
           "type": "column"
          }
         ]
        }
       },
       "submitTime": 0,
       "subtype": "tableResultSubCmd.visualization",
       "tableResultIndex": 0,
       "tableResultSettingsMap": {},
       "useConsistentColors": false,
       "version": "CommandV1",
       "width": "auto",
       "workflows": [],
       "xColumns": null,
       "yColumns": null
      }
     },
     "output_type": "display_data"
    }
   ],
   "source": [
    "%sql\n",
    "SELECT tipo_cliente, AVG(consumo_energia_kwh) AS consumo_medio, \n",
    "       MAX(consumo_energia_kwh) AS maior_consumo, \n",
    "       MIN(consumo_energia_kwh) AS menor_consumo\n",
    "FROM base_faturamento_1_csv \n",
    "GROUP BY tipo_cliente;\n"
   ]
  },
  {
   "cell_type": "markdown",
   "metadata": {
    "application/vnd.databricks.v1+cell": {
     "cellMetadata": {},
     "inputWidgets": {},
     "nuid": "07c4315c-9994-4eb0-ae94-38f557565a6c",
     "showTitle": false,
     "tableResultSettingsMap": {},
     "title": ""
    }
   },
   "source": [
    "# Faturamento por tipo de cliente\n",
    "\n",
    "* tambem há um valor de faturamento Total maior para PF do que PJ.\n",
    "* Um faturamento total de 133455.69 para PF e 24860.44 para PJ"
   ]
  },
  {
   "cell_type": "code",
   "execution_count": 0,
   "metadata": {
    "application/vnd.databricks.v1+cell": {
     "cellMetadata": {
      "byteLimit": 2048000,
      "implicitDf": true,
      "rowLimit": 10000
     },
     "inputWidgets": {},
     "nuid": "d482a3e4-cf09-4ead-ae2a-cb38a513be0c",
     "showTitle": false,
     "tableResultSettingsMap": {},
     "title": ""
    }
   },
   "outputs": [
    {
     "output_type": "display_data",
     "data": {
      "text/html": [
       "<style scoped>\n",
       "  .table-result-container {\n",
       "    max-height: 300px;\n",
       "    overflow: auto;\n",
       "  }\n",
       "  table, th, td {\n",
       "    border: 1px solid black;\n",
       "    border-collapse: collapse;\n",
       "  }\n",
       "  th, td {\n",
       "    padding: 5px;\n",
       "  }\n",
       "  th {\n",
       "    text-align: left;\n",
       "  }\n",
       "</style><div class='table-result-container'><table class='table-result'><thead style='background-color: white'><tr><th>tipo_cliente</th><th>faturamento_total</th><th>faturamento_medio</th></tr></thead><tbody><tr><td>PF</td><td>133455.69</td><td>201.899682</td></tr><tr><td>PJ</td><td>24860.44</td><td>690.567778</td></tr></tbody></table></div>"
      ]
     },
     "metadata": {
      "application/vnd.databricks.v1+output": {
       "addedWidgets": {},
       "aggData": [],
       "aggError": "",
       "aggOverflow": false,
       "aggSchema": [],
       "aggSeriesLimitReached": false,
       "aggType": "",
       "arguments": {},
       "columnCustomDisplayInfos": {},
       "data": [
        [
         "PF",
         "133455.69",
         "201.899682"
        ],
        [
         "PJ",
         "24860.44",
         "690.567778"
        ]
       ],
       "datasetInfos": [],
       "dbfsResultPath": null,
       "isJsonSchema": true,
       "metadata": {},
       "overflow": false,
       "plotOptions": {
        "customPlotOptions": {},
        "displayType": "table",
        "pivotAggregation": null,
        "pivotColumns": null,
        "xColumns": null,
        "yColumns": null
       },
       "removedWidgets": [],
       "schema": [
        {
         "metadata": "{}",
         "name": "tipo_cliente",
         "type": "\"string\""
        },
        {
         "metadata": "{}",
         "name": "faturamento_total",
         "type": "\"decimal(20,2)\""
        },
        {
         "metadata": "{}",
         "name": "faturamento_medio",
         "type": "\"decimal(14,6)\""
        }
       ],
       "type": "table"
      }
     },
     "output_type": "display_data"
    }
   ],
   "source": [
    "%sql\n",
    "SELECT tipo_cliente, \n",
    "       SUM(CAST(regexp_replace(valor_fatura, ',', '.') AS DECIMAL(10, 2)))AS faturamento_total, \n",
    "       AVG(CAST(regexp_replace(valor_fatura, ',', '.') AS DECIMAL(10, 2))) AS faturamento_medio\n",
    "FROM base_faturamento_1_csv\n",
    "GROUP BY tipo_cliente;\n"
   ]
  },
  {
   "cell_type": "markdown",
   "metadata": {
    "application/vnd.databricks.v1+cell": {
     "cellMetadata": {},
     "inputWidgets": {},
     "nuid": "13725da3-6853-4345-b884-2ea6f485e6c4",
     "showTitle": false,
     "tableResultSettingsMap": {},
     "title": ""
    }
   },
   "source": [
    "# Análise de períodos de vencimento das faturas\n",
    "\n",
    "* Tambem observou uma media de faturamento por competencia que configura os meses como maior valor faturado.\n",
    "* Há uma predominância de valor total faturado para o mês de agosto com 450 faturas  e faturamento em real de 110835.\n",
    "* como tambem uma predominânica de valor faturado menor no mês de junho total de 76 faturas e faturamento em real de 18885."
   ]
  },
  {
   "cell_type": "code",
   "execution_count": 0,
   "metadata": {
    "application/vnd.databricks.v1+cell": {
     "cellMetadata": {
      "byteLimit": 2048000,
      "implicitDf": true,
      "rowLimit": 10000
     },
     "inputWidgets": {},
     "nuid": "40444a27-89c7-469e-bc6b-188f75f215a9",
     "showTitle": false,
     "tableResultSettingsMap": {},
     "title": ""
    }
   },
   "outputs": [
    {
     "output_type": "display_data",
     "data": {
      "text/html": [
       "<style scoped>\n",
       "  .table-result-container {\n",
       "    max-height: 300px;\n",
       "    overflow: auto;\n",
       "  }\n",
       "  table, th, td {\n",
       "    border: 1px solid black;\n",
       "    border-collapse: collapse;\n",
       "  }\n",
       "  th, td {\n",
       "    padding: 5px;\n",
       "  }\n",
       "  th {\n",
       "    text-align: left;\n",
       "  }\n",
       "</style><div class='table-result-container'><table class='table-result'><thead style='background-color: white'><tr><th>competencia</th><th>total_faturas</th><th>faturamento_total</th><th>faturamento_medio</th></tr></thead><tbody><tr><td>2021-06</td><td>76</td><td>18885.33</td><td>248.491184</td></tr><tr><td>2021-07</td><td>171</td><td>28595.50</td><td>167.225146</td></tr><tr><td>2021-08</td><td>450</td><td>110835.30</td><td>246.300667</td></tr></tbody></table></div>"
      ]
     },
     "metadata": {
      "application/vnd.databricks.v1+output": {
       "addedWidgets": {},
       "aggData": [],
       "aggError": "",
       "aggOverflow": false,
       "aggSchema": [],
       "aggSeriesLimitReached": false,
       "aggType": "",
       "arguments": {},
       "columnCustomDisplayInfos": {},
       "data": [
        [
         "2021-06",
         76,
         "18885.33",
         "248.491184"
        ],
        [
         "2021-07",
         171,
         "28595.50",
         "167.225146"
        ],
        [
         "2021-08",
         450,
         "110835.30",
         "246.300667"
        ]
       ],
       "datasetInfos": [],
       "dbfsResultPath": null,
       "isJsonSchema": true,
       "metadata": {},
       "overflow": false,
       "plotOptions": {
        "customPlotOptions": {},
        "displayType": "table",
        "pivotAggregation": null,
        "pivotColumns": null,
        "xColumns": null,
        "yColumns": null
       },
       "removedWidgets": [],
       "schema": [
        {
         "metadata": "{}",
         "name": "competencia",
         "type": "\"string\""
        },
        {
         "metadata": "{}",
         "name": "total_faturas",
         "type": "\"long\""
        },
        {
         "metadata": "{}",
         "name": "faturamento_total",
         "type": "\"decimal(20,2)\""
        },
        {
         "metadata": "{}",
         "name": "faturamento_medio",
         "type": "\"decimal(14,6)\""
        }
       ],
       "type": "table"
      }
     },
     "output_type": "display_data"
    }
   ],
   "source": [
    "%sql\n",
    "SELECT competencia, \n",
    "       COUNT(*) AS total_faturas, \n",
    "       SUM(CAST(regexp_replace(valor_fatura, ',', '.') AS DECIMAL(10, 2))) AS faturamento_total, \n",
    "       AVG(CAST(regexp_replace(valor_fatura, ',', '.') AS DECIMAL(10, 2))) AS faturamento_medio\n",
    "FROM base_faturamento_1_csv\n",
    "GROUP BY competencia\n",
    "ORDER BY competencia;\n"
   ]
  },
  {
   "cell_type": "markdown",
   "metadata": {
    "application/vnd.databricks.v1+cell": {
     "cellMetadata": {},
     "inputWidgets": {},
     "nuid": "e29280e3-38fb-4e5c-823d-10c8b708dcd4",
     "showTitle": false,
     "tableResultSettingsMap": {},
     "title": ""
    }
   },
   "source": [
    "#Análise de atrasos no pagamento (tempo de atraso)"
   ]
  },
  {
   "cell_type": "code",
   "execution_count": 0,
   "metadata": {
    "application/vnd.databricks.v1+cell": {
     "cellMetadata": {
      "byteLimit": 2048000,
      "implicitDf": true,
      "rowLimit": 10000
     },
     "inputWidgets": {},
     "nuid": "9234e94f-95c0-4889-8416-ec8c78dbd419",
     "showTitle": false,
     "tableResultSettingsMap": {},
     "title": ""
    }
   },
   "outputs": [],
   "source": [
    "%sql\n",
    "-- SELECT AVG(DATEDIFF(data_vencimento)) AS media_dias_atraso\n",
    "-- FROM base_faturamento_csv\n",
    "-- WHERE status_fatura = 'atrasada';\n"
   ]
  },
  {
   "cell_type": "markdown",
   "metadata": {
    "application/vnd.databricks.v1+cell": {
     "cellMetadata": {},
     "inputWidgets": {},
     "nuid": "316cc081-4e7e-4c5b-a654-5adf72b453d1",
     "showTitle": false,
     "tableResultSettingsMap": {},
     "title": ""
    }
   },
   "source": [
    "# Clientes com maior valor de fatura (clientes VIP)\n",
    "\n",
    "\n",
    "* Foi observado uma insidência de clientes de categoria PJ com maior valor de fatura a pagar com os clientes que podem ser considerados VIP."
   ]
  },
  {
   "cell_type": "code",
   "execution_count": 0,
   "metadata": {
    "application/vnd.databricks.v1+cell": {
     "cellMetadata": {
      "byteLimit": 2048000,
      "implicitDf": true,
      "rowLimit": 10000
     },
     "inputWidgets": {},
     "nuid": "a8926f18-8aa6-4d78-9b60-4c47a07fed6b",
     "showTitle": false,
     "tableResultSettingsMap": {},
     "title": ""
    }
   },
   "outputs": [
    {
     "output_type": "display_data",
     "data": {
      "text/html": [
       "<style scoped>\n",
       "  .table-result-container {\n",
       "    max-height: 300px;\n",
       "    overflow: auto;\n",
       "  }\n",
       "  table, th, td {\n",
       "    border: 1px solid black;\n",
       "    border-collapse: collapse;\n",
       "  }\n",
       "  th, td {\n",
       "    padding: 5px;\n",
       "  }\n",
       "  th {\n",
       "    text-align: left;\n",
       "  }\n",
       "</style><div class='table-result-container'><table class='table-result'><thead style='background-color: white'><tr><th>id_cliente</th><th>tipo_cliente</th><th>total_faturado</th></tr></thead><tbody><tr><td>xESJLNRefLmV7g3ZqBdnQg==</td><td>PF</td><td>3055.32</td></tr><tr><td>7YROeQmoSGowDDblYgl7eQ==</td><td>PF</td><td>2747.40</td></tr><tr><td>vKPnXIg4MWsGrhLcR85F1Q==</td><td>PJ</td><td>2505.18</td></tr><tr><td>OwRFc3xqZ7lWgK9sUUswxA==</td><td>PJ</td><td>2463.30</td></tr><tr><td>WbPtJr2F7sf0vuqmZ4kF3A==</td><td>PJ</td><td>2379.55</td></tr><tr><td>WQdo5Xn3eyIRfY8aY7IE/g==</td><td>PJ</td><td>2235.03</td></tr><tr><td>VnDjAU2gfpm+YrXa9dBDUw==</td><td>PJ</td><td>2118.43</td></tr><tr><td>Df4MGo9x26KkBFARm1jwJw==</td><td>PF</td><td>2079.02</td></tr><tr><td>sNKtzvS3tPzSMBr3hS7VpA==</td><td>PJ</td><td>1973.92</td></tr><tr><td>r3spi5rZqGuovrf9tezYHg==</td><td>PF</td><td>1790.82</td></tr></tbody></table></div>"
      ]
     },
     "metadata": {
      "application/vnd.databricks.v1+output": {
       "addedWidgets": {},
       "aggData": [],
       "aggError": "",
       "aggOverflow": false,
       "aggSchema": [],
       "aggSeriesLimitReached": false,
       "aggType": "",
       "arguments": {},
       "columnCustomDisplayInfos": {},
       "data": [
        [
         "xESJLNRefLmV7g3ZqBdnQg==",
         "PF",
         "3055.32"
        ],
        [
         "7YROeQmoSGowDDblYgl7eQ==",
         "PF",
         "2747.40"
        ],
        [
         "vKPnXIg4MWsGrhLcR85F1Q==",
         "PJ",
         "2505.18"
        ],
        [
         "OwRFc3xqZ7lWgK9sUUswxA==",
         "PJ",
         "2463.30"
        ],
        [
         "WbPtJr2F7sf0vuqmZ4kF3A==",
         "PJ",
         "2379.55"
        ],
        [
         "WQdo5Xn3eyIRfY8aY7IE/g==",
         "PJ",
         "2235.03"
        ],
        [
         "VnDjAU2gfpm+YrXa9dBDUw==",
         "PJ",
         "2118.43"
        ],
        [
         "Df4MGo9x26KkBFARm1jwJw==",
         "PF",
         "2079.02"
        ],
        [
         "sNKtzvS3tPzSMBr3hS7VpA==",
         "PJ",
         "1973.92"
        ],
        [
         "r3spi5rZqGuovrf9tezYHg==",
         "PF",
         "1790.82"
        ]
       ],
       "datasetInfos": [],
       "dbfsResultPath": null,
       "isJsonSchema": true,
       "metadata": {},
       "overflow": false,
       "plotOptions": {
        "customPlotOptions": {},
        "displayType": "table",
        "pivotAggregation": null,
        "pivotColumns": null,
        "xColumns": null,
        "yColumns": null
       },
       "removedWidgets": [],
       "schema": [
        {
         "metadata": "{}",
         "name": "id_cliente",
         "type": "\"string\""
        },
        {
         "metadata": "{}",
         "name": "tipo_cliente",
         "type": "\"string\""
        },
        {
         "metadata": "{}",
         "name": "total_faturado",
         "type": "\"decimal(20,2)\""
        }
       ],
       "type": "table"
      }
     },
     "output_type": "display_data"
    }
   ],
   "source": [
    "%sql\n",
    "SELECT id_cliente, tipo_cliente, \n",
    "SUM(CAST(regexp_replace(valor_fatura, ',', '.') AS DECIMAL(10, 2))) AS total_faturado\n",
    "FROM base_faturamento_1_csv\n",
    "GROUP BY id_cliente, tipo_cliente\n",
    "ORDER BY total_faturado DESC\n",
    "LIMIT 10;\n"
   ]
  },
  {
   "cell_type": "markdown",
   "metadata": {
    "application/vnd.databricks.v1+cell": {
     "cellMetadata": {},
     "inputWidgets": {},
     "nuid": "b679cea1-332a-4c94-a997-ac47c26b9c5b",
     "showTitle": false,
     "tableResultSettingsMap": {},
     "title": ""
    }
   },
   "source": [
    "# Análise da frequência de atraso por cliente\n",
    "\n",
    "* Tambem foi observado alguns clientes com maior quantidade de fatura atrasadas e seu total numero maior de 3 faturas total de 793.\n"
   ]
  },
  {
   "cell_type": "code",
   "execution_count": 0,
   "metadata": {
    "application/vnd.databricks.v1+cell": {
     "cellMetadata": {
      "byteLimit": 2048000,
      "implicitDf": true,
      "rowLimit": 10000
     },
     "inputWidgets": {},
     "nuid": "96a9239f-3762-4130-8ed4-f5424bbe24a5",
     "showTitle": false,
     "tableResultSettingsMap": {},
     "title": ""
    }
   },
   "outputs": [
    {
     "output_type": "display_data",
     "data": {
      "text/html": [
       "<style scoped>\n",
       "  .table-result-container {\n",
       "    max-height: 300px;\n",
       "    overflow: auto;\n",
       "  }\n",
       "  table, th, td {\n",
       "    border: 1px solid black;\n",
       "    border-collapse: collapse;\n",
       "  }\n",
       "  th, td {\n",
       "    padding: 5px;\n",
       "  }\n",
       "  th {\n",
       "    text-align: left;\n",
       "  }\n",
       "</style><div class='table-result-container'><table class='table-result'><thead style='background-color: white'><tr><th>id_cliente</th><th>qtd_faturas_atrasadas</th><th>total_atrasado</th></tr></thead><tbody><tr><td>R35+gb1YyFMvsq2a4JmY/A==</td><td>3</td><td>793.18</td></tr><tr><td>IfAPs4X77tHTC8Ag35jstA==</td><td>3</td><td>690.54</td></tr><tr><td>/rIJHWogLgPPsCSicMig7w==</td><td>2</td><td>572.30</td></tr><tr><td>Am2uZwnjhEB3D3X05Zdzig==</td><td>3</td><td>544.40</td></tr><tr><td>DIqSQCYDj1vdzLAv/Es/cw==</td><td>2</td><td>476.23</td></tr><tr><td>dMSyV7QV6tM6UsTIv9P6yQ==</td><td>2</td><td>440.93</td></tr><tr><td>l5eWnnF0aiTVTrYmNaxvSw==</td><td>2</td><td>403.16</td></tr><tr><td>u5oOe/e4XTuYcjkOg51KIA==</td><td>2</td><td>397.41</td></tr><tr><td>oAb47SQTmCBWvYHaZJp4Zw==</td><td>2</td><td>378.53</td></tr><tr><td>a9+nbO5cuvwJYIYAHcPcrg==</td><td>2</td><td>363.75</td></tr><tr><td>vMGbtDBRxmRqyhA+emQYuQ==</td><td>2</td><td>345.68</td></tr><tr><td>Smf+XPSZqvZ1D0bBNAZs7Q==</td><td>2</td><td>320.23</td></tr><tr><td>XxUJzSWohZpUtzmVGQgmsA==</td><td>2</td><td>316.94</td></tr><tr><td>UxHch4SzxWmLQzQaTmq3hw==</td><td>2</td><td>312.84</td></tr><tr><td>ttIjSRljsOZg15+xtpOb2A==</td><td>2</td><td>312.01</td></tr><tr><td>ho0zKpjJioZA1Ouom/ka9A==</td><td>2</td><td>308.73</td></tr><tr><td>JIEszyQvL0Kv/KIPuvLBHA==</td><td>2</td><td>301.35</td></tr><tr><td>lj5eb6IkwfvdDanmrolJBg==</td><td>2</td><td>280.81</td></tr><tr><td>3Q1MDRbEREGqzPqvoQVTPg==</td><td>2</td><td>275.06</td></tr><tr><td>Pg3I1Vs6l0MAYB4Msm/UAg==</td><td>2</td><td>257.00</td></tr><tr><td>vpOmlK02ZEl1somitY9o/g==</td><td>2</td><td>256.18</td></tr><tr><td>cnSJ9E2i1guqHe8XH5/Ksg==</td><td>2</td><td>251.25</td></tr><tr><td>mjIJhQrgXkCy7rRy7AxJHQ==</td><td>2</td><td>238.12</td></tr><tr><td>mJ/srCit/PlQIzR6jcPXlA==</td><td>2</td><td>229.90</td></tr><tr><td>acoT2u5mHURKRxUAxI7mow==</td><td>2</td><td>226.62</td></tr><tr><td>0huwKrYwGsmRNdMXQAE2jQ==</td><td>2</td><td>197.06</td></tr><tr><td>hKm4b48Uu4/Wz2h9xG8ILA==</td><td>2</td><td>193.78</td></tr><tr><td>puE2imxTzK+1SKFw8HvSeA==</td><td>2</td><td>117.42</td></tr><tr><td>06BNujsLSeJLF8LCu5LA/g==</td><td>2</td><td>110.85</td></tr><tr><td>ZizzQB2y3WeC8WFKlHITYA==</td><td>2</td><td>68.15</td></tr></tbody></table></div>"
      ]
     },
     "metadata": {
      "application/vnd.databricks.v1+output": {
       "addedWidgets": {},
       "aggData": [],
       "aggError": "",
       "aggOverflow": false,
       "aggSchema": [],
       "aggSeriesLimitReached": false,
       "aggType": "",
       "arguments": {},
       "columnCustomDisplayInfos": {},
       "data": [
        [
         "R35+gb1YyFMvsq2a4JmY/A==",
         3,
         "793.18"
        ],
        [
         "IfAPs4X77tHTC8Ag35jstA==",
         3,
         "690.54"
        ],
        [
         "/rIJHWogLgPPsCSicMig7w==",
         2,
         "572.30"
        ],
        [
         "Am2uZwnjhEB3D3X05Zdzig==",
         3,
         "544.40"
        ],
        [
         "DIqSQCYDj1vdzLAv/Es/cw==",
         2,
         "476.23"
        ],
        [
         "dMSyV7QV6tM6UsTIv9P6yQ==",
         2,
         "440.93"
        ],
        [
         "l5eWnnF0aiTVTrYmNaxvSw==",
         2,
         "403.16"
        ],
        [
         "u5oOe/e4XTuYcjkOg51KIA==",
         2,
         "397.41"
        ],
        [
         "oAb47SQTmCBWvYHaZJp4Zw==",
         2,
         "378.53"
        ],
        [
         "a9+nbO5cuvwJYIYAHcPcrg==",
         2,
         "363.75"
        ],
        [
         "vMGbtDBRxmRqyhA+emQYuQ==",
         2,
         "345.68"
        ],
        [
         "Smf+XPSZqvZ1D0bBNAZs7Q==",
         2,
         "320.23"
        ],
        [
         "XxUJzSWohZpUtzmVGQgmsA==",
         2,
         "316.94"
        ],
        [
         "UxHch4SzxWmLQzQaTmq3hw==",
         2,
         "312.84"
        ],
        [
         "ttIjSRljsOZg15+xtpOb2A==",
         2,
         "312.01"
        ],
        [
         "ho0zKpjJioZA1Ouom/ka9A==",
         2,
         "308.73"
        ],
        [
         "JIEszyQvL0Kv/KIPuvLBHA==",
         2,
         "301.35"
        ],
        [
         "lj5eb6IkwfvdDanmrolJBg==",
         2,
         "280.81"
        ],
        [
         "3Q1MDRbEREGqzPqvoQVTPg==",
         2,
         "275.06"
        ],
        [
         "Pg3I1Vs6l0MAYB4Msm/UAg==",
         2,
         "257.00"
        ],
        [
         "vpOmlK02ZEl1somitY9o/g==",
         2,
         "256.18"
        ],
        [
         "cnSJ9E2i1guqHe8XH5/Ksg==",
         2,
         "251.25"
        ],
        [
         "mjIJhQrgXkCy7rRy7AxJHQ==",
         2,
         "238.12"
        ],
        [
         "mJ/srCit/PlQIzR6jcPXlA==",
         2,
         "229.90"
        ],
        [
         "acoT2u5mHURKRxUAxI7mow==",
         2,
         "226.62"
        ],
        [
         "0huwKrYwGsmRNdMXQAE2jQ==",
         2,
         "197.06"
        ],
        [
         "hKm4b48Uu4/Wz2h9xG8ILA==",
         2,
         "193.78"
        ],
        [
         "puE2imxTzK+1SKFw8HvSeA==",
         2,
         "117.42"
        ],
        [
         "06BNujsLSeJLF8LCu5LA/g==",
         2,
         "110.85"
        ],
        [
         "ZizzQB2y3WeC8WFKlHITYA==",
         2,
         "68.15"
        ]
       ],
       "datasetInfos": [],
       "dbfsResultPath": null,
       "isJsonSchema": true,
       "metadata": {},
       "overflow": false,
       "plotOptions": {
        "customPlotOptions": {},
        "displayType": "table",
        "pivotAggregation": null,
        "pivotColumns": null,
        "xColumns": null,
        "yColumns": null
       },
       "removedWidgets": [],
       "schema": [
        {
         "metadata": "{}",
         "name": "id_cliente",
         "type": "\"string\""
        },
        {
         "metadata": "{}",
         "name": "qtd_faturas_atrasadas",
         "type": "\"long\""
        },
        {
         "metadata": "{}",
         "name": "total_atrasado",
         "type": "\"decimal(20,2)\""
        }
       ],
       "type": "table"
      }
     },
     "output_type": "display_data"
    }
   ],
   "source": [
    "%sql\n",
    "SELECT id_cliente, \n",
    "COUNT(*) AS qtd_faturas_atrasadas,\n",
    "SUM(CAST(regexp_replace(valor_fatura, ',', '.') AS DECIMAL(10, 2))) AS total_atrasado\n",
    "FROM base_faturamento_1_csv\n",
    "WHERE status_fatura = 'atrasada'\n",
    "GROUP BY id_cliente\n",
    "HAVING COUNT(*) > 1\n",
    "ORDER BY total_atrasado DESC;\n"
   ]
  },
  {
   "cell_type": "markdown",
   "metadata": {
    "application/vnd.databricks.v1+cell": {
     "cellMetadata": {},
     "inputWidgets": {},
     "nuid": "f92654a2-a842-48cf-ba52-104e1ba957f5",
     "showTitle": false,
     "tableResultSettingsMap": {},
     "title": ""
    }
   },
   "source": [
    "# Análise descritiva\n",
    "\n",
    "* Temos uma alta taxa de inadimplencia em meses chave como observado julho e agosto de 20% no total.\n",
    "esse é um dado a se explorar pelo setor de cobrança, talavez melhorar a comunicação do clientes e incetivar os pagamentos prioritário neste mês.\n",
    "\n",
    "* Temos uma categoria de maior faturamento por cliente. Foi observador que o faturamento maior é de PF do que jurídica. porem um numero de inadimplencia maior para esse grupo pode-se levar ao setor responsavel criar medida para ese grupo, como incentivos e descontos para pagamento antecipados.\n",
    "\n",
    "* Como observado os clientes PJ tem maior consumo e baixa taxa de inadimplencia levando a considerar esse grupo alguns clientes como VIPs para serem tratados pelo setor de ação para clientes como incentivos a esse grupo como suporte e incentivos.\n",
    "\n",
    "* E por ultimo a frequencia de faturas atrasadas por cliente um dado que simula um ranking levando a considerar ao setor responsavel medidas para resolver a questão deste clientes. Com incetivos ao pagto no dia e resolução dos débitos.\n"
   ]
  }
 ],
 "metadata": {
  "application/vnd.databricks.v1+notebook": {
   "dashboards": [],
   "environmentMetadata": null,
   "language": "python",
   "notebookMetadata": {
    "mostRecentlyExecutedCommandWithImplicitDF": {
     "commandId": 4462051836582214,
     "dataframes": [
      "_sqldf"
     ]
    },
    "pythonIndentUnit": 2
   },
   "notebookName": "Explore hive_metastore.default.base_energia_devedores_csv",
   "widgets": {}
  }
 },
 "nbformat": 4,
 "nbformat_minor": 0
}
